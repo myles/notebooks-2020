{
 "cells": [
  {
   "cell_type": "code",
   "execution_count": 1,
   "metadata": {},
   "outputs": [],
   "source": [
    "import requests\n",
    "\n",
    "from secret import GIPHY_API_KEY"
   ]
  },
  {
   "cell_type": "code",
   "execution_count": 2,
   "metadata": {},
   "outputs": [
    {
     "data": {
      "text/plain": [
       "200"
      ]
     },
     "execution_count": 2,
     "metadata": {},
     "output_type": "execute_result"
    }
   ],
   "source": [
    "payload = {'q': 'ryan gosling', 'api_key': GIPHY_API_KEY, 'limit': 5}\n",
    "\n",
    "resp = requests.get('http://api.giphy.com/v1/gifs/search', params=payload)\n",
    "\n",
    "resp.status_code"
   ]
  },
  {
   "cell_type": "code",
   "execution_count": 3,
   "metadata": {},
   "outputs": [
    {
     "data": {
      "text/plain": [
       "200"
      ]
     },
     "execution_count": 3,
     "metadata": {},
     "output_type": "execute_result"
    }
   ],
   "source": [
    "payload = {'api_key': GIPHY_API_KEY}\n",
    "\n",
    "resp = requests.get('http://api.giphy.com/v1/gifs/{}'.format('66Z5s4rg6bNHa'),\n",
    "                    params=payload)\n",
    "\n",
    "resp.status_code"
   ]
  },
  {
   "cell_type": "code",
   "execution_count": 4,
   "metadata": {},
   "outputs": [
    {
     "data": {
      "text/plain": [
       "dict_keys(['type', 'id', 'slug', 'url', 'bitly_gif_url', 'bitly_url', 'embed_url', 'username', 'source', 'rating', 'content_url', 'source_tld', 'source_post_url', 'is_indexable', 'is_sticker', 'import_datetime', 'trending_datetime', 'images', 'title'])"
      ]
     },
     "execution_count": 4,
     "metadata": {},
     "output_type": "execute_result"
    }
   ],
   "source": [
    "gif = resp.json()\n",
    "\n",
    "gif['data'].keys()"
   ]
  },
  {
   "cell_type": "code",
   "execution_count": 5,
   "metadata": {},
   "outputs": [
    {
     "name": "stdout",
     "output_type": "stream",
     "text": [
      "type gif\n",
      "id 66Z5s4rg6bNHa\n",
      "slug reddit-supergirl-lots-66Z5s4rg6bNHa\n",
      "url https://giphy.com/gifs/reddit-supergirl-lots-66Z5s4rg6bNHa\n",
      "bitly_gif_url https://gph.is/1IZlOBX\n",
      "bitly_url https://gph.is/1IZlOBX\n",
      "embed_url https://giphy.com/embed/66Z5s4rg6bNHa\n",
      "username \n",
      "source https://www.reddit.com/r/funny/comments/3h68dq/do_you_think_reddit_will_make_lots_of_supergirl/\n",
      "rating g\n",
      "content_url \n",
      "source_tld www.reddit.com\n",
      "source_post_url https://www.reddit.com/r/funny/comments/3h68dq/do_you_think_reddit_will_make_lots_of_supergirl/\n",
      "is_indexable 0\n",
      "is_sticker 0\n",
      "import_datetime 2015-08-18 09:15:35\n",
      "trending_datetime 0000-00-00 00:00:00\n",
      "images {'fixed_height_still': {'url': 'https://media2.giphy.com/media/66Z5s4rg6bNHa/200_s.gif', 'width': '355', 'height': '200'}, 'original_still': {'url': 'https://media2.giphy.com/media/66Z5s4rg6bNHa/giphy_s.gif', 'width': '700', 'height': '394'}, 'fixed_width': {'url': 'https://media2.giphy.com/media/66Z5s4rg6bNHa/200w.gif', 'width': '200', 'height': '113', 'size': '234709', 'mp4': 'https://media2.giphy.com/media/66Z5s4rg6bNHa/200w.mp4', 'mp4_size': '11161', 'webp': 'https://media2.giphy.com/media/66Z5s4rg6bNHa/200w.webp', 'webp_size': '240904'}, 'fixed_height_small_still': {'url': 'https://media2.giphy.com/media/66Z5s4rg6bNHa/100_s.gif', 'width': '178', 'height': '100'}, 'fixed_height_downsampled': {'url': 'https://media2.giphy.com/media/66Z5s4rg6bNHa/200_d.gif', 'width': '355', 'height': '200', 'size': '209504', 'webp': 'https://media2.giphy.com/media/66Z5s4rg6bNHa/200_d.webp', 'webp_size': '107982'}, 'preview': {'width': '428', 'height': '240', 'mp4': 'https://media2.giphy.com/media/66Z5s4rg6bNHa/giphy-preview.mp4', 'mp4_size': '37677'}, 'fixed_height_small': {'url': 'https://media2.giphy.com/media/66Z5s4rg6bNHa/100.gif', 'width': '178', 'height': '100', 'size': '217228', 'mp4': 'https://media2.giphy.com/media/66Z5s4rg6bNHa/100.mp4', 'mp4_size': '9805', 'webp': 'https://media2.giphy.com/media/66Z5s4rg6bNHa/100.webp', 'webp_size': '198098'}, 'downsized_still': {'url': 'https://media2.giphy.com/media/66Z5s4rg6bNHa/giphy-downsized_s.gif', 'width': '500', 'height': '281', 'size': '91847'}, 'downsized': {'url': 'https://media2.giphy.com/media/66Z5s4rg6bNHa/giphy-downsized.gif', 'width': '500', 'height': '281', 'size': '1929058'}, 'downsized_large': {'url': 'https://media2.giphy.com/media/66Z5s4rg6bNHa/giphy.gif', 'width': '700', 'height': '394', 'size': '3929300'}, 'fixed_width_small_still': {'url': 'https://media2.giphy.com/media/66Z5s4rg6bNHa/100w_s.gif', 'width': '100', 'height': '56'}, 'preview_webp': {'url': 'https://media2.giphy.com/media/66Z5s4rg6bNHa/giphy-preview.webp', 'width': '149', 'height': '84', 'size': '47720'}, 'fixed_width_still': {'url': 'https://media2.giphy.com/media/66Z5s4rg6bNHa/200w_s.gif', 'width': '200', 'height': '113'}, 'fixed_width_small': {'url': 'https://media2.giphy.com/media/66Z5s4rg6bNHa/100w.gif', 'width': '100', 'height': '56', 'size': '63338', 'mp4': 'https://media2.giphy.com/media/66Z5s4rg6bNHa/100w.mp4', 'mp4_size': '4622', 'webp': 'https://media2.giphy.com/media/66Z5s4rg6bNHa/100w.webp', 'webp_size': '81308'}, 'downsized_small': {'width': '700', 'height': '394', 'mp4': 'https://media2.giphy.com/media/66Z5s4rg6bNHa/giphy-downsized-small.mp4', 'mp4_size': '133557'}, 'fixed_width_downsampled': {'url': 'https://media2.giphy.com/media/66Z5s4rg6bNHa/200w_d.gif', 'width': '200', 'height': '113', 'size': '65964', 'webp': 'https://media2.giphy.com/media/66Z5s4rg6bNHa/200w_d.webp', 'webp_size': '45850'}, 'downsized_medium': {'url': 'https://media2.giphy.com/media/66Z5s4rg6bNHa/giphy.gif', 'width': '700', 'height': '394', 'size': '3929300'}, 'original': {'url': 'https://media2.giphy.com/media/66Z5s4rg6bNHa/giphy.gif', 'width': '700', 'height': '394', 'size': '3929300', 'frames': '32', 'mp4': 'https://media2.giphy.com/media/66Z5s4rg6bNHa/giphy.mp4', 'mp4_size': '36296', 'webp': 'https://media2.giphy.com/media/66Z5s4rg6bNHa/giphy.webp', 'webp_size': '1731290'}, 'fixed_height': {'url': 'https://media2.giphy.com/media/66Z5s4rg6bNHa/200.gif', 'width': '355', 'height': '200', 'size': '837878', 'mp4': 'https://media2.giphy.com/media/66Z5s4rg6bNHa/200.mp4', 'mp4_size': '24006', 'webp': 'https://media2.giphy.com/media/66Z5s4rg6bNHa/200.webp', 'webp_size': '564292'}, 'looping': {'mp4': 'https://media2.giphy.com/media/66Z5s4rg6bNHa/giphy-loop.mp4', 'mp4_size': '469494'}, 'original_mp4': {'width': '480', 'height': '270', 'mp4': 'https://media2.giphy.com/media/66Z5s4rg6bNHa/giphy.mp4', 'mp4_size': '36296'}, 'preview_gif': {'url': 'https://media2.giphy.com/media/66Z5s4rg6bNHa/giphy-preview.gif', 'width': '149', 'height': '84', 'size': '39511'}, '480w_still': {'url': 'https://media2.giphy.com/media/66Z5s4rg6bNHa/480w_s.jpg', 'width': '480', 'height': '270'}}\n",
      "title melissa benoist yes GIF\n"
     ]
    }
   ],
   "source": [
    "for k, v in gif['data'].items():\n",
    "    print(k, v)"
   ]
  },
  {
   "cell_type": "code",
   "execution_count": 6,
   "metadata": {},
   "outputs": [
    {
     "name": "stdout",
     "output_type": "stream",
     "text": [
      "fixed_height_still {'url': 'https://media2.giphy.com/media/66Z5s4rg6bNHa/200_s.gif', 'width': '355', 'height': '200'}\n",
      "original_still {'url': 'https://media2.giphy.com/media/66Z5s4rg6bNHa/giphy_s.gif', 'width': '700', 'height': '394'}\n",
      "fixed_width {'url': 'https://media2.giphy.com/media/66Z5s4rg6bNHa/200w.gif', 'width': '200', 'height': '113', 'size': '234709', 'mp4': 'https://media2.giphy.com/media/66Z5s4rg6bNHa/200w.mp4', 'mp4_size': '11161', 'webp': 'https://media2.giphy.com/media/66Z5s4rg6bNHa/200w.webp', 'webp_size': '240904'}\n",
      "fixed_height_small_still {'url': 'https://media2.giphy.com/media/66Z5s4rg6bNHa/100_s.gif', 'width': '178', 'height': '100'}\n",
      "fixed_height_downsampled {'url': 'https://media2.giphy.com/media/66Z5s4rg6bNHa/200_d.gif', 'width': '355', 'height': '200', 'size': '209504', 'webp': 'https://media2.giphy.com/media/66Z5s4rg6bNHa/200_d.webp', 'webp_size': '107982'}\n",
      "preview {'width': '428', 'height': '240', 'mp4': 'https://media2.giphy.com/media/66Z5s4rg6bNHa/giphy-preview.mp4', 'mp4_size': '37677'}\n",
      "fixed_height_small {'url': 'https://media2.giphy.com/media/66Z5s4rg6bNHa/100.gif', 'width': '178', 'height': '100', 'size': '217228', 'mp4': 'https://media2.giphy.com/media/66Z5s4rg6bNHa/100.mp4', 'mp4_size': '9805', 'webp': 'https://media2.giphy.com/media/66Z5s4rg6bNHa/100.webp', 'webp_size': '198098'}\n",
      "downsized_still {'url': 'https://media2.giphy.com/media/66Z5s4rg6bNHa/giphy-downsized_s.gif', 'width': '500', 'height': '281', 'size': '91847'}\n",
      "downsized {'url': 'https://media2.giphy.com/media/66Z5s4rg6bNHa/giphy-downsized.gif', 'width': '500', 'height': '281', 'size': '1929058'}\n",
      "downsized_large {'url': 'https://media2.giphy.com/media/66Z5s4rg6bNHa/giphy.gif', 'width': '700', 'height': '394', 'size': '3929300'}\n",
      "fixed_width_small_still {'url': 'https://media2.giphy.com/media/66Z5s4rg6bNHa/100w_s.gif', 'width': '100', 'height': '56'}\n",
      "preview_webp {'url': 'https://media2.giphy.com/media/66Z5s4rg6bNHa/giphy-preview.webp', 'width': '149', 'height': '84', 'size': '47720'}\n",
      "fixed_width_still {'url': 'https://media2.giphy.com/media/66Z5s4rg6bNHa/200w_s.gif', 'width': '200', 'height': '113'}\n",
      "fixed_width_small {'url': 'https://media2.giphy.com/media/66Z5s4rg6bNHa/100w.gif', 'width': '100', 'height': '56', 'size': '63338', 'mp4': 'https://media2.giphy.com/media/66Z5s4rg6bNHa/100w.mp4', 'mp4_size': '4622', 'webp': 'https://media2.giphy.com/media/66Z5s4rg6bNHa/100w.webp', 'webp_size': '81308'}\n",
      "downsized_small {'width': '700', 'height': '394', 'mp4': 'https://media2.giphy.com/media/66Z5s4rg6bNHa/giphy-downsized-small.mp4', 'mp4_size': '133557'}\n",
      "fixed_width_downsampled {'url': 'https://media2.giphy.com/media/66Z5s4rg6bNHa/200w_d.gif', 'width': '200', 'height': '113', 'size': '65964', 'webp': 'https://media2.giphy.com/media/66Z5s4rg6bNHa/200w_d.webp', 'webp_size': '45850'}\n",
      "downsized_medium {'url': 'https://media2.giphy.com/media/66Z5s4rg6bNHa/giphy.gif', 'width': '700', 'height': '394', 'size': '3929300'}\n",
      "original {'url': 'https://media2.giphy.com/media/66Z5s4rg6bNHa/giphy.gif', 'width': '700', 'height': '394', 'size': '3929300', 'frames': '32', 'mp4': 'https://media2.giphy.com/media/66Z5s4rg6bNHa/giphy.mp4', 'mp4_size': '36296', 'webp': 'https://media2.giphy.com/media/66Z5s4rg6bNHa/giphy.webp', 'webp_size': '1731290'}\n",
      "fixed_height {'url': 'https://media2.giphy.com/media/66Z5s4rg6bNHa/200.gif', 'width': '355', 'height': '200', 'size': '837878', 'mp4': 'https://media2.giphy.com/media/66Z5s4rg6bNHa/200.mp4', 'mp4_size': '24006', 'webp': 'https://media2.giphy.com/media/66Z5s4rg6bNHa/200.webp', 'webp_size': '564292'}\n",
      "looping {'mp4': 'https://media2.giphy.com/media/66Z5s4rg6bNHa/giphy-loop.mp4', 'mp4_size': '469494'}\n",
      "original_mp4 {'width': '480', 'height': '270', 'mp4': 'https://media2.giphy.com/media/66Z5s4rg6bNHa/giphy.mp4', 'mp4_size': '36296'}\n",
      "preview_gif {'url': 'https://media2.giphy.com/media/66Z5s4rg6bNHa/giphy-preview.gif', 'width': '149', 'height': '84', 'size': '39511'}\n",
      "480w_still {'url': 'https://media2.giphy.com/media/66Z5s4rg6bNHa/480w_s.jpg', 'width': '480', 'height': '270'}\n"
     ]
    }
   ],
   "source": [
    "for k, v in gif['data']['images'].items():\n",
    "    print(k, v)"
   ]
  },
  {
   "cell_type": "code",
   "execution_count": 7,
   "metadata": {},
   "outputs": [
    {
     "name": "stdout",
     "output_type": "stream",
     "text": [
      "url https://media2.giphy.com/media/66Z5s4rg6bNHa/giphy.gif\n",
      "width 700\n",
      "height 394\n",
      "size 3929300\n",
      "frames 32\n",
      "mp4 https://media2.giphy.com/media/66Z5s4rg6bNHa/giphy.mp4\n",
      "mp4_size 36296\n",
      "webp https://media2.giphy.com/media/66Z5s4rg6bNHa/giphy.webp\n",
      "webp_size 1731290\n"
     ]
    }
   ],
   "source": [
    "for k, v in gif['data']['images']['original'].items():\n",
    "    print(k, v)"
   ]
  },
  {
   "cell_type": "code",
   "execution_count": 8,
   "metadata": {},
   "outputs": [],
   "source": [
    "image = gif['data']['images']['original']"
   ]
  },
  {
   "cell_type": "code",
   "execution_count": 9,
   "metadata": {},
   "outputs": [],
   "source": [
    "import os.path\n",
    "import shutil\n",
    "\n",
    "import requests\n",
    "\n",
    "def image_download(slug, url):\n",
    "    extension = os.path.splitext(url)[1]\n",
    "    \n",
    "    resp = requests.get(url, stream=True)\n",
    "    \n",
    "    if not resp.ok:\n",
    "        return False\n",
    "    \n",
    "    with open('./downloads/{0}{1}'.format(slug, extension), 'wb') as fobj:\n",
    "        resp.raw.decode_content = True\n",
    "        shutil.copyfileobj(resp.raw, fobj)\n",
    "\n",
    "image_download('supergirl', image['url'])\n",
    "image_download('supergirl', image['mp4'])\n",
    "image_download('supergirl', image['webp'])"
   ]
  },
  {
   "cell_type": "code",
   "execution_count": 10,
   "metadata": {},
   "outputs": [
    {
     "data": {
      "text/plain": [
       "{'msg': 'OK', 'response_id': '5a3a808c666e5353599faf8b', 'status': 200}"
      ]
     },
     "execution_count": 10,
     "metadata": {},
     "output_type": "execute_result"
    }
   ],
   "source": [
    "gif['meta']"
   ]
  },
  {
   "cell_type": "code",
   "execution_count": 11,
   "metadata": {},
   "outputs": [
    {
     "data": {
      "text/plain": [
       "dict_keys(['type', 'id', 'slug', 'url', 'bitly_gif_url', 'bitly_url', 'embed_url', 'username', 'source', 'rating', 'content_url', 'source_tld', 'source_post_url', 'is_indexable', 'is_sticker', 'import_datetime', 'trending_datetime', 'images', 'title'])"
      ]
     },
     "execution_count": 11,
     "metadata": {},
     "output_type": "execute_result"
    }
   ],
   "source": [
    "gif['data'].keys()"
   ]
  },
  {
   "cell_type": "code",
   "execution_count": 12,
   "metadata": {},
   "outputs": [
    {
     "data": {
      "text/plain": [
       "'reddit-supergirl-lots-66Z5s4rg6bNHa'"
      ]
     },
     "execution_count": 12,
     "metadata": {},
     "output_type": "execute_result"
    }
   ],
   "source": [
    "gif['data']['slug']"
   ]
  },
  {
   "cell_type": "code",
   "execution_count": 13,
   "metadata": {},
   "outputs": [
    {
     "data": {
      "text/plain": [
       "'melissa benoist yes GIF'"
      ]
     },
     "execution_count": 13,
     "metadata": {},
     "output_type": "execute_result"
    }
   ],
   "source": [
    "gif['data']['title']"
   ]
  },
  {
   "cell_type": "code",
   "execution_count": 15,
   "metadata": {},
   "outputs": [
    {
     "data": {
      "text/plain": [
       "'https://www.reddit.com/r/funny/comments/3h68dq/do_you_think_reddit_will_make_lots_of_supergirl/'"
      ]
     },
     "execution_count": 15,
     "metadata": {},
     "output_type": "execute_result"
    }
   ],
   "source": [
    "gif['data']['source']"
   ]
  },
  {
   "cell_type": "code",
   "execution_count": 17,
   "metadata": {},
   "outputs": [
    {
     "data": {
      "text/plain": [
       "''"
      ]
     },
     "execution_count": 17,
     "metadata": {},
     "output_type": "execute_result"
    }
   ],
   "source": [
    "gif['data']['content_url']"
   ]
  },
  {
   "cell_type": "code",
   "execution_count": null,
   "metadata": {},
   "outputs": [],
   "source": []
  }
 ],
 "metadata": {
  "kernelspec": {
   "display_name": "Python 3",
   "language": "python",
   "name": "python3"
  },
  "language_info": {
   "codemirror_mode": {
    "name": "ipython",
    "version": 3
   },
   "file_extension": ".py",
   "mimetype": "text/x-python",
   "name": "python",
   "nbconvert_exporter": "python",
   "pygments_lexer": "ipython3",
   "version": "3.6.3"
  }
 },
 "nbformat": 4,
 "nbformat_minor": 2
}
