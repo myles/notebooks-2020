{
 "cells": [
  {
   "cell_type": "code",
   "execution_count": 29,
   "metadata": {},
   "outputs": [],
   "source": [
    "import itertools\n",
    "import requests"
   ]
  },
  {
   "cell_type": "code",
   "execution_count": 30,
   "metadata": {},
   "outputs": [
    {
     "name": "stdout",
     "output_type": "stream",
     "text": [
      "🎉 it worked!\n"
     ]
    }
   ],
   "source": [
    "resp = requests.get('https://gifs.mylesb.ca/api.json')\n",
    "\n",
    "if not resp.ok:\n",
    "    print('💩 it failed.')\n",
    "else:\n",
    "    print('🎉 it worked!')"
   ]
  },
  {
   "cell_type": "code",
   "execution_count": 31,
   "metadata": {},
   "outputs": [
    {
     "name": "stdout",
     "output_type": "stream",
     "text": [
      "191\n"
     ]
    }
   ],
   "source": [
    "gifs = resp.json()\n",
    "\n",
    "print(len(gifs))"
   ]
  },
  {
   "cell_type": "code",
   "execution_count": 32,
   "metadata": {},
   "outputs": [
    {
     "name": "stdout",
     "output_type": "stream",
     "text": [
      "{'date': '2017-12-07T19:16:39', 'height': 311, 'html_url': 'https://gifs.mylesb.ca/coffee/coffee-time/', 'image_url': 'https://gifs.mylesb.ca/coffee/coffee-time/image.gif', 'json_url': 'https://gifs.mylesb.ca/coffee/coffee-time/api.json', 'slug': 'coffee/coffee-time', 'width': 268}\n"
     ]
    }
   ],
   "source": [
    "def search(query):\n",
    "    query = query.lower()\n",
    "    \n",
    "    for gif in gifs:\n",
    "        if any(query in str(value).lower() for value in gif.values()):\n",
    "            yield gif\n",
    "\n",
    "for gif in itertools.islice(search('coffee'), 1):\n",
    "    print(gif)"
   ]
  },
  {
   "cell_type": "code",
   "execution_count": 35,
   "metadata": {},
   "outputs": [
    {
     "data": {
      "application/vnd.jupyter.widget-view+json": {
       "model_id": "7e530af1a92441628a8eb55f3b66e34a",
       "version_major": 2,
       "version_minor": 0
      },
      "text/html": [
       "<p>Failed to display Jupyter Widget of type <code>Text</code>.</p>\n",
       "<p>\n",
       "  If you're reading this message in Jupyter Notebook or JupyterLab, it may mean\n",
       "  that the widgets JavaScript is still loading. If this message persists, it\n",
       "  likely means that the widgets JavaScript library is either not installed or\n",
       "  not enabled. See the <a href=\"https://ipywidgets.readthedocs.io/en/stable/user_install.html\">Jupyter\n",
       "  Widgets Documentation</a> for setup instructions.\n",
       "</p>\n",
       "<p>\n",
       "  If you're reading this message in another notebook frontend (for example, a static\n",
       "  rendering on GitHub or <a href=\"https://nbviewer.jupyter.org/\">NBViewer</a>),\n",
       "  it may mean that your frontend doesn't currently support widgets.\n",
       "</p>\n"
      ],
      "text/plain": [
       "Text(value='', description='Search')"
      ]
     },
     "metadata": {},
     "output_type": "display_data"
    },
    {
     "data": {
      "application/vnd.jupyter.widget-view+json": {
       "model_id": "e5fcdf551e9b4b4db3d7c59ed7018727",
       "version_major": 2,
       "version_minor": 0
      },
      "text/html": [
       "<p>Failed to display Jupyter Widget of type <code>HTML</code>.</p>\n",
       "<p>\n",
       "  If you're reading this message in Jupyter Notebook or JupyterLab, it may mean\n",
       "  that the widgets JavaScript is still loading. If this message persists, it\n",
       "  likely means that the widgets JavaScript library is either not installed or\n",
       "  not enabled. See the <a href=\"https://ipywidgets.readthedocs.io/en/stable/user_install.html\">Jupyter\n",
       "  Widgets Documentation</a> for setup instructions.\n",
       "</p>\n",
       "<p>\n",
       "  If you're reading this message in another notebook frontend (for example, a static\n",
       "  rendering on GitHub or <a href=\"https://nbviewer.jupyter.org/\">NBViewer</a>),\n",
       "  it may mean that your frontend doesn't currently support widgets.\n",
       "</p>\n"
      ],
      "text/plain": [
       "HTML(value='<a href=\"https://gifs.mylesb.ca/bed-frustrated/\"><img src=\"https://gifs.mylesb.ca/bed-frustrated/image.gif\" /></a>')"
      ]
     },
     "metadata": {},
     "output_type": "display_data"
    },
    {
     "data": {
      "application/vnd.jupyter.widget-view+json": {
       "model_id": "166179f55d9d458cb1848a694db3b4f2",
       "version_major": 2,
       "version_minor": 0
      },
      "text/html": [
       "<p>Failed to display Jupyter Widget of type <code>HTML</code>.</p>\n",
       "<p>\n",
       "  If you're reading this message in Jupyter Notebook or JupyterLab, it may mean\n",
       "  that the widgets JavaScript is still loading. If this message persists, it\n",
       "  likely means that the widgets JavaScript library is either not installed or\n",
       "  not enabled. See the <a href=\"https://ipywidgets.readthedocs.io/en/stable/user_install.html\">Jupyter\n",
       "  Widgets Documentation</a> for setup instructions.\n",
       "</p>\n",
       "<p>\n",
       "  If you're reading this message in another notebook frontend (for example, a static\n",
       "  rendering on GitHub or <a href=\"https://nbviewer.jupyter.org/\">NBViewer</a>),\n",
       "  it may mean that your frontend doesn't currently support widgets.\n",
       "</p>\n"
      ],
      "text/plain": [
       "HTML(value='<a href=\"https://gifs.mylesb.ca/bed-raining/\"><img src=\"https://gifs.mylesb.ca/bed-raining/image.gif\" /></a>')"
      ]
     },
     "metadata": {},
     "output_type": "display_data"
    },
    {
     "data": {
      "application/vnd.jupyter.widget-view+json": {
       "model_id": "4f9ecd137dc64086a387f4a5ac3ac5d1",
       "version_major": 2,
       "version_minor": 0
      },
      "text/html": [
       "<p>Failed to display Jupyter Widget of type <code>HTML</code>.</p>\n",
       "<p>\n",
       "  If you're reading this message in Jupyter Notebook or JupyterLab, it may mean\n",
       "  that the widgets JavaScript is still loading. If this message persists, it\n",
       "  likely means that the widgets JavaScript library is either not installed or\n",
       "  not enabled. See the <a href=\"https://ipywidgets.readthedocs.io/en/stable/user_install.html\">Jupyter\n",
       "  Widgets Documentation</a> for setup instructions.\n",
       "</p>\n",
       "<p>\n",
       "  If you're reading this message in another notebook frontend (for example, a static\n",
       "  rendering on GitHub or <a href=\"https://nbviewer.jupyter.org/\">NBViewer</a>),\n",
       "  it may mean that your frontend doesn't currently support widgets.\n",
       "</p>\n"
      ],
      "text/plain": [
       "HTML(value='<a href=\"https://gifs.mylesb.ca/marry-my-bed/\"><img src=\"https://gifs.mylesb.ca/marry-my-bed/image.gif\" /></a>')"
      ]
     },
     "metadata": {},
     "output_type": "display_data"
    },
    {
     "data": {
      "application/vnd.jupyter.widget-view+json": {
       "model_id": "bdd648201c2a490fad53e86c02ff3153",
       "version_major": 2,
       "version_minor": 0
      },
      "text/html": [
       "<p>Failed to display Jupyter Widget of type <code>HTML</code>.</p>\n",
       "<p>\n",
       "  If you're reading this message in Jupyter Notebook or JupyterLab, it may mean\n",
       "  that the widgets JavaScript is still loading. If this message persists, it\n",
       "  likely means that the widgets JavaScript library is either not installed or\n",
       "  not enabled. See the <a href=\"https://ipywidgets.readthedocs.io/en/stable/user_install.html\">Jupyter\n",
       "  Widgets Documentation</a> for setup instructions.\n",
       "</p>\n",
       "<p>\n",
       "  If you're reading this message in another notebook frontend (for example, a static\n",
       "  rendering on GitHub or <a href=\"https://nbviewer.jupyter.org/\">NBViewer</a>),\n",
       "  it may mean that your frontend doesn't currently support widgets.\n",
       "</p>\n"
      ],
      "text/plain": [
       "HTML(value='<a href=\"https://gifs.mylesb.ca/monday-morning/\"><img src=\"https://gifs.mylesb.ca/monday-morning/image.gif\" /></a>')"
      ]
     },
     "metadata": {},
     "output_type": "display_data"
    },
    {
     "data": {
      "application/vnd.jupyter.widget-view+json": {
       "model_id": "ee523365a1dd4f77aa19ec4b2ae31cf1",
       "version_major": 2,
       "version_minor": 0
      },
      "text/html": [
       "<p>Failed to display Jupyter Widget of type <code>HTML</code>.</p>\n",
       "<p>\n",
       "  If you're reading this message in Jupyter Notebook or JupyterLab, it may mean\n",
       "  that the widgets JavaScript is still loading. If this message persists, it\n",
       "  likely means that the widgets JavaScript library is either not installed or\n",
       "  not enabled. See the <a href=\"https://ipywidgets.readthedocs.io/en/stable/user_install.html\">Jupyter\n",
       "  Widgets Documentation</a> for setup instructions.\n",
       "</p>\n",
       "<p>\n",
       "  If you're reading this message in another notebook frontend (for example, a static\n",
       "  rendering on GitHub or <a href=\"https://nbviewer.jupyter.org/\">NBViewer</a>),\n",
       "  it may mean that your frontend doesn't currently support widgets.\n",
       "</p>\n"
      ],
      "text/plain": [
       "HTML(value='<a href=\"https://gifs.mylesb.ca/get-back-in-your-pjs-go-to-bed-eat-nothing-but-ice-cream-and-pizza/\"><img src=\"https://gifs.mylesb.ca/get-back-in-your-pjs-go-to-bed-eat-nothing-but-ice-cream-and-pizza/image.gif\" /></a>')"
      ]
     },
     "metadata": {},
     "output_type": "display_data"
    }
   ],
   "source": [
    "from IPython.display import display\n",
    "from ipywidgets import widgets\n",
    "\n",
    "result_template = '<a href=\"{html_url}\"><img src=\"{image_url}\" /></a>'\n",
    "search_field = widgets.Text(description='Search')\n",
    "display(search_field)\n",
    "\n",
    "def handle_submit(sender):\n",
    "    gifs = search(search_field.value)\n",
    "    \n",
    "    for gif in gifs:\n",
    "        display(widgets.HTML(value=result_template.format(**gif)))\n",
    "\n",
    "search_field.on_submit(handle_submit)"
   ]
  },
  {
   "cell_type": "code",
   "execution_count": null,
   "metadata": {},
   "outputs": [],
   "source": []
  }
 ],
 "metadata": {
  "kernelspec": {
   "display_name": "Python 3",
   "language": "python",
   "name": "python3"
  },
  "language_info": {
   "codemirror_mode": {
    "name": "ipython",
    "version": 3
   },
   "file_extension": ".py",
   "mimetype": "text/x-python",
   "name": "python",
   "nbconvert_exporter": "python",
   "pygments_lexer": "ipython3",
   "version": "3.6.3"
  },
  "widgets": {
   "application/vnd.jupyter.widget-state+json": {
    "state": {
     "00377438dc1b4eecb8fca3f937a3bce8": {
      "model_module": "@jupyter-widgets/base",
      "model_module_version": "1.0.0",
      "model_name": "LayoutModel",
      "state": {}
     },
     "00bb8285a9074c71a75991dad0151463": {
      "model_module": "@jupyter-widgets/base",
      "model_module_version": "1.0.0",
      "model_name": "LayoutModel",
      "state": {}
     },
     "074d9f1334374d08a8079cf38c8e5967": {
      "model_module": "@jupyter-widgets/controls",
      "model_module_version": "1.0.0",
      "model_name": "DescriptionStyleModel",
      "state": {
       "description_width": ""
      }
     },
     "0886df63c6334fc5b6e86ad4512bf000": {
      "model_module": "@jupyter-widgets/base",
      "model_module_version": "1.0.0",
      "model_name": "LayoutModel",
      "state": {}
     },
     "0aaf795078684b25a86cbbee89311058": {
      "model_module": "@jupyter-widgets/controls",
      "model_module_version": "1.0.0",
      "model_name": "HTMLModel",
      "state": {
       "layout": "IPY_MODEL_0e2a3b69d7254cf0bb2d43bd3748a4a0",
       "style": "IPY_MODEL_7f8bdaf147d64cbdb4cbb73feb48b645",
       "value": "<a href=\"https://gifs.mylesb.ca/coffee/share-coffee/\"><img src=\"https://gifs.mylesb.ca/coffee/share-coffee/image.gif\" /></a>"
      }
     },
     "0d129ac66a154876b2f5e47443ffff3b": {
      "model_module": "@jupyter-widgets/base",
      "model_module_version": "1.0.0",
      "model_name": "LayoutModel",
      "state": {}
     },
     "0e2a3b69d7254cf0bb2d43bd3748a4a0": {
      "model_module": "@jupyter-widgets/base",
      "model_module_version": "1.0.0",
      "model_name": "LayoutModel",
      "state": {}
     },
     "0f8d62c3d789482ab59ddf2fec3e8c10": {
      "model_module": "@jupyter-widgets/controls",
      "model_module_version": "1.0.0",
      "model_name": "HTMLModel",
      "state": {
       "layout": "IPY_MODEL_3a67ec68c8fd419ead7c46b740fde04b",
       "style": "IPY_MODEL_5c5d305520ce4328b26295a3d8d89fbb",
       "value": "<a href=\"https://gifs.mylesb.ca/coffee/black-like-my-heart/\"><img src=\"https://gifs.mylesb.ca/coffee/black-like-my-heart/image.gif\" /></a>"
      }
     },
     "0fd6eeff8a3e4a88b1c0887e9fb164a1": {
      "model_module": "@jupyter-widgets/base",
      "model_module_version": "1.0.0",
      "model_name": "LayoutModel",
      "state": {}
     },
     "1285e023da5246cb977792c71561e15d": {
      "model_module": "@jupyter-widgets/controls",
      "model_module_version": "1.0.0",
      "model_name": "DescriptionStyleModel",
      "state": {
       "description_width": ""
      }
     },
     "136c4ba404ef4035a77c8e53527da422": {
      "model_module": "@jupyter-widgets/controls",
      "model_module_version": "1.0.0",
      "model_name": "DescriptionStyleModel",
      "state": {
       "description_width": ""
      }
     },
     "1510382285244cdb9cc7d54f0e5f6fce": {
      "model_module": "@jupyter-widgets/base",
      "model_module_version": "1.0.0",
      "model_name": "LayoutModel",
      "state": {}
     },
     "166179f55d9d458cb1848a694db3b4f2": {
      "model_module": "@jupyter-widgets/controls",
      "model_module_version": "1.0.0",
      "model_name": "HTMLModel",
      "state": {
       "layout": "IPY_MODEL_87f8a2cefd2945c0bb119854889bea30",
       "style": "IPY_MODEL_f6685023f47d43ae90739c2989911697",
       "value": "<a href=\"https://gifs.mylesb.ca/bed-raining/\"><img src=\"https://gifs.mylesb.ca/bed-raining/image.gif\" /></a>"
      }
     },
     "1889764c29744f55a48fa58fb1829a15": {
      "model_module": "@jupyter-widgets/controls",
      "model_module_version": "1.0.0",
      "model_name": "DescriptionStyleModel",
      "state": {
       "description_width": ""
      }
     },
     "1a0ae861c35d4bf4807ba4532d8df2ed": {
      "model_module": "@jupyter-widgets/controls",
      "model_module_version": "1.0.0",
      "model_name": "DescriptionStyleModel",
      "state": {
       "description_width": ""
      }
     },
     "1a322a3026a94d648cbbecce634a8493": {
      "model_module": "@jupyter-widgets/base",
      "model_module_version": "1.0.0",
      "model_name": "LayoutModel",
      "state": {}
     },
     "1a9a1e37676f44f9901059a3d7d3f359": {
      "model_module": "@jupyter-widgets/controls",
      "model_module_version": "1.0.0",
      "model_name": "DescriptionStyleModel",
      "state": {
       "description_width": ""
      }
     },
     "1d5d94e8c4364799acb759db81e548cc": {
      "model_module": "@jupyter-widgets/controls",
      "model_module_version": "1.0.0",
      "model_name": "DescriptionStyleModel",
      "state": {
       "description_width": ""
      }
     },
     "1f7a90045fc2413296cf36302f91135d": {
      "model_module": "@jupyter-widgets/controls",
      "model_module_version": "1.0.0",
      "model_name": "TextModel",
      "state": {
       "description": "Search",
       "layout": "IPY_MODEL_00377438dc1b4eecb8fca3f937a3bce8",
       "style": "IPY_MODEL_1889764c29744f55a48fa58fb1829a15",
       "value": "coffee"
      }
     },
     "20ffae27618142e381fefadecda2f0a9": {
      "model_module": "@jupyter-widgets/controls",
      "model_module_version": "1.0.0",
      "model_name": "DescriptionStyleModel",
      "state": {
       "description_width": ""
      }
     },
     "211388a4e1e34c98aab7618efd0cdc4f": {
      "model_module": "@jupyter-widgets/base",
      "model_module_version": "1.0.0",
      "model_name": "LayoutModel",
      "state": {}
     },
     "2133299359524eeb88a09076e35e212f": {
      "model_module": "@jupyter-widgets/base",
      "model_module_version": "1.0.0",
      "model_name": "LayoutModel",
      "state": {}
     },
     "249c1ae8884a4d6685a8f123e6f388b7": {
      "model_module": "@jupyter-widgets/controls",
      "model_module_version": "1.0.0",
      "model_name": "DescriptionStyleModel",
      "state": {
       "description_width": ""
      }
     },
     "265b72e8a1b84b83a0464a660dd1e42c": {
      "model_module": "@jupyter-widgets/controls",
      "model_module_version": "1.0.0",
      "model_name": "HTMLModel",
      "state": {
       "layout": "IPY_MODEL_0d129ac66a154876b2f5e47443ffff3b",
       "style": "IPY_MODEL_55353339a7124ee0b6985761cb6ad200",
       "value": "<img src=\"https://gifs.mylesb.ca/coffee/i-really-love-coffee/image.gif\" />"
      }
     },
     "28c30277703e4f939e807dad3db07979": {
      "model_module": "@jupyter-widgets/base",
      "model_module_version": "1.0.0",
      "model_name": "LayoutModel",
      "state": {}
     },
     "2adf51f009d345aaaa822c15b219d513": {
      "model_module": "@jupyter-widgets/controls",
      "model_module_version": "1.0.0",
      "model_name": "HTMLModel",
      "state": {
       "layout": "IPY_MODEL_0886df63c6334fc5b6e86ad4512bf000",
       "style": "IPY_MODEL_4d82eded88634957ae680f2fe0d6910e",
       "value": "<a href=\"https://gifs.mylesb.ca/coffee/cheers/\"><img src=\"https://gifs.mylesb.ca/coffee/cheers/image.gif\" /></a>"
      }
     },
     "2de0f2a77ad54622b2c846ed85739163": {
      "model_module": "@jupyter-widgets/base",
      "model_module_version": "1.0.0",
      "model_name": "LayoutModel",
      "state": {}
     },
     "2e2080dcd99945e0a626fb674f4ff568": {
      "model_module": "@jupyter-widgets/controls",
      "model_module_version": "1.0.0",
      "model_name": "TextModel",
      "state": {
       "description": "Search",
       "layout": "IPY_MODEL_a68c022017ef45a79f1cad3e824ca60c",
       "style": "IPY_MODEL_6567385a83f44741be8b919f11c28ea4",
       "value": "bed"
      }
     },
     "348040f4c4eb4f659ceb4f4655bdd686": {
      "model_module": "@jupyter-widgets/controls",
      "model_module_version": "1.0.0",
      "model_name": "HTMLModel",
      "state": {
       "layout": "IPY_MODEL_c690fa8b231b424c8bb2e6e458f89e1a",
       "style": "IPY_MODEL_c88a6acf7d5c4ceabccf5706b3fabef1",
       "value": "<img src=\"https://gifs.mylesb.ca/coffee/sweet-sweet-coffee/image.gif\" />"
      }
     },
     "3515ec43e7a349ee919c90d0f2700adf": {
      "model_module": "@jupyter-widgets/base",
      "model_module_version": "1.0.0",
      "model_name": "LayoutModel",
      "state": {}
     },
     "389fcf9c5610425b96f528ab98376165": {
      "model_module": "@jupyter-widgets/base",
      "model_module_version": "1.0.0",
      "model_name": "LayoutModel",
      "state": {}
     },
     "3a67ec68c8fd419ead7c46b740fde04b": {
      "model_module": "@jupyter-widgets/base",
      "model_module_version": "1.0.0",
      "model_name": "LayoutModel",
      "state": {}
     },
     "3d08e395e5104d2ea6b1d973c79dc22b": {
      "model_module": "@jupyter-widgets/base",
      "model_module_version": "1.0.0",
      "model_name": "LayoutModel",
      "state": {}
     },
     "3fbe5390eb304b8b918e18cfe49745c7": {
      "model_module": "@jupyter-widgets/controls",
      "model_module_version": "1.0.0",
      "model_name": "DescriptionStyleModel",
      "state": {
       "description_width": ""
      }
     },
     "40cf5863db2741e3b57b552578aab728": {
      "model_module": "@jupyter-widgets/controls",
      "model_module_version": "1.0.0",
      "model_name": "DescriptionStyleModel",
      "state": {
       "description_width": ""
      }
     },
     "4337d58908b9476fae6e79c27c78fce3": {
      "model_module": "@jupyter-widgets/base",
      "model_module_version": "1.0.0",
      "model_name": "LayoutModel",
      "state": {}
     },
     "44a7c566f3354d328129fc5a384ec83c": {
      "model_module": "@jupyter-widgets/controls",
      "model_module_version": "1.0.0",
      "model_name": "HTMLModel",
      "state": {
       "layout": "IPY_MODEL_1510382285244cdb9cc7d54f0e5f6fce",
       "style": "IPY_MODEL_3fbe5390eb304b8b918e18cfe49745c7",
       "value": "<a href=\"https://gifs.mylesb.ca/coffee/sweet-sweet-coffee/\"><img src=\"https://gifs.mylesb.ca/coffee/sweet-sweet-coffee/image.gif\" /></a>"
      }
     },
     "458998cba35540e8945f5fcc5a131f7b": {
      "model_module": "@jupyter-widgets/controls",
      "model_module_version": "1.0.0",
      "model_name": "HTMLModel",
      "state": {
       "layout": "IPY_MODEL_b541106fb93740abaf7762e1b82b5485",
       "style": "IPY_MODEL_7043bce7355448e5b06bc426f8647eb3",
       "value": "<a href=\"https://gifs.mylesb.ca/bed-raining/\"><img src=\"https://gifs.mylesb.ca/bed-raining/image.gif\" /></a>"
      }
     },
     "466714d001804137bb04428b27992f62": {
      "model_module": "@jupyter-widgets/base",
      "model_module_version": "1.0.0",
      "model_name": "LayoutModel",
      "state": {}
     },
     "49449ff2165443c998c3460035817a80": {
      "model_module": "@jupyter-widgets/controls",
      "model_module_version": "1.0.0",
      "model_name": "DescriptionStyleModel",
      "state": {
       "description_width": ""
      }
     },
     "497f2459a0b24b71bf0fdea7f6067901": {
      "model_module": "@jupyter-widgets/controls",
      "model_module_version": "1.0.0",
      "model_name": "DescriptionStyleModel",
      "state": {
       "description_width": ""
      }
     },
     "4a31781a53294e3cb51a46ea911f1976": {
      "model_module": "@jupyter-widgets/controls",
      "model_module_version": "1.0.0",
      "model_name": "HTMLModel",
      "state": {
       "layout": "IPY_MODEL_d93af64321ac44439dd3f4a39a1d3236",
       "style": "IPY_MODEL_7c403f5cf932433f82aa46f817eb63d5",
       "value": "<a href=\"https://gifs.mylesb.ca/bed-frustrated/\"><img src=\"https://gifs.mylesb.ca/bed-frustrated/image.gif\" /></a>"
      }
     },
     "4d82eded88634957ae680f2fe0d6910e": {
      "model_module": "@jupyter-widgets/controls",
      "model_module_version": "1.0.0",
      "model_name": "DescriptionStyleModel",
      "state": {
       "description_width": ""
      }
     },
     "4f9ecd137dc64086a387f4a5ac3ac5d1": {
      "model_module": "@jupyter-widgets/controls",
      "model_module_version": "1.0.0",
      "model_name": "HTMLModel",
      "state": {
       "layout": "IPY_MODEL_b10446f2852d469caf4f048c858ff1fe",
       "style": "IPY_MODEL_64aa8ca1858d4a0ab8ccc5918e333392",
       "value": "<a href=\"https://gifs.mylesb.ca/marry-my-bed/\"><img src=\"https://gifs.mylesb.ca/marry-my-bed/image.gif\" /></a>"
      }
     },
     "5186f41518a04cb7a11d93767ed54c28": {
      "model_module": "@jupyter-widgets/base",
      "model_module_version": "1.0.0",
      "model_name": "LayoutModel",
      "state": {}
     },
     "528df56c2eee4fcb9c9a85e5c25f91cb": {
      "model_module": "@jupyter-widgets/controls",
      "model_module_version": "1.0.0",
      "model_name": "HTMLModel",
      "state": {
       "layout": "IPY_MODEL_ec22179d54b94581ae65eddac5e9866b",
       "style": "IPY_MODEL_ee7eb2804e6840ba97cfdce1c0f15e8c",
       "value": "<a href=\"https://gifs.mylesb.ca/monday-morning/\"><img src=\"https://gifs.mylesb.ca/monday-morning/image.gif\" /></a>"
      }
     },
     "5511482ddec646aa8a0efaf14da6ee5c": {
      "model_module": "@jupyter-widgets/controls",
      "model_module_version": "1.0.0",
      "model_name": "HTMLModel",
      "state": {
       "layout": "IPY_MODEL_5186f41518a04cb7a11d93767ed54c28",
       "style": "IPY_MODEL_78ed5f95d6d247b8beaf532c4f77e554",
       "value": "<a href=\"https://gifs.mylesb.ca/coffee/drinking-coffee/\"><img src=\"https://gifs.mylesb.ca/coffee/drinking-coffee/image.gif\" /></a>"
      }
     },
     "55353339a7124ee0b6985761cb6ad200": {
      "model_module": "@jupyter-widgets/controls",
      "model_module_version": "1.0.0",
      "model_name": "DescriptionStyleModel",
      "state": {
       "description_width": ""
      }
     },
     "554aa6095ba24c7c9841534de07abd66": {
      "model_module": "@jupyter-widgets/controls",
      "model_module_version": "1.0.0",
      "model_name": "TextModel",
      "state": {
       "description": "Search",
       "layout": "IPY_MODEL_64554981f03c499cb4374c4195e0511b",
       "style": "IPY_MODEL_dcad8246b65246989527b35c398cf35d"
      }
     },
     "59ab9e53f4974b0094cc464224e72e7f": {
      "model_module": "@jupyter-widgets/controls",
      "model_module_version": "1.0.0",
      "model_name": "HTMLModel",
      "state": {
       "layout": "IPY_MODEL_389fcf9c5610425b96f528ab98376165",
       "style": "IPY_MODEL_b7d4043599c3420abfa7f0b85e2032d3",
       "value": "<img src=\"https://gifs.mylesb.ca/coffee/coffee-time/image.gif\" />"
      }
     },
     "5a16c80abfca4c92b3b790e63e1c6d63": {
      "model_module": "@jupyter-widgets/base",
      "model_module_version": "1.0.0",
      "model_name": "LayoutModel",
      "state": {}
     },
     "5b6e1c4c42c846b8a5203f4b4bdc1245": {
      "model_module": "@jupyter-widgets/controls",
      "model_module_version": "1.0.0",
      "model_name": "HTMLModel",
      "state": {
       "layout": "IPY_MODEL_c2153f097f944aac8986533858844c87",
       "style": "IPY_MODEL_5df8ee2b8f2e4333a10bd2721480311b",
       "value": "<a href=\"https://gifs.mylesb.ca/coffee/i-really-love-coffee/\"><img src=\"https://gifs.mylesb.ca/coffee/i-really-love-coffee/image.gif\" /></a>"
      }
     },
     "5c5d305520ce4328b26295a3d8d89fbb": {
      "model_module": "@jupyter-widgets/controls",
      "model_module_version": "1.0.0",
      "model_name": "DescriptionStyleModel",
      "state": {
       "description_width": ""
      }
     },
     "5cc01ba04c2a47e7a3bb0c6c4f332504": {
      "model_module": "@jupyter-widgets/controls",
      "model_module_version": "1.0.0",
      "model_name": "HTMLModel",
      "state": {
       "layout": "IPY_MODEL_be020ecea53649069e6fba09c6878fe7",
       "style": "IPY_MODEL_b319805a0b4248f8b2253f502a385a9a",
       "value": "<a href=\"https://gifs.mylesb.ca/get-back-in-your-pjs-go-to-bed-eat-nothing-but-ice-cream-and-pizza/\"><img src=\"https://gifs.mylesb.ca/get-back-in-your-pjs-go-to-bed-eat-nothing-but-ice-cream-and-pizza/image.gif\" /></a>"
      }
     },
     "5df8ee2b8f2e4333a10bd2721480311b": {
      "model_module": "@jupyter-widgets/controls",
      "model_module_version": "1.0.0",
      "model_name": "DescriptionStyleModel",
      "state": {
       "description_width": ""
      }
     },
     "5ef2c6d6fbbe4f3f823897c3f6e2c7d4": {
      "model_module": "@jupyter-widgets/base",
      "model_module_version": "1.0.0",
      "model_name": "LayoutModel",
      "state": {}
     },
     "6139227358404142a23b570918de4530": {
      "model_module": "@jupyter-widgets/controls",
      "model_module_version": "1.0.0",
      "model_name": "DescriptionStyleModel",
      "state": {
       "description_width": ""
      }
     },
     "622d5f7a12ca4101b4f600dbb13b984f": {
      "model_module": "@jupyter-widgets/controls",
      "model_module_version": "1.0.0",
      "model_name": "HTMLModel",
      "state": {
       "layout": "IPY_MODEL_625818bf2588474c8a51a4518aee6fff",
       "style": "IPY_MODEL_c2f515b6156e41e68442fb9e9f6276f7",
       "value": "<img src=\"https://gifs.mylesb.ca/coffee/coffee-leaving/image.gif\" />"
      }
     },
     "62411ac39bd2477fbbb65d25f0c28463": {
      "model_module": "@jupyter-widgets/controls",
      "model_module_version": "1.0.0",
      "model_name": "DescriptionStyleModel",
      "state": {
       "description_width": ""
      }
     },
     "625818bf2588474c8a51a4518aee6fff": {
      "model_module": "@jupyter-widgets/base",
      "model_module_version": "1.0.0",
      "model_name": "LayoutModel",
      "state": {}
     },
     "64554981f03c499cb4374c4195e0511b": {
      "model_module": "@jupyter-widgets/base",
      "model_module_version": "1.0.0",
      "model_name": "LayoutModel",
      "state": {}
     },
     "64aa8ca1858d4a0ab8ccc5918e333392": {
      "model_module": "@jupyter-widgets/controls",
      "model_module_version": "1.0.0",
      "model_name": "DescriptionStyleModel",
      "state": {
       "description_width": ""
      }
     },
     "6567385a83f44741be8b919f11c28ea4": {
      "model_module": "@jupyter-widgets/controls",
      "model_module_version": "1.0.0",
      "model_name": "DescriptionStyleModel",
      "state": {
       "description_width": ""
      }
     },
     "65faf11d10d54d25a9299e240f420346": {
      "model_module": "@jupyter-widgets/controls",
      "model_module_version": "1.0.0",
      "model_name": "HTMLModel",
      "state": {
       "layout": "IPY_MODEL_28c30277703e4f939e807dad3db07979",
       "style": "IPY_MODEL_f79c4034c5174a629bb70de5c0441b21",
       "value": "<img src=\"https://gifs.mylesb.ca/coffee/espresso/image.gif\" />"
      }
     },
     "66376d5979e3444eb30f3d228d26cf8d": {
      "model_module": "@jupyter-widgets/controls",
      "model_module_version": "1.0.0",
      "model_name": "HTMLModel",
      "state": {
       "layout": "IPY_MODEL_2de0f2a77ad54622b2c846ed85739163",
       "style": "IPY_MODEL_7041f6bf34594eb3ac15ed4a2ab028cf",
       "value": "<a href=\"https://gifs.mylesb.ca/monday-morning/\"><img src=\"https://gifs.mylesb.ca/monday-morning/image.gif\" /></a>"
      }
     },
     "7041f6bf34594eb3ac15ed4a2ab028cf": {
      "model_module": "@jupyter-widgets/controls",
      "model_module_version": "1.0.0",
      "model_name": "DescriptionStyleModel",
      "state": {
       "description_width": ""
      }
     },
     "7043bce7355448e5b06bc426f8647eb3": {
      "model_module": "@jupyter-widgets/controls",
      "model_module_version": "1.0.0",
      "model_name": "DescriptionStyleModel",
      "state": {
       "description_width": ""
      }
     },
     "78ed5f95d6d247b8beaf532c4f77e554": {
      "model_module": "@jupyter-widgets/controls",
      "model_module_version": "1.0.0",
      "model_name": "DescriptionStyleModel",
      "state": {
       "description_width": ""
      }
     },
     "78eeca6f4ea04062b80f291dbb095cf7": {
      "model_module": "@jupyter-widgets/base",
      "model_module_version": "1.0.0",
      "model_name": "LayoutModel",
      "state": {}
     },
     "7c403f5cf932433f82aa46f817eb63d5": {
      "model_module": "@jupyter-widgets/controls",
      "model_module_version": "1.0.0",
      "model_name": "DescriptionStyleModel",
      "state": {
       "description_width": ""
      }
     },
     "7ca4f20bf742425c84bcbe401a1eb5eb": {
      "model_module": "@jupyter-widgets/controls",
      "model_module_version": "1.0.0",
      "model_name": "DescriptionStyleModel",
      "state": {
       "description_width": ""
      }
     },
     "7e0331e39f804eafa9b5bb841cc8f0f7": {
      "model_module": "@jupyter-widgets/controls",
      "model_module_version": "1.0.0",
      "model_name": "HTMLModel",
      "state": {
       "layout": "IPY_MODEL_5ef2c6d6fbbe4f3f823897c3f6e2c7d4",
       "style": "IPY_MODEL_de0521b018d641eeb2c430de9e62dac9",
       "value": "<img src=\"https://gifs.mylesb.ca/coffee/share-coffee/image.gif\" />"
      }
     },
     "7e530af1a92441628a8eb55f3b66e34a": {
      "model_module": "@jupyter-widgets/controls",
      "model_module_version": "1.0.0",
      "model_name": "TextModel",
      "state": {
       "description": "Search",
       "layout": "IPY_MODEL_c032665919c8461ab6f29d107813b938",
       "style": "IPY_MODEL_62411ac39bd2477fbbb65d25f0c28463",
       "value": "bed"
      }
     },
     "7f8bdaf147d64cbdb4cbb73feb48b645": {
      "model_module": "@jupyter-widgets/controls",
      "model_module_version": "1.0.0",
      "model_name": "DescriptionStyleModel",
      "state": {
       "description_width": ""
      }
     },
     "808efe837d324d438bcc697eb50b6495": {
      "model_module": "@jupyter-widgets/controls",
      "model_module_version": "1.0.0",
      "model_name": "HTMLModel",
      "state": {
       "layout": "IPY_MODEL_2133299359524eeb88a09076e35e212f",
       "style": "IPY_MODEL_b4331de7cdfd49babd76c527b5297d8d",
       "value": "<a href=\"https://gifs.mylesb.ca/coffee/coffee-leaving/\"><img src=\"https://gifs.mylesb.ca/coffee/coffee-leaving/image.gif\" /></a>"
      }
     },
     "87021e59dd174ac391a7e2dace0378c7": {
      "model_module": "@jupyter-widgets/controls",
      "model_module_version": "1.0.0",
      "model_name": "HTMLModel",
      "state": {
       "layout": "IPY_MODEL_466714d001804137bb04428b27992f62",
       "style": "IPY_MODEL_20ffae27618142e381fefadecda2f0a9",
       "value": "<a href=\"https://gifs.mylesb.ca/coffee/mornings-are-for-coffee-and-contemplation/\"><img src=\"https://gifs.mylesb.ca/coffee/mornings-are-for-coffee-and-contemplation/image.gif\" /></a>"
      }
     },
     "87f8a2cefd2945c0bb119854889bea30": {
      "model_module": "@jupyter-widgets/base",
      "model_module_version": "1.0.0",
      "model_name": "LayoutModel",
      "state": {}
     },
     "93a62ad1fab14d9aa234680b5113cf5c": {
      "model_module": "@jupyter-widgets/controls",
      "model_module_version": "1.0.0",
      "model_name": "HTMLModel",
      "state": {
       "layout": "IPY_MODEL_1a322a3026a94d648cbbecce634a8493",
       "style": "IPY_MODEL_6139227358404142a23b570918de4530",
       "value": "<a href=\"https://gifs.mylesb.ca/marry-my-bed/\"><img src=\"https://gifs.mylesb.ca/marry-my-bed/image.gif\" /></a>"
      }
     },
     "95b27c09fe694eaaa005a2095c0f421b": {
      "model_module": "@jupyter-widgets/controls",
      "model_module_version": "1.0.0",
      "model_name": "HTMLModel",
      "state": {
       "layout": "IPY_MODEL_e3a673b9a87f478c9eb5dfd060d9d44f",
       "style": "IPY_MODEL_c6c1b64229da4d879d105c35d400a48a",
       "value": "<img src=\"https://gifs.mylesb.ca/coffee/coffee-please-and-a-shot-of-cynicism/image.gif\" />"
      }
     },
     "9948aeb915c44b529a98e8cadf950f1e": {
      "model_module": "@jupyter-widgets/controls",
      "model_module_version": "1.0.0",
      "model_name": "HTMLModel",
      "state": {
       "layout": "IPY_MODEL_b95cf5ef5e6a445ba84bfae0a46a4fd8",
       "style": "IPY_MODEL_a1f8edb55ec241c7a7f14e5db60e8c34",
       "value": "<a href=\"https://gifs.mylesb.ca/bed-frustrated/\"><img src=\"https://gifs.mylesb.ca/bed-frustrated/image.gif\" /></a>"
      }
     },
     "a1814094357a4c3590b2736153d63ff5": {
      "model_module": "@jupyter-widgets/base",
      "model_module_version": "1.0.0",
      "model_name": "LayoutModel",
      "state": {}
     },
     "a1f8edb55ec241c7a7f14e5db60e8c34": {
      "model_module": "@jupyter-widgets/controls",
      "model_module_version": "1.0.0",
      "model_name": "DescriptionStyleModel",
      "state": {
       "description_width": ""
      }
     },
     "a3e18149b8dc4ba4b0736a32f186b5b1": {
      "model_module": "@jupyter-widgets/controls",
      "model_module_version": "1.0.0",
      "model_name": "DescriptionStyleModel",
      "state": {
       "description_width": ""
      }
     },
     "a68c022017ef45a79f1cad3e824ca60c": {
      "model_module": "@jupyter-widgets/base",
      "model_module_version": "1.0.0",
      "model_name": "LayoutModel",
      "state": {}
     },
     "a8676b656b1b4790afcf85d9c653a436": {
      "model_module": "@jupyter-widgets/controls",
      "model_module_version": "1.0.0",
      "model_name": "HTMLModel",
      "state": {
       "layout": "IPY_MODEL_c7713c7d2482432992847e1c36f56569",
       "style": "IPY_MODEL_49449ff2165443c998c3460035817a80",
       "value": "<img src=\"https://gifs.mylesb.ca/coffee/cheers/image.gif\" />"
      }
     },
     "ae6d92b779384ea5b134f7684f64d0c9": {
      "model_module": "@jupyter-widgets/controls",
      "model_module_version": "1.0.0",
      "model_name": "HTMLModel",
      "state": {
       "layout": "IPY_MODEL_ed7dcedb32804be19d504c0f855a8869",
       "style": "IPY_MODEL_136c4ba404ef4035a77c8e53527da422",
       "value": "<img src=\"https://gifs.mylesb.ca/coffee/mornings-are-for-coffee-and-contemplation/image.gif\" />"
      }
     },
     "b10446f2852d469caf4f048c858ff1fe": {
      "model_module": "@jupyter-widgets/base",
      "model_module_version": "1.0.0",
      "model_name": "LayoutModel",
      "state": {}
     },
     "b1af17ada8624fb58e68d9e037d6aec9": {
      "model_module": "@jupyter-widgets/controls",
      "model_module_version": "1.0.0",
      "model_name": "HTMLModel",
      "state": {
       "layout": "IPY_MODEL_5a16c80abfca4c92b3b790e63e1c6d63",
       "style": "IPY_MODEL_1d5d94e8c4364799acb759db81e548cc",
       "value": "<a href=\"https://gifs.mylesb.ca/coffee/coffee-please-and-a-shot-of-cynicism/\"><img src=\"https://gifs.mylesb.ca/coffee/coffee-please-and-a-shot-of-cynicism/image.gif\" /></a>"
      }
     },
     "b2c58a707d15492d9b0aeded822755e3": {
      "model_module": "@jupyter-widgets/controls",
      "model_module_version": "1.0.0",
      "model_name": "DescriptionStyleModel",
      "state": {
       "description_width": ""
      }
     },
     "b319805a0b4248f8b2253f502a385a9a": {
      "model_module": "@jupyter-widgets/controls",
      "model_module_version": "1.0.0",
      "model_name": "DescriptionStyleModel",
      "state": {
       "description_width": ""
      }
     },
     "b412666cc2c54952ba52ec6e9e51f3c8": {
      "model_module": "@jupyter-widgets/base",
      "model_module_version": "1.0.0",
      "model_name": "LayoutModel",
      "state": {}
     },
     "b4331de7cdfd49babd76c527b5297d8d": {
      "model_module": "@jupyter-widgets/controls",
      "model_module_version": "1.0.0",
      "model_name": "DescriptionStyleModel",
      "state": {
       "description_width": ""
      }
     },
     "b541106fb93740abaf7762e1b82b5485": {
      "model_module": "@jupyter-widgets/base",
      "model_module_version": "1.0.0",
      "model_name": "LayoutModel",
      "state": {}
     },
     "b7d4043599c3420abfa7f0b85e2032d3": {
      "model_module": "@jupyter-widgets/controls",
      "model_module_version": "1.0.0",
      "model_name": "DescriptionStyleModel",
      "state": {
       "description_width": ""
      }
     },
     "b95cf5ef5e6a445ba84bfae0a46a4fd8": {
      "model_module": "@jupyter-widgets/base",
      "model_module_version": "1.0.0",
      "model_name": "LayoutModel",
      "state": {}
     },
     "ba64afe6f226489aa84d28823ce709c0": {
      "model_module": "@jupyter-widgets/controls",
      "model_module_version": "1.0.0",
      "model_name": "HTMLModel",
      "state": {
       "layout": "IPY_MODEL_211388a4e1e34c98aab7618efd0cdc4f",
       "style": "IPY_MODEL_b2c58a707d15492d9b0aeded822755e3",
       "value": "<img src=\"https://gifs.mylesb.ca/coffee/drinking-coffee/image.gif\" />"
      }
     },
     "bdd648201c2a490fad53e86c02ff3153": {
      "model_module": "@jupyter-widgets/controls",
      "model_module_version": "1.0.0",
      "model_name": "HTMLModel",
      "state": {
       "layout": "IPY_MODEL_a1814094357a4c3590b2736153d63ff5",
       "style": "IPY_MODEL_1a0ae861c35d4bf4807ba4532d8df2ed",
       "value": "<a href=\"https://gifs.mylesb.ca/monday-morning/\"><img src=\"https://gifs.mylesb.ca/monday-morning/image.gif\" /></a>"
      }
     },
     "be020ecea53649069e6fba09c6878fe7": {
      "model_module": "@jupyter-widgets/base",
      "model_module_version": "1.0.0",
      "model_name": "LayoutModel",
      "state": {}
     },
     "c032665919c8461ab6f29d107813b938": {
      "model_module": "@jupyter-widgets/base",
      "model_module_version": "1.0.0",
      "model_name": "LayoutModel",
      "state": {}
     },
     "c0581b63550843c480e2572d8ea81faa": {
      "model_module": "@jupyter-widgets/base",
      "model_module_version": "1.0.0",
      "model_name": "LayoutModel",
      "state": {}
     },
     "c2153f097f944aac8986533858844c87": {
      "model_module": "@jupyter-widgets/base",
      "model_module_version": "1.0.0",
      "model_name": "LayoutModel",
      "state": {}
     },
     "c2f515b6156e41e68442fb9e9f6276f7": {
      "model_module": "@jupyter-widgets/controls",
      "model_module_version": "1.0.0",
      "model_name": "DescriptionStyleModel",
      "state": {
       "description_width": ""
      }
     },
     "c62c600299824d3080f4c8938f83f322": {
      "model_module": "@jupyter-widgets/controls",
      "model_module_version": "1.0.0",
      "model_name": "HTMLModel",
      "state": {
       "layout": "IPY_MODEL_78eeca6f4ea04062b80f291dbb095cf7",
       "style": "IPY_MODEL_1a9a1e37676f44f9901059a3d7d3f359",
       "value": "<a href=\"https://gifs.mylesb.ca/get-back-in-your-pjs-go-to-bed-eat-nothing-but-ice-cream-and-pizza/\"><img src=\"https://gifs.mylesb.ca/get-back-in-your-pjs-go-to-bed-eat-nothing-but-ice-cream-and-pizza/image.gif\" /></a>"
      }
     },
     "c690fa8b231b424c8bb2e6e458f89e1a": {
      "model_module": "@jupyter-widgets/base",
      "model_module_version": "1.0.0",
      "model_name": "LayoutModel",
      "state": {}
     },
     "c6c1b64229da4d879d105c35d400a48a": {
      "model_module": "@jupyter-widgets/controls",
      "model_module_version": "1.0.0",
      "model_name": "DescriptionStyleModel",
      "state": {
       "description_width": ""
      }
     },
     "c7713c7d2482432992847e1c36f56569": {
      "model_module": "@jupyter-widgets/base",
      "model_module_version": "1.0.0",
      "model_name": "LayoutModel",
      "state": {}
     },
     "c88a6acf7d5c4ceabccf5706b3fabef1": {
      "model_module": "@jupyter-widgets/controls",
      "model_module_version": "1.0.0",
      "model_name": "DescriptionStyleModel",
      "state": {
       "description_width": ""
      }
     },
     "d5a612406db94565bcc2486f8b07ced7": {
      "model_module": "@jupyter-widgets/base",
      "model_module_version": "1.0.0",
      "model_name": "LayoutModel",
      "state": {}
     },
     "d65136d1984542ff9f2d5c07653440f6": {
      "model_module": "@jupyter-widgets/controls",
      "model_module_version": "1.0.0",
      "model_name": "HTMLModel",
      "state": {
       "layout": "IPY_MODEL_00bb8285a9074c71a75991dad0151463",
       "style": "IPY_MODEL_074d9f1334374d08a8079cf38c8e5967",
       "value": "<img src=\"https://gifs.mylesb.ca/coffee/black-like-my-heart/image.gif\" />"
      }
     },
     "d93af64321ac44439dd3f4a39a1d3236": {
      "model_module": "@jupyter-widgets/base",
      "model_module_version": "1.0.0",
      "model_name": "LayoutModel",
      "state": {}
     },
     "dcad8246b65246989527b35c398cf35d": {
      "model_module": "@jupyter-widgets/controls",
      "model_module_version": "1.0.0",
      "model_name": "DescriptionStyleModel",
      "state": {
       "description_width": ""
      }
     },
     "dd6ce98577b0422fb4294dac27d3c620": {
      "model_module": "@jupyter-widgets/controls",
      "model_module_version": "1.0.0",
      "model_name": "HTMLModel",
      "state": {
       "layout": "IPY_MODEL_c0581b63550843c480e2572d8ea81faa",
       "style": "IPY_MODEL_a3e18149b8dc4ba4b0736a32f186b5b1",
       "value": "<a href=\"https://gifs.mylesb.ca/coffee/coffee-time/\"><img src=\"https://gifs.mylesb.ca/coffee/coffee-time/image.gif\" /></a>"
      }
     },
     "de0521b018d641eeb2c430de9e62dac9": {
      "model_module": "@jupyter-widgets/controls",
      "model_module_version": "1.0.0",
      "model_name": "DescriptionStyleModel",
      "state": {
       "description_width": ""
      }
     },
     "e3a673b9a87f478c9eb5dfd060d9d44f": {
      "model_module": "@jupyter-widgets/base",
      "model_module_version": "1.0.0",
      "model_name": "LayoutModel",
      "state": {}
     },
     "e5a2fb96c0f6444f99ab909245b66941": {
      "model_module": "@jupyter-widgets/controls",
      "model_module_version": "1.0.0",
      "model_name": "HTMLModel",
      "state": {
       "layout": "IPY_MODEL_3515ec43e7a349ee919c90d0f2700adf",
       "style": "IPY_MODEL_249c1ae8884a4d6685a8f123e6f388b7",
       "value": "<a href=\"https://gifs.mylesb.ca/bed-raining/\"><img src=\"https://gifs.mylesb.ca/bed-raining/image.gif\" /></a>"
      }
     },
     "e5fcdf551e9b4b4db3d7c59ed7018727": {
      "model_module": "@jupyter-widgets/controls",
      "model_module_version": "1.0.0",
      "model_name": "HTMLModel",
      "state": {
       "layout": "IPY_MODEL_0fd6eeff8a3e4a88b1c0887e9fb164a1",
       "style": "IPY_MODEL_497f2459a0b24b71bf0fdea7f6067901",
       "value": "<a href=\"https://gifs.mylesb.ca/bed-frustrated/\"><img src=\"https://gifs.mylesb.ca/bed-frustrated/image.gif\" /></a>"
      }
     },
     "e9c28d4dff124035b2accbab292c494e": {
      "model_module": "@jupyter-widgets/controls",
      "model_module_version": "1.0.0",
      "model_name": "TextModel",
      "state": {
       "description": "Search",
       "layout": "IPY_MODEL_d5a612406db94565bcc2486f8b07ced7",
       "style": "IPY_MODEL_1285e023da5246cb977792c71561e15d"
      }
     },
     "ec22179d54b94581ae65eddac5e9866b": {
      "model_module": "@jupyter-widgets/base",
      "model_module_version": "1.0.0",
      "model_name": "LayoutModel",
      "state": {}
     },
     "ed7dcedb32804be19d504c0f855a8869": {
      "model_module": "@jupyter-widgets/base",
      "model_module_version": "1.0.0",
      "model_name": "LayoutModel",
      "state": {}
     },
     "ee523365a1dd4f77aa19ec4b2ae31cf1": {
      "model_module": "@jupyter-widgets/controls",
      "model_module_version": "1.0.0",
      "model_name": "HTMLModel",
      "state": {
       "layout": "IPY_MODEL_b412666cc2c54952ba52ec6e9e51f3c8",
       "style": "IPY_MODEL_40cf5863db2741e3b57b552578aab728",
       "value": "<a href=\"https://gifs.mylesb.ca/get-back-in-your-pjs-go-to-bed-eat-nothing-but-ice-cream-and-pizza/\"><img src=\"https://gifs.mylesb.ca/get-back-in-your-pjs-go-to-bed-eat-nothing-but-ice-cream-and-pizza/image.gif\" /></a>"
      }
     },
     "ee7eb2804e6840ba97cfdce1c0f15e8c": {
      "model_module": "@jupyter-widgets/controls",
      "model_module_version": "1.0.0",
      "model_name": "DescriptionStyleModel",
      "state": {
       "description_width": ""
      }
     },
     "f6685023f47d43ae90739c2989911697": {
      "model_module": "@jupyter-widgets/controls",
      "model_module_version": "1.0.0",
      "model_name": "DescriptionStyleModel",
      "state": {
       "description_width": ""
      }
     },
     "f79c4034c5174a629bb70de5c0441b21": {
      "model_module": "@jupyter-widgets/controls",
      "model_module_version": "1.0.0",
      "model_name": "DescriptionStyleModel",
      "state": {
       "description_width": ""
      }
     },
     "f827b69b8f864e18878ffbd0c39f35ad": {
      "model_module": "@jupyter-widgets/controls",
      "model_module_version": "1.0.0",
      "model_name": "HTMLModel",
      "state": {
       "layout": "IPY_MODEL_3d08e395e5104d2ea6b1d973c79dc22b",
       "style": "IPY_MODEL_7ca4f20bf742425c84bcbe401a1eb5eb",
       "value": "<a href=\"https://gifs.mylesb.ca/coffee/espresso/\"><img src=\"https://gifs.mylesb.ca/coffee/espresso/image.gif\" /></a>"
      }
     },
     "fc7ba5aa123e493289314d49668c7394": {
      "model_module": "@jupyter-widgets/controls",
      "model_module_version": "1.0.0",
      "model_name": "HTMLModel",
      "state": {
       "layout": "IPY_MODEL_4337d58908b9476fae6e79c27c78fce3",
       "style": "IPY_MODEL_fe34382c36514487bb5b951f047b95f5",
       "value": "<a href=\"https://gifs.mylesb.ca/marry-my-bed/\"><img src=\"https://gifs.mylesb.ca/marry-my-bed/image.gif\" /></a>"
      }
     },
     "fe34382c36514487bb5b951f047b95f5": {
      "model_module": "@jupyter-widgets/controls",
      "model_module_version": "1.0.0",
      "model_name": "DescriptionStyleModel",
      "state": {
       "description_width": ""
      }
     }
    },
    "version_major": 2,
    "version_minor": 0
   }
  }
 },
 "nbformat": 4,
 "nbformat_minor": 2
}
