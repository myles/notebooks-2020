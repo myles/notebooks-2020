{
 "cells": [
  {
   "cell_type": "code",
   "execution_count": 4,
   "metadata": {},
   "outputs": [],
   "source": [
    "class PostProperties():\n",
    "    \n",
    "    @classmethod\n",
    "    def from_dict(cls, h_entry):\n",
    "        post_properties = cls()\n",
    "        properties = h_entry.get('properties')\n",
    "        \n",
    "        if not properties:\n",
    "            raise Exception\n",
    "        \n",
    "        for k, v in properties.items():\n",
    "            if k == 'name':\n",
    "                setattr(post_properties, k, ' '.join(v))\n",
    "            elif k == 'content':\n",
    "                if type(v[0]) == dict:\n",
    "                    setattr(post_properties, k, ' '.join(v['html']))\n",
    "                else:\n",
    "                    setattr(post_properties, k, ' '.join(v))\n",
    "        \n",
    "        return post_properties\n",
    "    \n",
    "    def __repr__(self):\n",
    "        state = ['%s=%s' % (k, repr(v)) for (k, v) in vars(self).items()]\n",
    "        return '%s(%s)' % (self.__class__.__name__, ', '.join(state))"
   ]
  },
  {
   "cell_type": "code",
   "execution_count": 5,
   "metadata": {},
   "outputs": [
    {
     "data": {
      "text/plain": [
       "PostProperties(name='Hello, World!')"
      ]
     },
     "execution_count": 5,
     "metadata": {},
     "output_type": "execute_result"
    }
   ],
   "source": [
    "PostProperties.from_dict({'properties': {'name': ['Hello, World!']}})"
   ]
  },
  {
   "cell_type": "code",
   "execution_count": null,
   "metadata": {},
   "outputs": [],
   "source": []
  }
 ],
 "metadata": {
  "kernelspec": {
   "display_name": "Python 3",
   "language": "python",
   "name": "python3"
  },
  "language_info": {
   "codemirror_mode": {
    "name": "ipython",
    "version": 3
   },
   "file_extension": ".py",
   "mimetype": "text/x-python",
   "name": "python",
   "nbconvert_exporter": "python",
   "pygments_lexer": "ipython3",
   "version": "3.6.4"
  }
 },
 "nbformat": 4,
 "nbformat_minor": 2
}
