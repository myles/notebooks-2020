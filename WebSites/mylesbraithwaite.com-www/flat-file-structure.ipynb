{
 "cells": [
  {
   "cell_type": "code",
   "execution_count": 7,
   "metadata": {},
   "outputs": [],
   "source": [
    "import re\n",
    "\n",
    "re_newlines = re.compile(r'\\r\\n|\\r')\n",
    "\n",
    "def linebreaks(value):\n",
    "    \"\"\"Convert newlines into <p> and <br>s.\"\"\"\n",
    "    value = re_newlines.sub('\\n', str(value))\n",
    "    \n",
    "    paragraphs = re.split('\\n{2,}', str(value))\n",
    "    \n",
    "    paragraphs = ['<p>{}</p>'.format(p.replace('\\n', '<br>')) for p in paragraphs]\n",
    "    \n",
    "    return '\\n\\n'.join(paragraphs)"
   ]
  },
  {
   "cell_type": "code",
   "execution_count": 14,
   "metadata": {},
   "outputs": [
    {
     "data": {
      "text/plain": [
       "{'bookmark_of': 'https://medium.com/we-distribute/hiveway-io-shamelessly-rips-off-of-mastodon-and-slaps-a-blockchain-on-top-for-some-reason-57b7aba3e84f',\n",
       " 'content': '<blockquote>\\n<p>The problem here regards the nature of how Mastodon is being forked. Unfortunately for Hiveway, they give the impression of trying to actively avoid affiliation with Mastodon, going as far as <a href=\"https://github.com/hiveway/hiveway\" title=\"Hiveway.io GitHub Repository\">setting up a separate code repository</a> and overwriting commits that had been attributed to the original people who did the work. For Open Source contributors, this kind of thing comes across as distasteful.</p>\\n</blockquote>',\n",
       " 'name': 'Hiveway.io forks Mastodon and slaps a blockchain on top, for some reason',\n",
       " 'path': PosixPath('/Users/myles/WebSites/mylesbraithwaite.com-content/posts/2018/064/01'),\n",
       " 'published': datetime.datetime(2018, 3, 5, 8, 5, tzinfo=<toml.TomlTz object at 0x103aeb5f8>),\n",
       " 'syndication': ['https://twitter.com/mylesb/statuses/970646376555208706'],\n",
       " 'type': 'bookmark'}"
      ]
     },
     "execution_count": 14,
     "metadata": {},
     "output_type": "execute_result"
    }
   ],
   "source": [
    "from pathlib import Path\n",
    "\n",
    "import bleach\n",
    "import markdown\n",
    "import toml\n",
    "\n",
    "class PathDoesNotExist(Exception):\n",
    "    pass\n",
    "\n",
    "    \n",
    "class HEntry:\n",
    "    \n",
    "    name = None\n",
    "    summary = None\n",
    "    content = None\n",
    "    \n",
    "    published = None\n",
    "    updated = None\n",
    "    \n",
    "    photo = None\n",
    "    author = None\n",
    "    category = []\n",
    "    location = None\n",
    "    syndication = []\n",
    "    in_reply_to = None\n",
    "    rsvp = None\n",
    "    link_of = None\n",
    "    repost_of = None\n",
    "\n",
    "    def __init__(self, path):\n",
    "        self.path = Path(path)\n",
    "        \n",
    "        if not self.path.is_dir():\n",
    "            raise PathDoesNotExist(self.path)\n",
    "        \n",
    "        self.load_meta()\n",
    "        self.load_files()\n",
    "    \n",
    "    def __repr__(self):\n",
    "        return 'HEntry({})'.format(self.path)\n",
    "\n",
    "    def __str__(self):\n",
    "        if self.name:\n",
    "            return '{}'.format(self.name)\n",
    "        elif self.summary:\n",
    "            return '{}'.format(self.summary)\n",
    "        else:\n",
    "            return '{}'.format(self.path)\n",
    "    \n",
    "    def load_meta(self):\n",
    "        meta_file = next(self.path.glob('_meta.toml'))\n",
    "        \n",
    "        with meta_file.open() as fobj:\n",
    "            meta = toml.loads(fobj.read())\n",
    "        \n",
    "        for key, value in meta.items():\n",
    "            setattr(self, key, value)\n",
    "    \n",
    "    def load_files(self):\n",
    "        files = self.path.glob('[!_meta]*')\n",
    "        \n",
    "        for file in files:\n",
    "            key = file.stem\n",
    "\n",
    "            with file.open() as fobj:\n",
    "                value = fobj.read()\n",
    "            \n",
    "            if file.suffix == '.txt':\n",
    "                setattr(self, key,\n",
    "                    bleach.linkify(linebreaks(value)))\n",
    "                \n",
    "            elif file.suffix in ['.md', '.markdown', '.mdown']:\n",
    "                setattr(self, key, markdown.markdown(value))\n",
    "                \n",
    "            elif file.suffix == '.html':\n",
    "                setattr(self, key, value)\n",
    "    \n",
    "    def list_media(self):\n",
    "        media_files = self.path.glob('media/**/*')\n",
    "        return media_files\n",
    "    \n",
    "    def get_media(self, file_name):\n",
    "        return self.path / 'media' / file_name\n",
    "\n",
    "entry = HEntry('/Users/myles/WebSites/mylesbraithwaite.com-content/posts/2018/064/01')\n",
    "\n",
    "entry.__dict__"
   ]
  },
  {
   "cell_type": "code",
   "execution_count": 22,
   "metadata": {},
   "outputs": [
    {
     "data": {
      "text/plain": [
       "<__main__.HEntries at 0x103b06940>"
      ]
     },
     "execution_count": 22,
     "metadata": {},
     "output_type": "execute_result"
    }
   ],
   "source": [
    "class HEntries:\n",
    "    \n",
    "    def __init__(self, path):\n",
    "        self.path = Path(path)\n",
    "    \n",
    "    def query(self, query, reverse=True):\n",
    "        posts = [HEntry(x.parents[0]) for x in self.path.glob('posts/{}/_meta.*'.format(query))]\n",
    "        posts.sort(key=lambda x: x.published, reverse=reverse)\n",
    "        return posts\n",
    "    \n",
    "    def all(self, reverse=True):\n",
    "        return self.query('**', reverse=reverse)\n",
    "\n",
    "    def get(self, slug):\n",
    "        return HEntry(self.path / 'posts' / slug)\n",
    "    \n",
    "    def by_year(self, year, reverse=True):\n",
    "        return self.query('{}/**'.format(year), reverse=reverse)\n",
    "\n",
    "    def by_day(self, year, day, reverse=True)\n",
    "        return self.query('{0}/{1}/**'.format(year, day), reverse=reverse)\n",
    "        \n",
    "h = HEntries('/Users/myles/WebSites/mylesbraithwaite.com-content')\n",
    "\n",
    "h"
   ]
  },
  {
   "cell_type": "code",
   "execution_count": 23,
   "metadata": {},
   "outputs": [
    {
     "name": "stdout",
     "output_type": "stream",
     "text": [
      "First Pull Request to the Pandas Project\n",
      "/Users/myles/WebSites/mylesbraithwaite.com-content/posts/2018/069/01\n",
      "/Users/myles/WebSites/mylesbraithwaite.com-content/posts/2018/068/01\n",
      "The Broccoli Tree\n",
      "/Users/myles/WebSites/mylesbraithwaite.com-content/posts/2018/065/01\n",
      "Hiveway.io forks Mastodon and slaps a blockchain on top, for some reason\n",
      "/Users/myles/WebSites/mylesbraithwaite.com-content/posts/2018/062/01\n",
      "Not Moving to Portland\n"
     ]
    }
   ],
   "source": [
    "for p in h.all():\n",
    "    print(p)"
   ]
  },
  {
   "cell_type": "code",
   "execution_count": 24,
   "metadata": {},
   "outputs": [
    {
     "data": {
      "text/plain": [
       "HEntry(/Users/myles/WebSites/mylesbraithwaite.com-content/posts/2018/069/01)"
      ]
     },
     "execution_count": 24,
     "metadata": {},
     "output_type": "execute_result"
    }
   ],
   "source": [
    "h.get('2018/069/01')"
   ]
  },
  {
   "cell_type": "code",
   "execution_count": null,
   "metadata": {},
   "outputs": [],
   "source": []
  }
 ],
 "metadata": {
  "kernelspec": {
   "display_name": "Python 3",
   "language": "python",
   "name": "python3"
  },
  "language_info": {
   "codemirror_mode": {
    "name": "ipython",
    "version": 3
   },
   "file_extension": ".py",
   "mimetype": "text/x-python",
   "name": "python",
   "nbconvert_exporter": "python",
   "pygments_lexer": "ipython3",
   "version": "3.6.4"
  }
 },
 "nbformat": 4,
 "nbformat_minor": 2
}
