{
 "cells": [
  {
   "cell_type": "code",
   "execution_count": 1,
   "metadata": {},
   "outputs": [],
   "source": [
    "import toml"
   ]
  },
  {
   "cell_type": "code",
   "execution_count": 27,
   "metadata": {},
   "outputs": [],
   "source": [
    "import pprint\n",
    "pp = pprint.PrettyPrinter(indent=2)"
   ]
  },
  {
   "cell_type": "code",
   "execution_count": 28,
   "metadata": {},
   "outputs": [
    {
     "name": "stdout",
     "output_type": "stream",
     "text": [
      "{ 'adr': {'country_name': 'Canada', 'locality': 'Toronto', 'type': 'adr'},\n",
      "  'bday': datetime.datetime(1986, 9, 19, 9, 0, tzinfo=<toml.TomlTz object at 0x104962fd0>),\n",
      "  'email': 'me@mylesb.ca',\n",
      "  'name': 'Myles Braithwaite',\n",
      "  'nickname': 'Myles',\n",
      "  'org': [ { 'name': 'Monkey in your Soul',\n",
      "             'type': 'card',\n",
      "             'url': 'https://monkeyinyoursoul.com/'},\n",
      "           { 'name': 'Rotten Bananas',\n",
      "             'type': 'card',\n",
      "             'url': 'https://rottenbananas.ca/'},\n",
      "           { 'adr': { 'country_name': 'Canada',\n",
      "                      'extended_address': 'Suite 101',\n",
      "                      'geo': { 'latitude': 43.5034701,\n",
      "                               'longitude': -79.6744108,\n",
      "                               'type': 'geo'},\n",
      "                      'locality': 'Oakville',\n",
      "                      'postal_code': 'L6H 0G5',\n",
      "                      'region': 'Ontario',\n",
      "                      'street_address': '2265 Upper Middle Road East',\n",
      "                      'type': 'adr'},\n",
      "             'name': 'GrantMatch™',\n",
      "             'type': 'card',\n",
      "             'url': 'https://grantmatch.ca/'}],\n",
      "  'url': 'https://mylesb.ca/'}\n"
     ]
    }
   ],
   "source": [
    "h_card_string = \"\"\"\n",
    "name = 'Myles Braithwaite'\n",
    "nickname = 'Myles'\n",
    "\n",
    "url = 'https://mylesb.ca/'\n",
    "email = 'me@mylesb.ca'\n",
    "\n",
    "bday = 1986-09-19T09:00:00-05:00\n",
    "\n",
    "[[org]]\n",
    "  type = 'card'\n",
    "  name = 'Monkey in your Soul'\n",
    "  url = 'https://monkeyinyoursoul.com/'\n",
    "\n",
    "[[org]]\n",
    "  type = 'card'\n",
    "  name = 'Rotten Bananas'\n",
    "  url = 'https://rottenbananas.ca/'\n",
    "\n",
    "[[org]]\n",
    "  type = 'card'\n",
    "  name = 'GrantMatch™'\n",
    "  url = 'https://grantmatch.ca/'\n",
    "\n",
    "  [org.adr]\n",
    "    type = 'adr'\n",
    "    street_address = '2265 Upper Middle Road East'\n",
    "    extended_address = 'Suite 101'\n",
    "    locality = 'Oakville'\n",
    "    region = 'Ontario'\n",
    "    postal_code = 'L6H 0G5'\n",
    "    country_name = 'Canada'\n",
    "\n",
    "    [org.adr.geo]\n",
    "      type = 'geo'\n",
    "      latitude = 43.5034701\n",
    "      longitude = -79.6744108\n",
    "\n",
    "[adr]\n",
    "  type = 'adr'\n",
    "  locality = 'Toronto'\n",
    "  country_name = 'Canada'\n",
    "\"\"\"\n",
    "\n",
    "h_card = toml.loads(h_card_string)\n",
    "\n",
    "pp.pprint(h_card)"
   ]
  },
  {
   "cell_type": "code",
   "execution_count": null,
   "metadata": {},
   "outputs": [],
   "source": []
  },
  {
   "cell_type": "code",
   "execution_count": null,
   "metadata": {},
   "outputs": [],
   "source": []
  }
 ],
 "metadata": {
  "kernelspec": {
   "display_name": "Python 3",
   "language": "python",
   "name": "python3"
  },
  "language_info": {
   "codemirror_mode": {
    "name": "ipython",
    "version": 3
   },
   "file_extension": ".py",
   "mimetype": "text/x-python",
   "name": "python",
   "nbconvert_exporter": "python",
   "pygments_lexer": "ipython3",
   "version": "3.6.4"
  }
 },
 "nbformat": 4,
 "nbformat_minor": 2
}
