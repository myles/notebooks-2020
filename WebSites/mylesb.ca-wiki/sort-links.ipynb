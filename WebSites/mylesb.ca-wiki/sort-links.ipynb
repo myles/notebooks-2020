{
 "cells": [
  {
   "cell_type": "code",
   "execution_count": 3,
   "metadata": {},
   "outputs": [],
   "source": [
    "test_string = \"\"\"# Heading\n",
    "\n",
    "<dfn>Headding</dfn> is a thing.\n",
    "\n",
    "## Links\n",
    "\n",
    "-   [B](https://example.com)\n",
    "-   [A](https://example.com)\n",
    "\n",
    "## See Also\n",
    "\n",
    "-   [Z](https://example.com)\n",
    "-   [R](https://example.com)\n",
    "\"\"\""
   ]
  },
  {
   "cell_type": "code",
   "execution_count": 7,
   "metadata": {},
   "outputs": [],
   "source": [
    "lines = test_string.split(\"\\n\")"
   ]
  },
  {
   "cell_type": "code",
   "execution_count": 16,
   "metadata": {},
   "outputs": [
    {
     "data": {
      "text/plain": [
       "[['# Heading'],\n",
       " [''],\n",
       " ['<dfn>Headding</dfn> is a thing.'],\n",
       " [''],\n",
       " ['## Links'],\n",
       " ['', '-   [A](https://example.com)'],\n",
       " ['-   [B](https://example.com)'],\n",
       " [''],\n",
       " ['## See Also'],\n",
       " ['', '-   [R](https://example.com)'],\n",
       " ['-   [Z](https://example.com)'],\n",
       " ['']]"
      ]
     },
     "execution_count": 16,
     "metadata": {},
     "output_type": "execute_result"
    }
   ],
   "source": [
    "blocks = []\n",
    "last_indent = None\n",
    "\n",
    "for line in lines:\n",
    "    s_line = line.lstrip()\n",
    "    indent = len(line) - len(s_line)\n",
    "\n",
    "    if any([s_line.startswith(s) for s in ['-   [', '*   [']]):\n",
    "        if indent == last_indent:\n",
    "            blocks[-2].append(line)\n",
    "        else:\n",
    "            blocks.append([line])\n",
    "        \n",
    "        last_indent = indent\n",
    "    else:\n",
    "        blocks.append([line])\n",
    "        last_indent = None\n",
    "\n",
    "blocks"
   ]
  },
  {
   "cell_type": "code",
   "execution_count": null,
   "metadata": {},
   "outputs": [],
   "source": []
  }
 ],
 "metadata": {
  "kernelspec": {
   "display_name": "Python 3",
   "language": "python",
   "name": "python3"
  },
  "language_info": {
   "codemirror_mode": {
    "name": "ipython",
    "version": 3
   },
   "file_extension": ".py",
   "mimetype": "text/x-python",
   "name": "python",
   "nbconvert_exporter": "python",
   "pygments_lexer": "ipython3",
   "version": "3.7.0"
  }
 },
 "nbformat": 4,
 "nbformat_minor": 2
}
