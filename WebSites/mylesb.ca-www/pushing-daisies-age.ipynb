{
 "cells": [
  {
   "cell_type": "code",
   "execution_count": 12,
   "metadata": {},
   "outputs": [],
   "source": [
    "import datetime\n",
    "from operator import sub\n",
    "from dateutil.relativedelta import relativedelta\n",
    "\n",
    "birthday = datetime.datetime(1986, 9, 19, 8, 22)"
   ]
  },
  {
   "cell_type": "code",
   "execution_count": 13,
   "metadata": {},
   "outputs": [],
   "source": [
    "def been_alice_for(birthday, now):\n",
    "    delta = relativedelta(now, birthday)\n",
    "    \n",
    "    data = {\n",
    "        'years': delta.years,\n",
    "        'weeks': delta.days % 7,\n",
    "    }\n",
    "    \n",
    "    data['days'] = delta.days - (data['weeks'] * 7)\n",
    "    data['hours'] = delta.hours\n",
    "    data['minutes'] = delta.minutes\n",
    "    \n",
    "    display = []\n",
    "    \n",
    "    for key, value in data.items():\n",
    "        if value:\n",
    "            display.append(('{0} {1}'.format(value, key)))\n",
    "\n",
    "    return ', '.join(display)"
   ]
  },
  {
   "cell_type": "code",
   "execution_count": 14,
   "metadata": {},
   "outputs": [
    {
     "data": {
      "text/plain": [
       "'31 years, 3 weeks, 3 days, 1 hours, 21 minutes'"
      ]
     },
     "execution_count": 14,
     "metadata": {},
     "output_type": "execute_result"
    }
   ],
   "source": [
    "been_alice_for(birthday, datetime.datetime.now())"
   ]
  },
  {
   "cell_type": "code",
   "execution_count": null,
   "metadata": {},
   "outputs": [],
   "source": []
  }
 ],
 "metadata": {
  "kernelspec": {
   "display_name": "Python 3",
   "language": "python",
   "name": "python3"
  },
  "language_info": {
   "codemirror_mode": {
    "name": "ipython",
    "version": 3
   },
   "file_extension": ".py",
   "mimetype": "text/x-python",
   "name": "python",
   "nbconvert_exporter": "python",
   "pygments_lexer": "ipython3",
   "version": "3.6.2"
  }
 },
 "nbformat": 4,
 "nbformat_minor": 2
}
