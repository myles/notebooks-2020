{
 "cells": [
  {
   "cell_type": "code",
   "execution_count": 1,
   "metadata": {},
   "outputs": [],
   "source": [
    "import datetime\n",
    "from operator import sub\n",
    "from dateutil.relativedelta import relativedelta"
   ]
  },
  {
   "cell_type": "code",
   "execution_count": 91,
   "metadata": {},
   "outputs": [],
   "source": [
    "def been_alive_for(birthday, now=datetime.datetime.now()):\n",
    "    delta = relativedelta(now, birthday)\n",
    "    \n",
    "    if delta.months:\n",
    "        days = 30*delta.months\n",
    "    else:\n",
    "        days = delta.days\n",
    "    \n",
    "    data = {\n",
    "        'years': delta.years,\n",
    "        'weeks': days / 7,\n",
    "    }\n",
    "    \n",
    "    data['days'] = days - (data['weeks'] * 7)\n",
    "    \n",
    "    if data['weeks'] < 1:\n",
    "        data['days'] = days\n",
    "        data['weeks'] = None\n",
    "    else:\n",
    "        week_remainder = data['weeks'] - round(data['weeks'], 0)\n",
    "        data['weeks'] = round(data['weeks'], 0)\n",
    "        data['days'] = data['days'] + (week_remainder * 7)\n",
    "    \n",
    "    if data['days'] < 0:\n",
    "        data['weeks'] = data['weeks'] - 1\n",
    "        data['days'] = 7 + data['days']\n",
    "    \n",
    "    data['hours'] = delta.hours\n",
    "    data['minutes'] = delta.minutes\n",
    "    \n",
    "    display = []\n",
    "    \n",
    "    for key, value in data.items():\n",
    "        if value:\n",
    "            display.append(('{0} {1}'.format(round(value), key)))\n",
    "\n",
    "    return ', '.join(display)"
   ]
  },
  {
   "cell_type": "code",
   "execution_count": 92,
   "metadata": {},
   "outputs": [
    {
     "data": {
      "text/plain": [
       "'32 years, 4 days, 8 hours, 6 minutes'"
      ]
     },
     "execution_count": 92,
     "metadata": {},
     "output_type": "execute_result"
    }
   ],
   "source": [
    "been_alive_for(datetime.datetime(1986, 9, 19, 8, 22))"
   ]
  },
  {
   "cell_type": "code",
   "execution_count": 93,
   "metadata": {},
   "outputs": [
    {
     "data": {
      "text/plain": [
       "'1 hours, 1 minutes'"
      ]
     },
     "execution_count": 93,
     "metadata": {},
     "output_type": "execute_result"
    }
   ],
   "source": [
    "been_alive_for(datetime.datetime(2000, 1, 1), datetime.datetime(2000, 1, 1, 1, 1))"
   ]
  },
  {
   "cell_type": "code",
   "execution_count": 94,
   "metadata": {},
   "outputs": [
    {
     "data": {
      "text/plain": [
       "'1 hours, 10 minutes'"
      ]
     },
     "execution_count": 94,
     "metadata": {},
     "output_type": "execute_result"
    }
   ],
   "source": [
    "been_alive_for(datetime.datetime(2000, 1, 1), datetime.datetime(2000, 1, 1, 1, 10))"
   ]
  },
  {
   "cell_type": "code",
   "execution_count": 95,
   "metadata": {},
   "outputs": [
    {
     "data": {
      "text/plain": [
       "'10 years'"
      ]
     },
     "execution_count": 95,
     "metadata": {},
     "output_type": "execute_result"
    }
   ],
   "source": [
    "been_alive_for(datetime.datetime(2000, 1, 1), datetime.datetime(2010, 1, 1))"
   ]
  },
  {
   "cell_type": "code",
   "execution_count": null,
   "metadata": {},
   "outputs": [],
   "source": []
  }
 ],
 "metadata": {
  "kernelspec": {
   "display_name": "Python 3",
   "language": "python",
   "name": "python3"
  },
  "language_info": {
   "codemirror_mode": {
    "name": "ipython",
    "version": 3
   },
   "file_extension": ".py",
   "mimetype": "text/x-python",
   "name": "python",
   "nbconvert_exporter": "python",
   "pygments_lexer": "ipython3",
   "version": "3.7.0"
  }
 },
 "nbformat": 4,
 "nbformat_minor": 2
}
