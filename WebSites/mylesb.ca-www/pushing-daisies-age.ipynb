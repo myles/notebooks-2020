{
 "cells": [
  {
   "cell_type": "code",
   "execution_count": 1,
   "metadata": {},
   "outputs": [],
   "source": [
    "import datetime\n",
    "from operator import sub\n",
    "from dateutil.relativedelta import relativedelta"
   ]
  },
  {
   "cell_type": "code",
   "execution_count": 2,
   "metadata": {},
   "outputs": [],
   "source": [
    "def been_alive_for(birthday, now=datetime.datetime.now()):\n",
    "    delta = relativedelta(now, birthday)\n",
    "    \n",
    "    if delta.months:\n",
    "        days = 30*delta.months\n",
    "    else:\n",
    "        days = delta.days\n",
    "    \n",
    "    data = {\n",
    "        'years': delta.years,\n",
    "        'weeks': days % 7,\n",
    "    }\n",
    "    \n",
    "    data['days'] = days - (data['weeks'] * 7)\n",
    "    data['hours'] = delta.hours\n",
    "    data['minutes'] = delta.minutes\n",
    "    \n",
    "    display = []\n",
    "    \n",
    "    for key, value in data.items():\n",
    "        if value:\n",
    "            display.append(('{0} {1}'.format(value, key)))\n",
    "\n",
    "    return ', '.join(display)"
   ]
  },
  {
   "cell_type": "code",
   "execution_count": 3,
   "metadata": {},
   "outputs": [
    {
     "data": {
      "text/plain": [
       "'31 years, 2 weeks, 16 days, 1 hours, 4 minutes'"
      ]
     },
     "execution_count": 3,
     "metadata": {},
     "output_type": "execute_result"
    }
   ],
   "source": [
    "been_alive_for(datetime.datetime(1986, 9, 19, 8, 22))"
   ]
  }
 ],
 "metadata": {
  "kernelspec": {
   "display_name": "Python 3",
   "language": "python",
   "name": "python3"
  },
  "language_info": {
   "codemirror_mode": {
    "name": "ipython",
    "version": 3
   },
   "file_extension": ".py",
   "mimetype": "text/x-python",
   "name": "python",
   "nbconvert_exporter": "python",
   "pygments_lexer": "ipython3",
   "version": "3.6.2"
  }
 },
 "nbformat": 4,
 "nbformat_minor": 2
}
