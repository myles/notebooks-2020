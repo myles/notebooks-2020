{
 "cells": [
  {
   "cell_type": "code",
   "execution_count": 1,
   "metadata": {},
   "outputs": [],
   "source": [
    "class A:\n",
    "    \n",
    "    def __init__(self):\n",
    "        self.hello = 'Hello'\n",
    "        self.world = 'World'"
   ]
  },
  {
   "cell_type": "code",
   "execution_count": 2,
   "metadata": {},
   "outputs": [
    {
     "name": "stdout",
     "output_type": "stream",
     "text": [
      "{'hello': 'Hello', 'world': 'World'}\n"
     ]
    }
   ],
   "source": [
    "a = A()\n",
    "\n",
    "print(a.__dict__)"
   ]
  },
  {
   "cell_type": "code",
   "execution_count": 3,
   "metadata": {},
   "outputs": [],
   "source": [
    "class B(A):\n",
    "    \n",
    "    def to_dict(self):\n",
    "        data = {}\n",
    "        \n",
    "        for k, v in self.__dict__.items():\n",
    "            data[k] = [v]\n",
    "        \n",
    "        return data"
   ]
  },
  {
   "cell_type": "code",
   "execution_count": 4,
   "metadata": {},
   "outputs": [
    {
     "name": "stdout",
     "output_type": "stream",
     "text": [
      "{'hello': ['Hello'], 'world': ['World']}\n"
     ]
    }
   ],
   "source": [
    "b = B()\n",
    "\n",
    "print(b.to_dict())"
   ]
  },
  {
   "cell_type": "code",
   "execution_count": 7,
   "metadata": {},
   "outputs": [],
   "source": [
    "class C(B):\n",
    "    \n",
    "    @property\n",
    "    def name(self):\n",
    "        return '{0} {1}!'.format(self.hello, self.world)\n",
    "    \n",
    "    def to_dict(self):\n",
    "        data = {}\n",
    "        \n",
    "        for k, v in self.__dict__.items():\n",
    "            data[k] = [v]\n",
    "        \n",
    "        data['name'] = self.name\n",
    "        \n",
    "        return data"
   ]
  },
  {
   "cell_type": "code",
   "execution_count": 8,
   "metadata": {},
   "outputs": [
    {
     "name": "stdout",
     "output_type": "stream",
     "text": [
      "{'hello': ['Hello'], 'world': ['World'], 'name': 'Hello World!'}\n"
     ]
    }
   ],
   "source": [
    "c = C()\n",
    "\n",
    "print(c.to_dict())"
   ]
  },
  {
   "cell_type": "code",
   "execution_count": null,
   "metadata": {},
   "outputs": [],
   "source": []
  }
 ],
 "metadata": {
  "kernelspec": {
   "display_name": "Python 3",
   "language": "python",
   "name": "python3"
  },
  "language_info": {
   "codemirror_mode": {
    "name": "ipython",
    "version": 3
   },
   "file_extension": ".py",
   "mimetype": "text/x-python",
   "name": "python",
   "nbconvert_exporter": "python",
   "pygments_lexer": "ipython3",
   "version": "3.6.4"
  }
 },
 "nbformat": 4,
 "nbformat_minor": 2
}
