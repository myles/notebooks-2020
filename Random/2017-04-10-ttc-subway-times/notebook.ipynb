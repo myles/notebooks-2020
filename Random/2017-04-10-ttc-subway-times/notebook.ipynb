{
 "cells": [
  {
   "cell_type": "code",
   "execution_count": 1,
   "metadata": {
    "collapsed": true
   },
   "outputs": [],
   "source": [
    "from sqlalchemy import create_engine\n",
    "\n",
    "ttc_subway_times = create_engine('postgresql://localhost/ttc_subway_times')"
   ]
  },
  {
   "cell_type": "code",
   "execution_count": 2,
   "metadata": {
    "collapsed": true
   },
   "outputs": [],
   "source": [
    "import pandas as pd\n",
    "import numpy as np"
   ]
  },
  {
   "cell_type": "code",
   "execution_count": 3,
   "metadata": {
    "collapsed": true
   },
   "outputs": [],
   "source": [
    "df = pd.read_sql_query(\"SELECT * FROM ntas_data\", con=ttc_subway_times)"
   ]
  },
  {
   "cell_type": "code",
   "execution_count": 4,
   "metadata": {},
   "outputs": [
    {
     "data": {
      "text/html": [
       "<div>\n",
       "<style>\n",
       "    .dataframe thead tr:only-child th {\n",
       "        text-align: right;\n",
       "    }\n",
       "\n",
       "    .dataframe thead th {\n",
       "        text-align: left;\n",
       "    }\n",
       "\n",
       "    .dataframe tbody tr th {\n",
       "        vertical-align: top;\n",
       "    }\n",
       "</style>\n",
       "<table border=\"1\" class=\"dataframe\">\n",
       "  <thead>\n",
       "    <tr style=\"text-align: right;\">\n",
       "      <th></th>\n",
       "      <th>requestid</th>\n",
       "      <th>id</th>\n",
       "      <th>station_char</th>\n",
       "      <th>subwayline</th>\n",
       "      <th>system_message_type</th>\n",
       "      <th>timint</th>\n",
       "      <th>traindirection</th>\n",
       "      <th>trainid</th>\n",
       "      <th>train_message</th>\n",
       "    </tr>\n",
       "  </thead>\n",
       "  <tbody>\n",
       "    <tr>\n",
       "      <th>5741032</th>\n",
       "      <td>878649</td>\n",
       "      <td>13372591224</td>\n",
       "      <td>DML1</td>\n",
       "      <td>SHEP</td>\n",
       "      <td>Normal</td>\n",
       "      <td>7.312651</td>\n",
       "      <td>East</td>\n",
       "      <td>464</td>\n",
       "      <td>Arriving</td>\n",
       "    </tr>\n",
       "    <tr>\n",
       "      <th>5741033</th>\n",
       "      <td>878649</td>\n",
       "      <td>13372591225</td>\n",
       "      <td>DML1</td>\n",
       "      <td>SHEP</td>\n",
       "      <td>Normal</td>\n",
       "      <td>14.946141</td>\n",
       "      <td>East</td>\n",
       "      <td>461</td>\n",
       "      <td>Arriving</td>\n",
       "    </tr>\n",
       "    <tr>\n",
       "      <th>5741034</th>\n",
       "      <td>878649</td>\n",
       "      <td>13372591226</td>\n",
       "      <td>DML2</td>\n",
       "      <td>SHEP</td>\n",
       "      <td>Normal</td>\n",
       "      <td>2.352987</td>\n",
       "      <td>West</td>\n",
       "      <td>463</td>\n",
       "      <td>Arriving</td>\n",
       "    </tr>\n",
       "    <tr>\n",
       "      <th>5741035</th>\n",
       "      <td>878649</td>\n",
       "      <td>13372591227</td>\n",
       "      <td>DML2</td>\n",
       "      <td>SHEP</td>\n",
       "      <td>Normal</td>\n",
       "      <td>7.567651</td>\n",
       "      <td>West</td>\n",
       "      <td>464</td>\n",
       "      <td>Arriving</td>\n",
       "    </tr>\n",
       "    <tr>\n",
       "      <th>5741036</th>\n",
       "      <td>878649</td>\n",
       "      <td>13372591228</td>\n",
       "      <td>DML2</td>\n",
       "      <td>SHEP</td>\n",
       "      <td>Normal</td>\n",
       "      <td>15.201141</td>\n",
       "      <td>West</td>\n",
       "      <td>461</td>\n",
       "      <td>Arriving</td>\n",
       "    </tr>\n",
       "  </tbody>\n",
       "</table>\n",
       "</div>"
      ],
      "text/plain": [
       "         requestid           id station_char subwayline system_message_type  \\\n",
       "5741032     878649  13372591224         DML1       SHEP              Normal   \n",
       "5741033     878649  13372591225         DML1       SHEP              Normal   \n",
       "5741034     878649  13372591226         DML2       SHEP              Normal   \n",
       "5741035     878649  13372591227         DML2       SHEP              Normal   \n",
       "5741036     878649  13372591228         DML2       SHEP              Normal   \n",
       "\n",
       "            timint traindirection  trainid train_message  \n",
       "5741032   7.312651           East      464      Arriving  \n",
       "5741033  14.946141           East      461      Arriving  \n",
       "5741034   2.352987           West      463      Arriving  \n",
       "5741035   7.567651           West      464      Arriving  \n",
       "5741036  15.201141           West      461      Arriving  "
      ]
     },
     "execution_count": 4,
     "metadata": {},
     "output_type": "execute_result"
    }
   ],
   "source": [
    "df.tail()"
   ]
  },
  {
   "cell_type": "code",
   "execution_count": 5,
   "metadata": {},
   "outputs": [
    {
     "data": {
      "text/plain": [
       "Index                        80\n",
       "requestid              45928296\n",
       "id                     45928296\n",
       "station_char           45928296\n",
       "subwayline             45928296\n",
       "system_message_type    45928296\n",
       "timint                 45928296\n",
       "traindirection         45928296\n",
       "trainid                45928296\n",
       "train_message          45928296\n",
       "dtype: int64"
      ]
     },
     "execution_count": 5,
     "metadata": {},
     "output_type": "execute_result"
    }
   ],
   "source": [
    "df.memory_usage()"
   ]
  },
  {
   "cell_type": "code",
   "execution_count": null,
   "metadata": {
    "collapsed": true
   },
   "outputs": [],
   "source": []
  }
 ],
 "metadata": {
  "kernelspec": {
   "display_name": "Python 3",
   "language": "python",
   "name": "python3"
  },
  "language_info": {
   "codemirror_mode": {
    "name": "ipython",
    "version": 3
   },
   "file_extension": ".py",
   "mimetype": "text/x-python",
   "name": "python",
   "nbconvert_exporter": "python",
   "pygments_lexer": "ipython3",
   "version": "3.6.1"
  }
 },
 "nbformat": 4,
 "nbformat_minor": 2
}
