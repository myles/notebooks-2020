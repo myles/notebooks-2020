{
 "cells": [
  {
   "cell_type": "code",
   "execution_count": 2,
   "metadata": {},
   "outputs": [],
   "source": [
    "import requests_html\n",
    "session = requests_html.Session()"
   ]
  },
  {
   "cell_type": "code",
   "execution_count": 4,
   "metadata": {},
   "outputs": [
    {
     "data": {
      "text/plain": [
       "<Response [200]>"
      ]
     },
     "execution_count": 4,
     "metadata": {},
     "output_type": "execute_result"
    }
   ],
   "source": [
    "resp = session.get('https://mylesb.ca/')\n",
    "\n",
    "resp"
   ]
  },
  {
   "cell_type": "code",
   "execution_count": 5,
   "metadata": {},
   "outputs": [
    {
     "data": {
      "text/plain": [
       "{'/about/',\n",
       " '/avatars/',\n",
       " '/contact/',\n",
       " '/gpg/',\n",
       " '/otr/',\n",
       " '/ssh/',\n",
       " 'http://myles.red/?utm_source=mylesb.ca&utm_medium=button&utm_campaign=referral',\n",
       " 'http://mylesbraithwaite.com/?utm_source=mylesb.ca&utm_medium=button&utm_campaign=referral',\n",
       " 'http://mylesbraithwaite.org/?utm_source=mylesb.ca&utm_medium=button&utm_campaign=referral',\n",
       " 'http://www.myles.life/?utm_source=mylesb.ca&utm_medium=button&utm_campaign=referral',\n",
       " 'http://youaretheworst.today/?utm_source=mylesb.ca&utm_medium=button&utm_campaign=referral',\n",
       " 'https://ilovemyles.com/?utm_source=mylesb.ca&utm_medium=button&utm_campaign=referral'}"
      ]
     },
     "execution_count": 5,
     "metadata": {},
     "output_type": "execute_result"
    }
   ],
   "source": [
    "resp.html.links"
   ]
  },
  {
   "cell_type": "code",
   "execution_count": 6,
   "metadata": {},
   "outputs": [
    {
     "data": {
      "text/plain": [
       "{'http://myles.red/?utm_source=mylesb.ca&utm_medium=button&utm_campaign=referral',\n",
       " 'http://mylesbraithwaite.com/?utm_source=mylesb.ca&utm_medium=button&utm_campaign=referral',\n",
       " 'http://mylesbraithwaite.org/?utm_source=mylesb.ca&utm_medium=button&utm_campaign=referral',\n",
       " 'http://www.myles.life/?utm_source=mylesb.ca&utm_medium=button&utm_campaign=referral',\n",
       " 'http://youaretheworst.today/?utm_source=mylesb.ca&utm_medium=button&utm_campaign=referral',\n",
       " 'https://ilovemyles.com/?utm_source=mylesb.ca&utm_medium=button&utm_campaign=referral',\n",
       " 'https://mylesb.ca/about/',\n",
       " 'https://mylesb.ca/avatars/',\n",
       " 'https://mylesb.ca/contact/',\n",
       " 'https://mylesb.ca/gpg/',\n",
       " 'https://mylesb.ca/otr/',\n",
       " 'https://mylesb.ca/ssh/'}"
      ]
     },
     "execution_count": 6,
     "metadata": {},
     "output_type": "execute_result"
    }
   ],
   "source": [
    "resp.html.absolute_links"
   ]
  },
  {
   "cell_type": "code",
   "execution_count": 18,
   "metadata": {},
   "outputs": [
    {
     "data": {
      "text/plain": [
       "{'class': ('page--index', 'landing', 'h-card')}"
      ]
     },
     "execution_count": 18,
     "metadata": {},
     "output_type": "execute_result"
    }
   ],
   "source": [
    "h_card = resp.html.find('.h-card', first=True)"
   ]
  },
  {
   "cell_type": "code",
   "execution_count": 21,
   "metadata": {},
   "outputs": [
    {
     "name": "stdout",
     "output_type": "stream",
     "text": [
      "Myles Braithwaite\n"
     ]
    }
   ],
   "source": [
    "name = h_card.find('.p-name', first=True)\n",
    "\n",
    "print(name.text)"
   ]
  },
  {
   "cell_type": "code",
   "execution_count": 27,
   "metadata": {},
   "outputs": [
    {
     "name": "stdout",
     "output_type": "stream",
     "text": [
      "{'http://mylesbraithwaite.com/?utm_source=mylesb.ca&utm_medium=button&utm_campaign=referral'}\n",
      "{'http://mylesbraithwaite.org/?utm_source=mylesb.ca&utm_medium=button&utm_campaign=referral'}\n",
      "{'http://www.myles.life/?utm_source=mylesb.ca&utm_medium=button&utm_campaign=referral'}\n",
      "{'http://myles.red/?utm_source=mylesb.ca&utm_medium=button&utm_campaign=referral'}\n",
      "{'http://youaretheworst.today/?utm_source=mylesb.ca&utm_medium=button&utm_campaign=referral'}\n",
      "{'https://ilovemyles.com/?utm_source=mylesb.ca&utm_medium=button&utm_campaign=referral'}\n"
     ]
    }
   ],
   "source": [
    "rel_me = h_card.find('[rel=\"me\"]')\n",
    "\n",
    "for url in rel_me:\n",
    "    print(url.absolute_links)"
   ]
  },
  {
   "cell_type": "code",
   "execution_count": null,
   "metadata": {},
   "outputs": [],
   "source": []
  }
 ],
 "metadata": {
  "kernelspec": {
   "display_name": "Python 3",
   "language": "python",
   "name": "python3"
  },
  "language_info": {
   "codemirror_mode": {
    "name": "ipython",
    "version": 3
   },
   "file_extension": ".py",
   "mimetype": "text/x-python",
   "name": "python",
   "nbconvert_exporter": "python",
   "pygments_lexer": "ipython3",
   "version": "3.6.4"
  }
 },
 "nbformat": 4,
 "nbformat_minor": 2
}
