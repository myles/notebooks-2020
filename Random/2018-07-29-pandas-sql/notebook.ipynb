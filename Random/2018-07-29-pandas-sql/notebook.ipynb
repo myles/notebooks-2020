{
 "cells": [
  {
   "cell_type": "code",
   "execution_count": 4,
   "metadata": {},
   "outputs": [],
   "source": [
    "from sqlalchemy import create_engine\n",
    "\n",
    "engine = create_engine('postgresql:///to_open_data')"
   ]
  },
  {
   "cell_type": "code",
   "execution_count": 5,
   "metadata": {},
   "outputs": [],
   "source": [
    "import pandas as pd\n",
    "\n",
    "df = pd.read_sql_query('select * from \"locations\"', con=engine)"
   ]
  },
  {
   "cell_type": "code",
   "execution_count": 6,
   "metadata": {},
   "outputs": [
    {
     "data": {
      "text/html": [
       "<div>\n",
       "<style scoped>\n",
       "    .dataframe tbody tr th:only-of-type {\n",
       "        vertical-align: middle;\n",
       "    }\n",
       "\n",
       "    .dataframe tbody tr th {\n",
       "        vertical-align: top;\n",
       "    }\n",
       "\n",
       "    .dataframe thead th {\n",
       "        text-align: right;\n",
       "    }\n",
       "</style>\n",
       "<table border=\"1\" class=\"dataframe\">\n",
       "  <thead>\n",
       "    <tr style=\"text-align: right;\">\n",
       "      <th></th>\n",
       "      <th>type_code</th>\n",
       "      <th>type_desc</th>\n",
       "      <th>code</th>\n",
       "      <th>description</th>\n",
       "      <th>name</th>\n",
       "      <th>address</th>\n",
       "      <th>phone</th>\n",
       "      <th>location</th>\n",
       "    </tr>\n",
       "  </thead>\n",
       "  <tbody>\n",
       "    <tr>\n",
       "      <th>0</th>\n",
       "      <td>COOL_LOCN</td>\n",
       "      <td>Cooling Location</td>\n",
       "      <td>LIBRARY</td>\n",
       "      <td>Library</td>\n",
       "      <td>Agincourt</td>\n",
       "      <td>155 Bonis Ave</td>\n",
       "      <td>416-396-8943</td>\n",
       "      <td>(-79.291554,43.786126)</td>\n",
       "    </tr>\n",
       "    <tr>\n",
       "      <th>1</th>\n",
       "      <td>COOL_LOCN</td>\n",
       "      <td>Cooling Location</td>\n",
       "      <td>COMM_CNTR</td>\n",
       "      <td>Community Centre</td>\n",
       "      <td>Agincourt RC</td>\n",
       "      <td>31 Glen Watford Dr</td>\n",
       "      <td>416-395-4037</td>\n",
       "      <td>(-79.276244,43.788047)</td>\n",
       "    </tr>\n",
       "    <tr>\n",
       "      <th>2</th>\n",
       "      <td>COOL_LOCN</td>\n",
       "      <td>Cooling Location</td>\n",
       "      <td>LIBRARY</td>\n",
       "      <td>Library</td>\n",
       "      <td>Albert Campbell</td>\n",
       "      <td>496 Birchmount Rd</td>\n",
       "      <td>416-396-8890</td>\n",
       "      <td>(-79.268637,43.708233)</td>\n",
       "    </tr>\n",
       "    <tr>\n",
       "      <th>3</th>\n",
       "      <td>COOL_LOCN</td>\n",
       "      <td>Cooling Location</td>\n",
       "      <td>LIBRARY</td>\n",
       "      <td>Library</td>\n",
       "      <td>Albion</td>\n",
       "      <td>1515 Albion Rd</td>\n",
       "      <td>416-394-5170</td>\n",
       "      <td>(-79.583958,43.739821)</td>\n",
       "    </tr>\n",
       "    <tr>\n",
       "      <th>4</th>\n",
       "      <td>COOL_LOCN</td>\n",
       "      <td>Cooling Location</td>\n",
       "      <td>LIBRARY</td>\n",
       "      <td>Library</td>\n",
       "      <td>Alderwood</td>\n",
       "      <td>2 Orianna Dr</td>\n",
       "      <td>416-394-5310</td>\n",
       "      <td>(-79.546536,43.601512)</td>\n",
       "    </tr>\n",
       "  </tbody>\n",
       "</table>\n",
       "</div>"
      ],
      "text/plain": [
       "   type_code         type_desc       code       description             name  \\\n",
       "0  COOL_LOCN  Cooling Location    LIBRARY           Library        Agincourt   \n",
       "1  COOL_LOCN  Cooling Location  COMM_CNTR  Community Centre     Agincourt RC   \n",
       "2  COOL_LOCN  Cooling Location    LIBRARY           Library  Albert Campbell   \n",
       "3  COOL_LOCN  Cooling Location    LIBRARY           Library           Albion   \n",
       "4  COOL_LOCN  Cooling Location    LIBRARY           Library        Alderwood   \n",
       "\n",
       "              address         phone                location  \n",
       "0       155 Bonis Ave  416-396-8943  (-79.291554,43.786126)  \n",
       "1  31 Glen Watford Dr  416-395-4037  (-79.276244,43.788047)  \n",
       "2   496 Birchmount Rd  416-396-8890  (-79.268637,43.708233)  \n",
       "3      1515 Albion Rd  416-394-5170  (-79.583958,43.739821)  \n",
       "4        2 Orianna Dr  416-394-5310  (-79.546536,43.601512)  "
      ]
     },
     "execution_count": 6,
     "metadata": {},
     "output_type": "execute_result"
    }
   ],
   "source": [
    "df.head()"
   ]
  },
  {
   "cell_type": "code",
   "execution_count": null,
   "metadata": {},
   "outputs": [],
   "source": []
  }
 ],
 "metadata": {
  "kernelspec": {
   "display_name": "Python 3",
   "language": "python",
   "name": "python3"
  }
 },
 "nbformat": 4,
 "nbformat_minor": 2
}
