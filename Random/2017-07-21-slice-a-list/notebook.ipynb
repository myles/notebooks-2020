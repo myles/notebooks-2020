{
 "cells": [
  {
   "cell_type": "code",
   "execution_count": 26,
   "metadata": {},
   "outputs": [
    {
     "data": {
      "text/plain": [
       "52"
      ]
     },
     "execution_count": 26,
     "metadata": {},
     "output_type": "execute_result"
    }
   ],
   "source": [
    "import itertools\n",
    "import string\n",
    "\n",
    "alphabet = list(string.ascii_letters)\n",
    "len(alphabet)"
   ]
  },
  {
   "cell_type": "code",
   "execution_count": 29,
   "metadata": {},
   "outputs": [
    {
     "data": {
      "text/plain": [
       "[['a', 'b', 'c', 'd', 'e'],\n",
       " ['f', 'g', 'h', 'i', 'j'],\n",
       " ['k', 'l', 'm', 'n', 'o'],\n",
       " ['p', 'q', 'r', 's', 't'],\n",
       " ['u', 'v', 'w', 'x', 'y'],\n",
       " ['z', 'A', 'B', 'C', 'D'],\n",
       " ['E', 'F', 'G', 'H', 'I'],\n",
       " ['J', 'K', 'L', 'M', 'N'],\n",
       " ['O', 'P', 'Q', 'R', 'S'],\n",
       " ['T', 'U', 'V', 'W', 'X'],\n",
       " ['Y', 'Z']]"
      ]
     },
     "execution_count": 29,
     "metadata": {},
     "output_type": "execute_result"
    }
   ],
   "source": [
    "def paginate(iterable, page_size):\n",
    "    while True:\n",
    "        i1, i2 = itertools.tee(iterable)\n",
    "        iterable, page = (itertools.islice(i1, page_size, None),\n",
    "            list(itertools.islice(i2, page_size)))\n",
    "        if len(page) == 0:\n",
    "            break\n",
    "        yield page\n",
    "\n",
    "list(paginate(alphabet, 5))"
   ]
  },
  {
   "cell_type": "code",
   "execution_count": null,
   "metadata": {
    "collapsed": true
   },
   "outputs": [],
   "source": []
  }
 ],
 "metadata": {
  "kernelspec": {
   "display_name": "Python 3",
   "language": "python",
   "name": "python3"
  },
  "language_info": {
   "codemirror_mode": {
    "name": "ipython",
    "version": 3
   },
   "file_extension": ".py",
   "mimetype": "text/x-python",
   "name": "python",
   "nbconvert_exporter": "python",
   "pygments_lexer": "ipython3",
   "version": "3.6.1"
  }
 },
 "nbformat": 4,
 "nbformat_minor": 2
}
