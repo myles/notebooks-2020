{
 "cells": [
  {
   "cell_type": "code",
   "execution_count": 1,
   "metadata": {},
   "outputs": [
    {
     "name": "stderr",
     "output_type": "stream",
     "text": [
      "/usr/local/lib/python3.6/site-packages/bs4/__init__.py:181: UserWarning: No parser was explicitly specified, so I'm using the best available HTML parser for this system (\"lxml\"). This usually isn't a problem, but if you run this code on another system, or in a different virtual environment, it may use a different parser and behave differently.\n",
      "\n",
      "The code that caused this warning is on line 193 of the file /usr/local/Cellar/python3/3.6.4_2/Frameworks/Python.framework/Versions/3.6/lib/python3.6/runpy.py. To get rid of this warning, change code that looks like this:\n",
      "\n",
      " BeautifulSoup(YOUR_MARKUP})\n",
      "\n",
      "to this:\n",
      "\n",
      " BeautifulSoup(YOUR_MARKUP, \"lxml\")\n",
      "\n",
      "  markup_type=markup_type))\n"
     ]
    }
   ],
   "source": [
    "import mf2py\n",
    "\n",
    "obj = mf2py.parse(url='http://localhost:3000/')"
   ]
  },
  {
   "cell_type": "code",
   "execution_count": 5,
   "metadata": {},
   "outputs": [
    {
     "data": {
      "text/plain": [
       "dict_keys(['items', 'rels', 'rel-urls'])"
      ]
     },
     "execution_count": 5,
     "metadata": {},
     "output_type": "execute_result"
    }
   ],
   "source": [
    "obj.keys()"
   ]
  },
  {
   "cell_type": "code",
   "execution_count": 12,
   "metadata": {},
   "outputs": [
    {
     "data": {
      "text/plain": [
       "dict_keys(['type', 'properties'])"
      ]
     },
     "execution_count": 12,
     "metadata": {},
     "output_type": "execute_result"
    }
   ],
   "source": [
    "items = obj['items']\n",
    "\n",
    "items[0].keys()"
   ]
  },
  {
   "cell_type": "code",
   "execution_count": 13,
   "metadata": {},
   "outputs": [
    {
     "data": {
      "text/plain": [
       "['h-card']"
      ]
     },
     "execution_count": 13,
     "metadata": {},
     "output_type": "execute_result"
    }
   ],
   "source": [
    "items[0]['type']"
   ]
  },
  {
   "cell_type": "code",
   "execution_count": 14,
   "metadata": {},
   "outputs": [
    {
     "data": {
      "text/plain": [
       "{'name': ['Myles Braithwaite'],\n",
       " 'note': ['Myles Braithwaite lives in Toronto where he runs a small consulting company called Monkey in your Soul (you should hire him). His interests range from photography to hiking. He is also interested in programming, music, snowboarding, and watching movies and television.'],\n",
       " 'org': ['Monkey in your Soul',\n",
       "  {'properties': {'name': ['Monkey in your Soul'],\n",
       "    'url': ['https://monkeyinyoursoul.com/']},\n",
       "   'type': ['h-card'],\n",
       "   'value': 'Monkey in your Soul'},\n",
       "  {'properties': {'name': ['Rotten Bananas'],\n",
       "    'url': ['https://rottenbananas.ca/']},\n",
       "   'type': ['h-card'],\n",
       "   'value': 'Rotten Bananas'}],\n",
       " 'url': ['https://twitter.com/mylesb',\n",
       "  'https://myles.life/@me',\n",
       "  'https://github.com/myles',\n",
       "  'https://www.instagram.com/myles/',\n",
       "  'https://linkedin.com/in/mylesbraithwaite/']}"
      ]
     },
     "execution_count": 14,
     "metadata": {},
     "output_type": "execute_result"
    }
   ],
   "source": [
    "items[0]['properties']"
   ]
  },
  {
   "cell_type": "code",
   "execution_count": 16,
   "metadata": {},
   "outputs": [
    {
     "ename": "AttributeError",
     "evalue": "'dict' object has no attribute 'to_json'",
     "output_type": "error",
     "traceback": [
      "\u001b[0;31m---------------------------------------------------------------------------\u001b[0m",
      "\u001b[0;31mAttributeError\u001b[0m                            Traceback (most recent call last)",
      "\u001b[0;32m<ipython-input-16-5976ddf36e02>\u001b[0m in \u001b[0;36m<module>\u001b[0;34m()\u001b[0m\n\u001b[0;32m----> 1\u001b[0;31m \u001b[0mobj\u001b[0m\u001b[0;34m.\u001b[0m\u001b[0mto_json\u001b[0m\u001b[0;34m(\u001b[0m\u001b[0;34m)\u001b[0m\u001b[0;34m\u001b[0m\u001b[0m\n\u001b[0m",
      "\u001b[0;31mAttributeError\u001b[0m: 'dict' object has no attribute 'to_json'"
     ]
    }
   ],
   "source": [
    "obj.to_json()"
   ]
  },
  {
   "cell_type": "code",
   "execution_count": 27,
   "metadata": {},
   "outputs": [
    {
     "data": {
      "text/plain": [
       "{'properties': {'name': ['Myles Braithwaite'],\n",
       "  'note': ['Myles Braithwaite lives in Toronto where he runs a small consulting company called Monkey in your Soul (you should hire him). His interests range from photography to hiking. He is also interested in programming, music, snowboarding, and watching movies and television.'],\n",
       "  'org': ['Monkey in your Soul',\n",
       "   {'properties': {'name': ['Monkey in your Soul'],\n",
       "     'url': ['https://monkeyinyoursoul.com/']},\n",
       "    'type': ['h-card'],\n",
       "    'value': 'Monkey in your Soul'},\n",
       "   {'properties': {'name': ['Rotten Bananas'],\n",
       "     'url': ['https://rottenbananas.ca/']},\n",
       "    'type': ['h-card'],\n",
       "    'value': 'Rotten Bananas'}],\n",
       "  'url': ['https://twitter.com/mylesb',\n",
       "   'https://myles.life/@me',\n",
       "   'https://github.com/myles',\n",
       "   'https://www.instagram.com/myles/',\n",
       "   'https://linkedin.com/in/mylesbraithwaite/']},\n",
       " 'type': ['h-card']}"
      ]
     },
     "execution_count": 27,
     "metadata": {},
     "output_type": "execute_result"
    }
   ],
   "source": [
    "p = mf2py.Parser(url='http://localhost:3000/', html_parser='lxml')\n",
    "\n",
    "h_card = p.to_dict(filter_by_type='h-card')[0]\n",
    "\n",
    "h_card"
   ]
  },
  {
   "cell_type": "code",
   "execution_count": null,
   "metadata": {},
   "outputs": [],
   "source": []
  }
 ],
 "metadata": {
  "kernelspec": {
   "display_name": "Python 3",
   "language": "python",
   "name": "python3"
  },
  "language_info": {
   "codemirror_mode": {
    "name": "ipython",
    "version": 3
   },
   "file_extension": ".py",
   "mimetype": "text/x-python",
   "name": "python",
   "nbconvert_exporter": "python",
   "pygments_lexer": "ipython3",
   "version": "3.6.4"
  }
 },
 "nbformat": 4,
 "nbformat_minor": 2
}
