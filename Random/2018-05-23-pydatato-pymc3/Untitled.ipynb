{
 "cells": [
  {
   "cell_type": "code",
   "execution_count": 1,
   "metadata": {},
   "outputs": [
    {
     "ename": "TypeError",
     "evalue": "Wrong number of inputs for Switch.make_node (got 2((<int64>, <float64>)), expected 3)",
     "output_type": "error",
     "traceback": [
      "\u001b[0;31m---------------------------------------------------------------------------\u001b[0m",
      "\u001b[0;31mTypeError\u001b[0m                                 Traceback (most recent call last)",
      "\u001b[0;32m<ipython-input-1-cd05d14fd7da>\u001b[0m in \u001b[0;36m<module>\u001b[0;34m()\u001b[0m\n\u001b[1;32m     33\u001b[0m                         tt.switch(\n\u001b[1;32m     34\u001b[0m                             \u001b[0mtake_bus_dufferin_hacklab\u001b[0m\u001b[0;34m,\u001b[0m\u001b[0;34m\u001b[0m\u001b[0m\n\u001b[0;32m---> 35\u001b[0;31m                             \u001b[0mbus_dufferin_hacklab\u001b[0m\u001b[0;34m\u001b[0m\u001b[0m\n\u001b[0m\u001b[1;32m     36\u001b[0m                         )\n\u001b[1;32m     37\u001b[0m                     )\n",
      "\u001b[0;32m/usr/local/lib/python3.6/site-packages/theano/gof/op.py\u001b[0m in \u001b[0;36m__call__\u001b[0;34m(self, *inputs, **kwargs)\u001b[0m\n\u001b[1;32m    613\u001b[0m         \"\"\"\n\u001b[1;32m    614\u001b[0m         \u001b[0mreturn_list\u001b[0m \u001b[0;34m=\u001b[0m \u001b[0mkwargs\u001b[0m\u001b[0;34m.\u001b[0m\u001b[0mpop\u001b[0m\u001b[0;34m(\u001b[0m\u001b[0;34m'return_list'\u001b[0m\u001b[0;34m,\u001b[0m \u001b[0;32mFalse\u001b[0m\u001b[0;34m)\u001b[0m\u001b[0;34m\u001b[0m\u001b[0m\n\u001b[0;32m--> 615\u001b[0;31m         \u001b[0mnode\u001b[0m \u001b[0;34m=\u001b[0m \u001b[0mself\u001b[0m\u001b[0;34m.\u001b[0m\u001b[0mmake_node\u001b[0m\u001b[0;34m(\u001b[0m\u001b[0;34m*\u001b[0m\u001b[0minputs\u001b[0m\u001b[0;34m,\u001b[0m \u001b[0;34m**\u001b[0m\u001b[0mkwargs\u001b[0m\u001b[0;34m)\u001b[0m\u001b[0;34m\u001b[0m\u001b[0m\n\u001b[0m\u001b[1;32m    616\u001b[0m \u001b[0;34m\u001b[0m\u001b[0m\n\u001b[1;32m    617\u001b[0m         \u001b[0;32mif\u001b[0m \u001b[0mconfig\u001b[0m\u001b[0;34m.\u001b[0m\u001b[0mcompute_test_value\u001b[0m \u001b[0;34m!=\u001b[0m \u001b[0;34m'off'\u001b[0m\u001b[0;34m:\u001b[0m\u001b[0;34m\u001b[0m\u001b[0m\n",
      "\u001b[0;32m/usr/local/lib/python3.6/site-packages/theano/tensor/elemwise.py\u001b[0m in \u001b[0;36mmake_node\u001b[0;34m(self, *inputs)\u001b[0m\n\u001b[1;32m    480\u001b[0m         \u001b[0minputs\u001b[0m \u001b[0;34m=\u001b[0m \u001b[0mlist\u001b[0m\u001b[0;34m(\u001b[0m\u001b[0mmap\u001b[0m\u001b[0;34m(\u001b[0m\u001b[0mas_tensor_variable\u001b[0m\u001b[0;34m,\u001b[0m \u001b[0minputs\u001b[0m\u001b[0;34m)\u001b[0m\u001b[0;34m)\u001b[0m\u001b[0;34m\u001b[0m\u001b[0m\n\u001b[1;32m    481\u001b[0m         out_dtypes, out_broadcastables, inputs = self.get_output_info(\n\u001b[0;32m--> 482\u001b[0;31m             DimShuffle, *inputs)\n\u001b[0m\u001b[1;32m    483\u001b[0m         outputs = [TensorType(dtype=dtype, broadcastable=broadcastable)()\n\u001b[1;32m    484\u001b[0m                    for dtype, broadcastable in izip(out_dtypes,\n",
      "\u001b[0;32m/usr/local/lib/python3.6/site-packages/theano/tensor/elemwise.py\u001b[0m in \u001b[0;36mget_output_info\u001b[0;34m(self, dim_shuffle, *inputs)\u001b[0m\n\u001b[1;32m    422\u001b[0m         shadow = self.scalar_op.make_node(\n\u001b[1;32m    423\u001b[0m             *[get_scalar_type(dtype=i.type.dtype).make_variable()\n\u001b[0;32m--> 424\u001b[0;31m               for i in inputs])\n\u001b[0m\u001b[1;32m    425\u001b[0m \u001b[0;34m\u001b[0m\u001b[0m\n\u001b[1;32m    426\u001b[0m         \u001b[0mtarget_length\u001b[0m \u001b[0;34m=\u001b[0m \u001b[0mmax\u001b[0m\u001b[0;34m(\u001b[0m\u001b[0;34m[\u001b[0m\u001b[0minput\u001b[0m\u001b[0;34m.\u001b[0m\u001b[0mtype\u001b[0m\u001b[0;34m.\u001b[0m\u001b[0mndim\u001b[0m \u001b[0;32mfor\u001b[0m \u001b[0minput\u001b[0m \u001b[0;32min\u001b[0m \u001b[0minputs\u001b[0m\u001b[0;34m]\u001b[0m\u001b[0;34m)\u001b[0m\u001b[0;34m\u001b[0m\u001b[0m\n",
      "\u001b[0;32m/usr/local/lib/python3.6/site-packages/theano/scalar/basic.py\u001b[0m in \u001b[0;36mmake_node\u001b[0;34m(self, *inputs)\u001b[0m\n\u001b[1;32m   1039\u001b[0m             \u001b[0;32mif\u001b[0m \u001b[0mlen\u001b[0m\u001b[0;34m(\u001b[0m\u001b[0minputs\u001b[0m\u001b[0;34m)\u001b[0m \u001b[0;34m!=\u001b[0m \u001b[0mself\u001b[0m\u001b[0;34m.\u001b[0m\u001b[0mnin\u001b[0m\u001b[0;34m:\u001b[0m\u001b[0;34m\u001b[0m\u001b[0m\n\u001b[1;32m   1040\u001b[0m                 raise TypeError(\"Wrong number of inputs for %s.make_node (got %i(%s), expected %i)\" %\n\u001b[0;32m-> 1041\u001b[0;31m                                 (self, len(inputs), str(inputs), self.nin))\n\u001b[0m\u001b[1;32m   1042\u001b[0m         \u001b[0minputs\u001b[0m \u001b[0;34m=\u001b[0m \u001b[0;34m[\u001b[0m\u001b[0mas_scalar\u001b[0m\u001b[0;34m(\u001b[0m\u001b[0minput\u001b[0m\u001b[0;34m)\u001b[0m \u001b[0;32mfor\u001b[0m \u001b[0minput\u001b[0m \u001b[0;32min\u001b[0m \u001b[0minputs\u001b[0m\u001b[0;34m]\u001b[0m\u001b[0;34m\u001b[0m\u001b[0m\n\u001b[1;32m   1043\u001b[0m         outputs = [t() for t in self.output_types([input.type\n",
      "\u001b[0;31mTypeError\u001b[0m: Wrong number of inputs for Switch.make_node (got 2((<int64>, <float64>)), expected 3)"
     ]
    }
   ],
   "source": [
    "import pymc3 as pm\n",
    "from theano import tensor as tt\n",
    "\n",
    "with pm.Model() as commute_time:\n",
    "    # Walk Ossington Station -> HackLab.to\n",
    "    walk_ossington_hacklab = pm.Normal('walk_ossington_hacklab', 45, 5)\n",
    "    \n",
    "    # Walk Dufferin Station -> HackLab.to\n",
    "    walk_dufferin_hacklab = pm.Normal('walk_dufferin_hacklab', 30, 5)\n",
    "    \n",
    "    # Walk Queen Station -> HackLab.to\n",
    "    walk_queen_hacklab = pm.Normal('walk_queen_hacklab', 60, 5)\n",
    "    \n",
    "    # Queen Street Car -> HackLab.to\n",
    "    take_streetcar_queen_hacklab = pm.Bernoulli('take_streetcar_queen_hacklab', 0.2)\n",
    "    streetcar_queen_hacklab = pm.Normal('streetcar_queen_hacklab', 15, 5)\n",
    "    \n",
    "    # Dufferin Bus -> HackLab.to\n",
    "    take_bus_dufferin_hacklab = pm.Bernoulli('take_bus_dufferin_hacklab', 0.1)\n",
    "    bus_dufferin_hacklab = pm.Normal('bus_dufferin_hacklab', 15, 5)\n",
    "    \n",
    "    total_time = pm.Deterministic(\n",
    "        'total_time',\n",
    "        tt.switch(\n",
    "            walk_ossington_hacklab,\n",
    "            tt.switch(\n",
    "                walk_dufferin_hacklab,\n",
    "                tt.switch(\n",
    "                    walk_queen_hacklab,\n",
    "                    tt.switch(\n",
    "                        take_streetcar_queen_hacklab,\n",
    "                        streetcar_queen_hacklab,\n",
    "                        tt.switch(\n",
    "                            take_bus_dufferin_hacklab,\n",
    "                            bus_dufferin_hacklab\n",
    "                        )\n",
    "                    )\n",
    "                )\n",
    "            )\n",
    "        )\n",
    "    )\n",
    "    \n",
    "    trace = pm.sample(size = 1000)"
   ]
  },
  {
   "cell_type": "code",
   "execution_count": null,
   "metadata": {},
   "outputs": [],
   "source": [
    "pm.traceplot(trace);"
   ]
  }
 ],
 "metadata": {
  "kernelspec": {
   "display_name": "Python 3",
   "language": "python",
   "name": "python3"
  },
  "language_info": {
   "codemirror_mode": {
    "name": "ipython",
    "version": 3
   },
   "file_extension": ".py",
   "mimetype": "text/x-python",
   "name": "python",
   "nbconvert_exporter": "python",
   "pygments_lexer": "ipython3",
   "version": "3.6.4"
  }
 },
 "nbformat": 4,
 "nbformat_minor": 2
}
