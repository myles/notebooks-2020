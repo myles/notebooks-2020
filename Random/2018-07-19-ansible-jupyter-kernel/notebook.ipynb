{
 "cells": [
  {
   "cell_type": "code",
   "execution_count": 1,
   "metadata": {},
   "outputs": [
    {
     "name": "stdout",
     "output_type": "stream",
     "text": [
      "TASK [debug] *******************************************************************\n",
      "ok: [localhost] => {\n",
      "    \"msg\": \"Hello world!\"\n",
      "}\n"
     ]
    }
   ],
   "source": [
    "#task\n",
    "debug:"
   ]
  },
  {
   "cell_type": "code",
   "execution_count": 2,
   "metadata": {},
   "outputs": [
    {
     "name": "stdout",
     "output_type": "stream",
     "text": [
      "TASK [ping] ********************************************************************\n",
      "ok: [localhost] => {\n",
      "    \"ping\": \"pong\"\n",
      "}\n"
     ]
    }
   ],
   "source": [
    "ping: "
   ]
  },
  {
   "cell_type": "code",
   "execution_count": 3,
   "metadata": {},
   "outputs": [
    {
     "name": "stdout",
     "output_type": "stream",
     "text": [
      "fatal: [localhost]: FAILED! => this task 'ping' has extra params, which is only allowed in the following modules: include_vars, group_by, include_tasks, command, add_host, import_role, meta, import_tasks, raw, include, script, win_shell, set_fact, shell, include_role, win_command\n",
      "\n",
      "The error appears to have been in '/private/var/folders/_w/27n6rk3d1hjd9tzk224gx4yh0000gn/T/ansible_kernel_playbookvkq9mr8n/next_task2.yml': line 1, column 3, but may\n",
      "be elsewhere in the file depending on the exact syntax problem.\n",
      "\n",
      "The offending line appears to be:\n",
      "\n",
      "\n",
      "- ignore_errors: true\n",
      "  ^ here\n",
      "\n",
      "\n",
      "Playbook ended\n",
      "Context lost!\n"
     ]
    }
   ],
   "source": [
    "ping: 192.168.1.254"
   ]
  },
  {
   "cell_type": "code",
   "execution_count": null,
   "metadata": {},
   "outputs": [],
   "source": []
  }
 ],
 "metadata": {
  "kernelspec": {
   "display_name": "Ansible",
   "language": "ansible",
   "name": "ansible"
  },
  "language_info": {
   "codemirror_mode": "yaml",
   "file_extension": ".yml",
   "mimetype": "text/yaml",
   "name": "ansible"
  }
 },
 "nbformat": 4,
 "nbformat_minor": 2
}
