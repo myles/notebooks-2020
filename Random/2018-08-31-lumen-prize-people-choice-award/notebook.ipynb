{
 "cells": [
  {
   "cell_type": "code",
   "execution_count": 1,
   "metadata": {},
   "outputs": [],
   "source": [
    "from requests_html import HTMLSession\n",
    "\n",
    "session = HTMLSession()"
   ]
  },
  {
   "cell_type": "code",
   "execution_count": 3,
   "metadata": {},
   "outputs": [
    {
     "data": {
      "text/plain": [
       "True"
      ]
     },
     "execution_count": 3,
     "metadata": {},
     "output_type": "execute_result"
    }
   ],
   "source": [
    "resp = session.get('http://enter.lumenprize.com/people-choice-award-2018')\n",
    "\n",
    "resp.ok"
   ]
  },
  {
   "cell_type": "code",
   "execution_count": 13,
   "metadata": {},
   "outputs": [
    {
     "data": {
      "text/plain": [
       "60"
      ]
     },
     "execution_count": 13,
     "metadata": {},
     "output_type": "execute_result"
    }
   ],
   "source": [
    "people_urls = list(resp.html.find('.view-content', first=True).absolute_links)\n",
    "\n",
    "len(people_urls)"
   ]
  },
  {
   "cell_type": "code",
   "execution_count": 14,
   "metadata": {},
   "outputs": [
    {
     "data": {
      "text/plain": [
       "True"
      ]
     },
     "execution_count": 14,
     "metadata": {},
     "output_type": "execute_result"
    }
   ],
   "source": [
    "resp = session.get(people_urls[0])\n",
    "\n",
    "resp.ok"
   ]
  },
  {
   "cell_type": "code",
   "execution_count": 19,
   "metadata": {},
   "outputs": [
    {
     "data": {
      "text/plain": [
       "['38%', '62%']"
      ]
     },
     "execution_count": 19,
     "metadata": {},
     "output_type": "execute_result"
    }
   ],
   "source": [
    "[x.text for x in resp.html.find('.percent')]"
   ]
  },
  {
   "cell_type": "code",
   "execution_count": 21,
   "metadata": {},
   "outputs": [
    {
     "data": {
      "text/plain": [
       "'Béatrice Lartigue, Lab212'"
      ]
     },
     "execution_count": 21,
     "metadata": {},
     "output_type": "execute_result"
    }
   ],
   "source": [
    "resp.html.find('.field-name-field-artist-name', first=True).text"
   ]
  },
  {
   "cell_type": "code",
   "execution_count": 25,
   "metadata": {},
   "outputs": [],
   "source": [
    "rows = []\n",
    "\n",
    "for url in people_urls:\n",
    "    resp = session.get(url)\n",
    "    \n",
    "    artist = resp.html.find('.field-name-field-artist-name', first=True).text\n",
    "    up, down = [x.text for x in resp.html.find('.percent')]\n",
    "\n",
    "    rows += [{\n",
    "        'artist': artist,\n",
    "        'url': url,\n",
    "        'up': up,\n",
    "        'down': down\n",
    "    },]"
   ]
  },
  {
   "cell_type": "code",
   "execution_count": 27,
   "metadata": {},
   "outputs": [],
   "source": [
    "import pandas as pd"
   ]
  },
  {
   "cell_type": "code",
   "execution_count": 28,
   "metadata": {},
   "outputs": [],
   "source": [
    "df = pd.DataFrame(rows)"
   ]
  },
  {
   "cell_type": "code",
   "execution_count": 29,
   "metadata": {},
   "outputs": [
    {
     "data": {
      "text/html": [
       "<div>\n",
       "<style scoped>\n",
       "    .dataframe tbody tr th:only-of-type {\n",
       "        vertical-align: middle;\n",
       "    }\n",
       "\n",
       "    .dataframe tbody tr th {\n",
       "        vertical-align: top;\n",
       "    }\n",
       "\n",
       "    .dataframe thead th {\n",
       "        text-align: right;\n",
       "    }\n",
       "</style>\n",
       "<table border=\"1\" class=\"dataframe\">\n",
       "  <thead>\n",
       "    <tr style=\"text-align: right;\">\n",
       "      <th></th>\n",
       "      <th>artist</th>\n",
       "      <th>down</th>\n",
       "      <th>up</th>\n",
       "      <th>url</th>\n",
       "    </tr>\n",
       "  </thead>\n",
       "  <tbody>\n",
       "    <tr>\n",
       "      <th>0</th>\n",
       "      <td>Béatrice Lartigue, Lab212</td>\n",
       "      <td>62%</td>\n",
       "      <td>38%</td>\n",
       "      <td>http://enter.lumenprize.com/node/756</td>\n",
       "    </tr>\n",
       "    <tr>\n",
       "      <th>1</th>\n",
       "      <td>Scott Billings</td>\n",
       "      <td>49%</td>\n",
       "      <td>51%</td>\n",
       "      <td>http://enter.lumenprize.com/node/902</td>\n",
       "    </tr>\n",
       "    <tr>\n",
       "      <th>2</th>\n",
       "      <td>Clelio de Paula</td>\n",
       "      <td>30%</td>\n",
       "      <td>70%</td>\n",
       "      <td>http://enter.lumenprize.com/node/874</td>\n",
       "    </tr>\n",
       "    <tr>\n",
       "      <th>3</th>\n",
       "      <td>Synspecies (Elías Merino &amp; Tadej Droljc)</td>\n",
       "      <td>75%</td>\n",
       "      <td>25%</td>\n",
       "      <td>http://enter.lumenprize.com/node/523</td>\n",
       "    </tr>\n",
       "    <tr>\n",
       "      <th>4</th>\n",
       "      <td>Ben Bogart</td>\n",
       "      <td>72%</td>\n",
       "      <td>28%</td>\n",
       "      <td>http://enter.lumenprize.com/node/694</td>\n",
       "    </tr>\n",
       "  </tbody>\n",
       "</table>\n",
       "</div>"
      ],
      "text/plain": [
       "                                     artist down   up  \\\n",
       "0                 Béatrice Lartigue, Lab212  62%  38%   \n",
       "1                            Scott Billings  49%  51%   \n",
       "2                           Clelio de Paula  30%  70%   \n",
       "3  Synspecies (Elías Merino & Tadej Droljc)  75%  25%   \n",
       "4                                Ben Bogart  72%  28%   \n",
       "\n",
       "                                    url  \n",
       "0  http://enter.lumenprize.com/node/756  \n",
       "1  http://enter.lumenprize.com/node/902  \n",
       "2  http://enter.lumenprize.com/node/874  \n",
       "3  http://enter.lumenprize.com/node/523  \n",
       "4  http://enter.lumenprize.com/node/694  "
      ]
     },
     "execution_count": 29,
     "metadata": {},
     "output_type": "execute_result"
    }
   ],
   "source": [
    "df.head()"
   ]
  },
  {
   "cell_type": "code",
   "execution_count": null,
   "metadata": {},
   "outputs": [],
   "source": []
  }
 ],
 "metadata": {
  "kernelspec": {
   "display_name": "Python 3",
   "language": "python",
   "name": "python3"
  },
  "language_info": {
   "codemirror_mode": {
    "name": "ipython",
    "version": 3
   },
   "file_extension": ".py",
   "mimetype": "text/x-python",
   "name": "python",
   "nbconvert_exporter": "python",
   "pygments_lexer": "ipython3",
   "version": "3.7.0"
  }
 },
 "nbformat": 4,
 "nbformat_minor": 2
}
