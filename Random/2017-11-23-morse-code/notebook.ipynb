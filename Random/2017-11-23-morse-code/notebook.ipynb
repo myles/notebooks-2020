{
 "cells": [
  {
   "cell_type": "code",
   "execution_count": 28,
   "metadata": {},
   "outputs": [],
   "source": [
    "code_to_letters = {'.-': 'a', '-...': 'b', '-.-.': 'c', '-..': 'd', '.': 'e',\n",
    "                   '..-.': 'f', '--.': 'g', '....': 'h', '..': 'i', '.---': 'j',\n",
    "                   '-.-': 'k', '.-..': 'l', '--': 'm', '-.': 'n', '---': 'o',\n",
    "                   '.--.': 'p', '--.-': 'q', '.-.': 'r', '...': 's', '-': 't',\n",
    "                   '..-': 'u', '...-': 'v', '.--': 'w', '-.--': 'y', '--..': 'z',\n",
    "                   '.----': '1', '..---': '2', '...--': '3', '....-': '4',\n",
    "                   '.....': '5', '-....': '6', '--...': '7', '---..': '8',\n",
    "                   '----.': '9', '-----': '0', '\\\\': '\\n', '|': ' ' }\n",
    "\n",
    "letters_to_code = {y:x for x,y in code_to_letters.items()}"
   ]
  },
  {
   "cell_type": "code",
   "execution_count": 29,
   "metadata": {},
   "outputs": [
    {
     "data": {
      "text/plain": [
       "'.... . .-.. .-.. --- | .-- --- .-. .-.. -..'"
      ]
     },
     "execution_count": 29,
     "metadata": {},
     "output_type": "execute_result"
    }
   ],
   "source": [
    "def encode(string):\n",
    "    resp = []\n",
    "    letters = list(string.lower())\n",
    "    \n",
    "    for letter in letters:\n",
    "        resp.append(letters_to_code[letter])\n",
    "    \n",
    "    return ' '.join(resp)\n",
    "\n",
    "hello_world = encode('Hello World')\n",
    "\n",
    "hello_world"
   ]
  },
  {
   "cell_type": "code",
   "execution_count": 30,
   "metadata": {},
   "outputs": [
    {
     "data": {
      "text/plain": [
       "'hello world'"
      ]
     },
     "execution_count": 30,
     "metadata": {},
     "output_type": "execute_result"
    }
   ],
   "source": [
    "def decode(code):\n",
    "    resp = []\n",
    "    code = code.split(' ')\n",
    "    \n",
    "    for x in code:\n",
    "        resp.append(code_to_letters[x])\n",
    "    \n",
    "    return ''.join(resp)\n",
    "\n",
    "decode(hello_world)"
   ]
  },
  {
   "cell_type": "code",
   "execution_count": null,
   "metadata": {},
   "outputs": [],
   "source": []
  }
 ],
 "metadata": {
  "kernelspec": {
   "display_name": "Python 3",
   "language": "python",
   "name": "python3"
  },
  "language_info": {
   "codemirror_mode": {
    "name": "ipython",
    "version": 3
   },
   "file_extension": ".py",
   "mimetype": "text/x-python",
   "name": "python",
   "nbconvert_exporter": "python",
   "pygments_lexer": "ipython3",
   "version": "3.6.3"
  }
 },
 "nbformat": 4,
 "nbformat_minor": 2
}
