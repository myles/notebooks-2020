{
 "cells": [
  {
   "cell_type": "markdown",
   "metadata": {},
   "source": [
    "# List of all Canadian Municipalities\n",
    "\n",
    "The list of municipalities was found on the CRA website, <https://www.canada.ca/en/revenue-agency/services/charities-giving/other-organizations-that-issue-donation-receipts-qualified-donees/municipalities.html#List>."
   ]
  },
  {
   "cell_type": "code",
   "execution_count": 2,
   "metadata": {},
   "outputs": [],
   "source": [
    "import pandas as pd"
   ]
  },
  {
   "cell_type": "code",
   "execution_count": 3,
   "metadata": {},
   "outputs": [],
   "source": [
    "CRA_LIST_OF_MUNICIPALITIES = {\n",
    "    'Alberta': 'https://www.canada.ca/en/revenue-agency/services/charities-giving/other-organizations-that-issue-donation-receipts-qualified-donees/other-qualified-donees-listings/list-municipalities-alberta.html',\n",
    "    'British Columbia': 'https://www.canada.ca/en/revenue-agency/services/charities-giving/other-organizations-that-issue-donation-receipts-qualified-donees/other-qualified-donees-listings/list-municipalities-british-columbia.html',\n",
    "    'Manitoba': 'https://www.canada.ca/en/revenue-agency/services/charities-giving/other-organizations-that-issue-donation-receipts-qualified-donees/other-qualified-donees-listings/list-municipalities-manitoba.html',\n",
    "    'New Brunswick': 'https://www.canada.ca/en/revenue-agency/services/charities-giving/other-organizations-that-issue-donation-receipts-qualified-donees/other-qualified-donees-listings/list-municipalities-new-brunswick.html',\n",
    "    'Newfoundland and Labrador': 'https://www.canada.ca/en/revenue-agency/services/charities-giving/other-organizations-that-issue-donation-receipts-qualified-donees/other-qualified-donees-listings/list-municipalities-newfoundland-labrador.html',\n",
    "    'Northwest Territories': 'https://www.canada.ca/en/revenue-agency/services/charities-giving/other-organizations-that-issue-donation-receipts-qualified-donees/other-qualified-donees-listings/list-municipalities-northwest-territories.html',\n",
    "    'Nova Scotia': 'https://www.canada.ca/en/revenue-agency/services/charities-giving/other-organizations-that-issue-donation-receipts-qualified-donees/other-qualified-donees-listings/list-municipalities-nova-scotia.html',\n",
    "    'Nunavut': 'https://www.canada.ca/en/revenue-agency/services/charities-giving/other-organizations-that-issue-donation-receipts-qualified-donees/other-qualified-donees-listings/list-municipalities-nunavut.html',\n",
    "    'Ontario': 'https://www.canada.ca/en/revenue-agency/services/charities-giving/other-organizations-that-issue-donation-receipts-qualified-donees/other-qualified-donees-listings/list-municipalities-ontario.html',\n",
    "    'Prince Edward Island': 'https://www.canada.ca/en/revenue-agency/services/charities-giving/other-organizations-that-issue-donation-receipts-qualified-donees/other-qualified-donees-listings/list-municipalities-prince-edward-island.html',\n",
    "    'Quebec': 'https://www.canada.ca/en/revenue-agency/services/charities-giving/other-organizations-that-issue-donation-receipts-qualified-donees/other-qualified-donees-listings/list-municipalities-quebec.html',\n",
    "    'Saskatchewan': 'https://www.canada.ca/en/revenue-agency/services/charities-giving/other-organizations-that-issue-donation-receipts-qualified-donees/other-qualified-donees-listings/list-municipalities-saskatchewan.html',\n",
    "    'Yukon': 'https://www.canada.ca/en/revenue-agency/services/charities-giving/other-organizations-that-issue-donation-receipts-qualified-donees/other-qualified-donees-listings/list-municipalities-yukon.html',\n",
    "}"
   ]
  },
  {
   "cell_type": "code",
   "execution_count": 4,
   "metadata": {},
   "outputs": [
    {
     "data": {
      "text/html": [
       "<div>\n",
       "<style scoped>\n",
       "    .dataframe tbody tr th:only-of-type {\n",
       "        vertical-align: middle;\n",
       "    }\n",
       "\n",
       "    .dataframe tbody tr th {\n",
       "        vertical-align: top;\n",
       "    }\n",
       "\n",
       "    .dataframe thead th {\n",
       "        text-align: right;\n",
       "    }\n",
       "</style>\n",
       "<table border=\"1\" class=\"dataframe\">\n",
       "  <thead>\n",
       "    <tr style=\"text-align: right;\">\n",
       "      <th></th>\n",
       "      <th>Name</th>\n",
       "      <th>Type</th>\n",
       "      <th>Status</th>\n",
       "      <th>Effective date</th>\n",
       "      <th>Notes</th>\n",
       "      <th>Province</th>\n",
       "    </tr>\n",
       "  </thead>\n",
       "  <tbody>\n",
       "    <tr>\n",
       "      <th>3</th>\n",
       "      <td>Haines Junction</td>\n",
       "      <td>Municipality</td>\n",
       "      <td>Registered</td>\n",
       "      <td>2012-01-01</td>\n",
       "      <td>NaN</td>\n",
       "      <td>Yukon</td>\n",
       "    </tr>\n",
       "    <tr>\n",
       "      <th>4</th>\n",
       "      <td>Mayo</td>\n",
       "      <td>Municipality</td>\n",
       "      <td>Registered</td>\n",
       "      <td>2012-01-01</td>\n",
       "      <td>NaN</td>\n",
       "      <td>Yukon</td>\n",
       "    </tr>\n",
       "    <tr>\n",
       "      <th>5</th>\n",
       "      <td>Teslin</td>\n",
       "      <td>Municipality</td>\n",
       "      <td>Registered</td>\n",
       "      <td>2012-01-01</td>\n",
       "      <td>NaN</td>\n",
       "      <td>Yukon</td>\n",
       "    </tr>\n",
       "    <tr>\n",
       "      <th>6</th>\n",
       "      <td>Watson Lake</td>\n",
       "      <td>Municipality</td>\n",
       "      <td>Registered</td>\n",
       "      <td>2012-01-01</td>\n",
       "      <td>NaN</td>\n",
       "      <td>Yukon</td>\n",
       "    </tr>\n",
       "    <tr>\n",
       "      <th>7</th>\n",
       "      <td>Whitehorse</td>\n",
       "      <td>Municipality</td>\n",
       "      <td>Registered</td>\n",
       "      <td>2012-01-01</td>\n",
       "      <td>NaN</td>\n",
       "      <td>Yukon</td>\n",
       "    </tr>\n",
       "  </tbody>\n",
       "</table>\n",
       "</div>"
      ],
      "text/plain": [
       "              Name          Type      Status Effective date Notes Province\n",
       "3  Haines Junction  Municipality  Registered     2012-01-01   NaN    Yukon\n",
       "4             Mayo  Municipality  Registered     2012-01-01   NaN    Yukon\n",
       "5           Teslin  Municipality  Registered     2012-01-01   NaN    Yukon\n",
       "6      Watson Lake  Municipality  Registered     2012-01-01   NaN    Yukon\n",
       "7       Whitehorse  Municipality  Registered     2012-01-01   NaN    Yukon"
      ]
     },
     "execution_count": 4,
     "metadata": {},
     "output_type": "execute_result"
    }
   ],
   "source": [
    "dfs = []\n",
    "\n",
    "for province, website in CRA_LIST_OF_MUNICIPALITIES.items():\n",
    "    df = pd.read_html(website)[0]\n",
    "    \n",
    "    df['Province'] = province\n",
    "    \n",
    "    dfs.append(df)\n",
    "\n",
    "df = pd.concat(dfs)\n",
    "\n",
    "df.tail()"
   ]
  },
  {
   "cell_type": "code",
   "execution_count": 5,
   "metadata": {},
   "outputs": [
    {
     "data": {
      "text/html": [
       "<div>\n",
       "<style scoped>\n",
       "    .dataframe tbody tr th:only-of-type {\n",
       "        vertical-align: middle;\n",
       "    }\n",
       "\n",
       "    .dataframe tbody tr th {\n",
       "        vertical-align: top;\n",
       "    }\n",
       "\n",
       "    .dataframe thead th {\n",
       "        text-align: right;\n",
       "    }\n",
       "</style>\n",
       "<table border=\"1\" class=\"dataframe\">\n",
       "  <thead>\n",
       "    <tr style=\"text-align: right;\">\n",
       "      <th></th>\n",
       "      <th>name</th>\n",
       "      <th>province</th>\n",
       "      <th>type</th>\n",
       "      <th>status</th>\n",
       "      <th>effective_date</th>\n",
       "      <th>notes</th>\n",
       "    </tr>\n",
       "  </thead>\n",
       "  <tbody>\n",
       "    <tr>\n",
       "      <th>3</th>\n",
       "      <td>Haines Junction</td>\n",
       "      <td>Yukon</td>\n",
       "      <td>Municipality</td>\n",
       "      <td>Registered</td>\n",
       "      <td>2012-01-01</td>\n",
       "      <td>NaN</td>\n",
       "    </tr>\n",
       "    <tr>\n",
       "      <th>4</th>\n",
       "      <td>Mayo</td>\n",
       "      <td>Yukon</td>\n",
       "      <td>Municipality</td>\n",
       "      <td>Registered</td>\n",
       "      <td>2012-01-01</td>\n",
       "      <td>NaN</td>\n",
       "    </tr>\n",
       "    <tr>\n",
       "      <th>5</th>\n",
       "      <td>Teslin</td>\n",
       "      <td>Yukon</td>\n",
       "      <td>Municipality</td>\n",
       "      <td>Registered</td>\n",
       "      <td>2012-01-01</td>\n",
       "      <td>NaN</td>\n",
       "    </tr>\n",
       "    <tr>\n",
       "      <th>6</th>\n",
       "      <td>Watson Lake</td>\n",
       "      <td>Yukon</td>\n",
       "      <td>Municipality</td>\n",
       "      <td>Registered</td>\n",
       "      <td>2012-01-01</td>\n",
       "      <td>NaN</td>\n",
       "    </tr>\n",
       "    <tr>\n",
       "      <th>7</th>\n",
       "      <td>Whitehorse</td>\n",
       "      <td>Yukon</td>\n",
       "      <td>Municipality</td>\n",
       "      <td>Registered</td>\n",
       "      <td>2012-01-01</td>\n",
       "      <td>NaN</td>\n",
       "    </tr>\n",
       "  </tbody>\n",
       "</table>\n",
       "</div>"
      ],
      "text/plain": [
       "              name province          type      status effective_date notes\n",
       "3  Haines Junction    Yukon  Municipality  Registered     2012-01-01   NaN\n",
       "4             Mayo    Yukon  Municipality  Registered     2012-01-01   NaN\n",
       "5           Teslin    Yukon  Municipality  Registered     2012-01-01   NaN\n",
       "6      Watson Lake    Yukon  Municipality  Registered     2012-01-01   NaN\n",
       "7       Whitehorse    Yukon  Municipality  Registered     2012-01-01   NaN"
      ]
     },
     "execution_count": 5,
     "metadata": {},
     "output_type": "execute_result"
    }
   ],
   "source": [
    "df = df[['Name', 'Province', 'Type', 'Status', 'Effective date', 'Notes']]\n",
    "\n",
    "df['Effective date'] = pd.to_datetime(df['Effective date'])\n",
    "\n",
    "df = df.rename(columns={'Name': 'name', 'Province': 'province', 'Type': 'type',\n",
    "                   'Status': 'status', 'Effective date': 'effective_date', 'Notes': 'notes'})\n",
    "\n",
    "df.tail()"
   ]
  },
  {
   "cell_type": "code",
   "execution_count": 6,
   "metadata": {},
   "outputs": [],
   "source": [
    "import datetime\n",
    "\n",
    "df.to_csv('list-of-canadian-municipalities.csv'.format(datetime.date.today()))"
   ]
  },
  {
   "cell_type": "code",
   "execution_count": 8,
   "metadata": {},
   "outputs": [],
   "source": [
    "with open('list-of-canadian-municipalities.json', 'w') as fobj:\n",
    "    fobj.write(df.to_json(orient='table'))"
   ]
  },
  {
   "cell_type": "code",
   "execution_count": null,
   "metadata": {},
   "outputs": [],
   "source": []
  }
 ],
 "metadata": {
  "kernelspec": {
   "display_name": "Python 3",
   "language": "python",
   "name": "python3"
  },
  "language_info": {
   "codemirror_mode": {
    "name": "ipython",
    "version": 3
   },
   "file_extension": ".py",
   "mimetype": "text/x-python",
   "name": "python",
   "nbconvert_exporter": "python",
   "pygments_lexer": "ipython3",
   "version": "3.6.3"
  }
 },
 "nbformat": 4,
 "nbformat_minor": 2
}
