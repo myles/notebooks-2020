{
 "cells": [
  {
   "cell_type": "code",
   "execution_count": 3,
   "metadata": {},
   "outputs": [],
   "source": [
    "import requests\n",
    "from bs4 import BeautifulSoup"
   ]
  },
  {
   "cell_type": "code",
   "execution_count": 9,
   "metadata": {},
   "outputs": [],
   "source": [
    "resp = requests.get('https://coinmarketcap.com/coins/views/all/')\n",
    "soup = BeautifulSoup(resp.content, 'html.parser')"
   ]
  },
  {
   "cell_type": "code",
   "execution_count": 22,
   "metadata": {},
   "outputs": [],
   "source": [
    "tbody = soup.find_all('tbody')[0]\n",
    "rows = tbody.find_all('tr')"
   ]
  },
  {
   "cell_type": "code",
   "execution_count": 14,
   "metadata": {},
   "outputs": [],
   "source": [
    "historical_data_urls = []\n",
    "\n",
    "for link in links:\n",
    "    historical_data_urls.append()"
   ]
  },
  {
   "cell_type": "code",
   "execution_count": 20,
   "metadata": {},
   "outputs": [
    {
     "data": {
      "text/html": [
       "<div>\n",
       "<style scoped>\n",
       "    .dataframe tbody tr th:only-of-type {\n",
       "        vertical-align: middle;\n",
       "    }\n",
       "\n",
       "    .dataframe tbody tr th {\n",
       "        vertical-align: top;\n",
       "    }\n",
       "\n",
       "    .dataframe thead th {\n",
       "        text-align: right;\n",
       "    }\n",
       "</style>\n",
       "<table border=\"1\" class=\"dataframe\">\n",
       "  <thead>\n",
       "    <tr style=\"text-align: right;\">\n",
       "      <th></th>\n",
       "      <th>Date</th>\n",
       "      <th>Open</th>\n",
       "      <th>High</th>\n",
       "      <th>Low</th>\n",
       "      <th>Close</th>\n",
       "      <th>Volume</th>\n",
       "      <th>Market Cap</th>\n",
       "      <th>currency</th>\n",
       "      <th>symbol</th>\n",
       "    </tr>\n",
       "  </thead>\n",
       "  <tbody>\n",
       "    <tr>\n",
       "      <th>45</th>\n",
       "      <td>Oct 21, 2017</td>\n",
       "      <td>0.000661</td>\n",
       "      <td>0.000918</td>\n",
       "      <td>0.000605</td>\n",
       "      <td>0.000782</td>\n",
       "      <td>142870</td>\n",
       "      <td>-</td>\n",
       "      <td>Swisscoin</td>\n",
       "      <td>SIC</td>\n",
       "    </tr>\n",
       "    <tr>\n",
       "      <th>46</th>\n",
       "      <td>Oct 20, 2017</td>\n",
       "      <td>0.000570</td>\n",
       "      <td>0.000784</td>\n",
       "      <td>0.000455</td>\n",
       "      <td>0.000782</td>\n",
       "      <td>139044</td>\n",
       "      <td>-</td>\n",
       "      <td>Swisscoin</td>\n",
       "      <td>SIC</td>\n",
       "    </tr>\n",
       "    <tr>\n",
       "      <th>47</th>\n",
       "      <td>Oct 19, 2017</td>\n",
       "      <td>0.000503</td>\n",
       "      <td>0.000574</td>\n",
       "      <td>0.000395</td>\n",
       "      <td>0.000513</td>\n",
       "      <td>187487</td>\n",
       "      <td>-</td>\n",
       "      <td>Swisscoin</td>\n",
       "      <td>SIC</td>\n",
       "    </tr>\n",
       "    <tr>\n",
       "      <th>48</th>\n",
       "      <td>Oct 18, 2017</td>\n",
       "      <td>0.000448</td>\n",
       "      <td>0.000940</td>\n",
       "      <td>0.000430</td>\n",
       "      <td>0.000503</td>\n",
       "      <td>531964</td>\n",
       "      <td>-</td>\n",
       "      <td>Swisscoin</td>\n",
       "      <td>SIC</td>\n",
       "    </tr>\n",
       "    <tr>\n",
       "      <th>49</th>\n",
       "      <td>Oct 17, 2017</td>\n",
       "      <td>0.000504</td>\n",
       "      <td>0.000560</td>\n",
       "      <td>0.000391</td>\n",
       "      <td>0.000392</td>\n",
       "      <td>169334</td>\n",
       "      <td>-</td>\n",
       "      <td>Swisscoin</td>\n",
       "      <td>SIC</td>\n",
       "    </tr>\n",
       "  </tbody>\n",
       "</table>\n",
       "</div>"
      ],
      "text/plain": [
       "            Date      Open      High       Low     Close  Volume Market Cap  \\\n",
       "45  Oct 21, 2017  0.000661  0.000918  0.000605  0.000782  142870          -   \n",
       "46  Oct 20, 2017  0.000570  0.000784  0.000455  0.000782  139044          -   \n",
       "47  Oct 19, 2017  0.000503  0.000574  0.000395  0.000513  187487          -   \n",
       "48  Oct 18, 2017  0.000448  0.000940  0.000430  0.000503  531964          -   \n",
       "49  Oct 17, 2017  0.000504  0.000560  0.000391  0.000392  169334          -   \n",
       "\n",
       "     currency symbol  \n",
       "45  Swisscoin    SIC  \n",
       "46  Swisscoin    SIC  \n",
       "47  Swisscoin    SIC  \n",
       "48  Swisscoin    SIC  \n",
       "49  Swisscoin    SIC  "
      ]
     },
     "execution_count": 20,
     "metadata": {},
     "output_type": "execute_result"
    }
   ],
   "source": [
    "dfs = []\n",
    "\n",
    "for row in rows:\n",
    "    link = row.find_all('a', attrs={'class': 'currency-name-container'})[0]\n",
    "    historial_data_url = 'https://coinmarketcap.com{0}historical-data/?start=20000101&end={1}'.format(link.attrs['href'], datetime.datetime.today().strftime('%Y%m%d'))\n",
    "    \n",
    "    df = pd.read_html(historial_data_url)[0]\n",
    "    \n",
    "    df['currency'] = link.text\n",
    "    df['symbol'] = row.find_all('td', attrs={'class': 'col-symbol'})[0].text\n",
    "    \n",
    "    dfs.append(df)\n",
    "\n",
    "df = pd.concat(dfs)\n",
    "\n",
    "df.tail()"
   ]
  },
  {
   "cell_type": "code",
   "execution_count": 21,
   "metadata": {},
   "outputs": [],
   "source": [
    "df.to_csv('data/historical-data-extract.csv')"
   ]
  },
  {
   "cell_type": "code",
   "execution_count": null,
   "metadata": {},
   "outputs": [],
   "source": []
  }
 ],
 "metadata": {
  "kernelspec": {
   "display_name": "Python 3",
   "language": "python",
   "name": "python3"
  },
  "language_info": {
   "codemirror_mode": {
    "name": "ipython",
    "version": 3
   },
   "file_extension": ".py",
   "mimetype": "text/x-python",
   "name": "python",
   "nbconvert_exporter": "python",
   "pygments_lexer": "ipython3",
   "version": "3.6.3"
  }
 },
 "nbformat": 4,
 "nbformat_minor": 2
}
