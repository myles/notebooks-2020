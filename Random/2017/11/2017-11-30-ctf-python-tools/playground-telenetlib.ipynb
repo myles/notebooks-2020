{
 "cells": [
  {
   "cell_type": "markdown",
   "metadata": {},
   "source": [
    "# Playing Around with the `telnetlib` Library"
   ]
  },
  {
   "cell_type": "code",
   "execution_count": 23,
   "metadata": {},
   "outputs": [],
   "source": [
    "import telnetlib"
   ]
  },
  {
   "cell_type": "markdown",
   "metadata": {},
   "source": [
    "## Using `telnetlib` to connect to a HTTP server"
   ]
  },
  {
   "cell_type": "code",
   "execution_count": 36,
   "metadata": {},
   "outputs": [
    {
     "name": "stdout",
     "output_type": "stream",
     "text": [
      "HTTP/1.1 200 OK\r\n",
      "Connection: keep-alive\r\n",
      "Server: gunicorn/19.7.1\r\n",
      "Date: Thu, 30 Nov 2017 16:45:24 GMT\r\n",
      "Content-Length: 285\r\n",
      "Content-Type: application/json\r\n",
      "Via: 1.1 vegur\r\n",
      "\r\n",
      "{\"now\": {\"epoch\": 1512060324.3595078, \"slang_date\": \"today\", \"slang_time\": \"now\", \"iso8601\": \"2017-11-30T16:45:24.359508Z\", \"rfc2822\": \"Thu, 30 Nov 2017 16:45:24 GMT\", \"rfc3339\": \"2017-11-30T16:45:24.35Z\"}, \"urls\": [\"/\", \"/docs\", \"/when/:human-timestamp\", \"/parse/:machine-timestamp\"]}\n"
     ]
    }
   ],
   "source": [
    "with telnetlib.Telnet('now.httpbin.org', '80') as conn:\n",
    "    conn.write(b'GET / HTTP/1.1\\r\\nHOST: now.httpbin.org\\r\\n\\r\\n')\n",
    "    resp = conn.read_until(b']}').decode('utf-8')\n",
    "\n",
    "print(resp)"
   ]
  }
 ],
 "metadata": {
  "kernelspec": {
   "display_name": "Python 3",
   "language": "python",
   "name": "python3"
  },
  "language_info": {
   "codemirror_mode": {
    "name": "ipython",
    "version": 3
   },
   "file_extension": ".py",
   "mimetype": "text/x-python",
   "name": "python",
   "nbconvert_exporter": "python",
   "pygments_lexer": "ipython3",
   "version": "3.6.3"
  }
 },
 "nbformat": 4,
 "nbformat_minor": 2
}
