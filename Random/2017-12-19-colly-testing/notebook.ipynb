{
 "cells": [
  {
   "cell_type": "code",
   "execution_count": 1,
   "metadata": {},
   "outputs": [
    {
     "ename": "ERROR",
     "evalue": "gomacro compiled without support to load plugins - requires Go 1.8+ and Linux - cannot import packages at runtime",
     "output_type": "error",
     "traceback": [
      "gomacro compiled without support to load plugins - requires Go 1.8+ and Linux - cannot import packages at runtime"
     ]
    }
   ],
   "source": [
    "import \"github.com/gocolly/colly\""
   ]
  },
  {
   "cell_type": "code",
   "execution_count": 2,
   "metadata": {},
   "outputs": [
    {
     "ename": "ERROR",
     "evalue": "repl.go:1:6: undefined identifier: colly",
     "output_type": "error",
     "traceback": [
      "repl.go:1:6: undefined identifier: colly"
     ]
    }
   ],
   "source": [
    "c := colly.NewCollector()"
   ]
  },
  {
   "cell_type": "code",
   "execution_count": 3,
   "metadata": {},
   "outputs": [
    {
     "ename": "ERROR",
     "evalue": "repl.go:1:1: undefined identifier: c",
     "output_type": "error",
     "traceback": [
      "repl.go:1:1: undefined identifier: c"
     ]
    }
   ],
   "source": [
    "c.OnRequest(func(r *colly.Request) {\n",
    "    fmt.Println(\"Visiting\", r.URL)\n",
    "})\n",
    "\n",
    "c.OnError(func(_ *colly.Response, err error) {\n",
    "    log.Println(\"Something went wrong:\", err)\n",
    "})\n",
    "\n",
    "c.OnResponse(func(r *colly.Response) {\n",
    "    fmt.Println(\"Visited\", r.URL)\n",
    "})\n",
    "\n",
    "c.OnHTML(\"a[href]\", func(e *colly.HTMLElement) {\n",
    "    e.Request.Visit(e.Attr(\"href\"))\n",
    "})\n",
    "\n",
    "c.OnHTML(\"tr td:nth-of-type(1)\", func(e *colly.HTMLElement) {\n",
    "    fmt.Println(\"First column of a table row:\", e.Text)\n",
    "})\n",
    "\n",
    "c.OnScraped(func(r *colly.Response) {\n",
    "    fmt.Println(\"Finished\", r.URL)\n",
    "})"
   ]
  },
  {
   "cell_type": "code",
   "execution_count": 5,
   "metadata": {},
   "outputs": [
    {
     "ename": "ERROR",
     "evalue": "repl.go:1:9: illegal rune literal",
     "output_type": "error",
     "traceback": [
      "repl.go:1:9: illegal rune literal"
     ]
    }
   ],
   "source": [
    "c.Visit('https://mylesb.ca/')"
   ]
  },
  {
   "cell_type": "code",
   "execution_count": null,
   "metadata": {},
   "outputs": [],
   "source": []
  }
 ],
 "metadata": {
  "kernelspec": {
   "display_name": "Go",
   "language": "go",
   "name": "gophernotes"
  },
  "language_info": {
   "codemirror_mode": "",
   "file_extension": ".go",
   "mimetype": "",
   "name": "go",
   "nbconvert_exporter": "",
   "pygments_lexer": "",
   "version": "go1.9.2"
  }
 },
 "nbformat": 4,
 "nbformat_minor": 2
}
