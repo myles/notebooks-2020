{
 "cells": [
  {
   "cell_type": "markdown",
   "metadata": {},
   "source": [
    "# Better Web Browser\n",
    "\n",
    "A better web browser with [Selenium](http://www.seleniumhq.org/) and [python-readability](https://github.com/buriy/python-readability)."
   ]
  },
  {
   "cell_type": "code",
   "execution_count": 1,
   "metadata": {},
   "outputs": [],
   "source": [
    "URL = 'https://theoutline.com/post/2604/star-wars-the-last-jedi-hype'"
   ]
  },
  {
   "cell_type": "markdown",
   "metadata": {},
   "source": [
    "## Download Website Content\n",
    "\n",
    "Using Selenium we can extract website content from a Javascript website."
   ]
  },
  {
   "cell_type": "code",
   "execution_count": 7,
   "metadata": {},
   "outputs": [],
   "source": [
    "from contextlib import closing\n",
    "\n",
    "from selenium.webdriver import Firefox\n",
    "from selenium.webdriver.support.ui import WebDriverWait"
   ]
  },
  {
   "cell_type": "code",
   "execution_count": 8,
   "metadata": {},
   "outputs": [],
   "source": [
    "with closing(Firefox()) as browser:\n",
    "    browser.get(URL)\n",
    "    \n",
    "    WebDriverWait(browser, timeout=10).until(lambda x: x.find_element_by_tag_name('body'))\n",
    "    \n",
    "    content = browser.page_source"
   ]
  },
  {
   "cell_type": "markdown",
   "metadata": {},
   "source": [
    "## Extract Article Content\n",
    "\n",
    "python-readability is a Python port of arc90's readability tool."
   ]
  },
  {
   "cell_type": "code",
   "execution_count": 14,
   "metadata": {},
   "outputs": [],
   "source": [
    "from readability import Document"
   ]
  },
  {
   "cell_type": "code",
   "execution_count": 32,
   "metadata": {},
   "outputs": [
    {
     "name": "stdout",
     "output_type": "stream",
     "text": [
      "The right way to watch ‘Star Wars’: totally clueless | The Outline\n"
     ]
    }
   ],
   "source": [
    "article = Document(content)\n",
    "\n",
    "print(article.title())"
   ]
  },
  {
   "cell_type": "markdown",
   "metadata": {},
   "source": [
    "## Display Article Content"
   ]
  },
  {
   "cell_type": "code",
   "execution_count": 24,
   "metadata": {},
   "outputs": [],
   "source": [
    "from IPython.core.display import display, HTML"
   ]
  },
  {
   "cell_type": "code",
   "execution_count": 34,
   "metadata": {},
   "outputs": [
    {
     "data": {
      "text/html": [
       "<html><body><div><div class=\"post__body\">\n",
       "<p>Like millions of Americans born since 1970, I am filled with warm, fuzzy memories of <em>Star Wars</em>. Luke Skywalker action figures lined my childhood bedroom, Slushie cups in the shape of Darth Vader’s head filled my kitchen, I played <em>Dark Forces</em> and <em>Knights of the Old Republic</em> and skipped my junior prom to watch all six films in a row, a test of endurance that promptly led me to come down with the flu and miss a week of school. There’s nothing unique about this; it was simply part of the firmament. It was more unusual to know somebody who hadn’t seen most or all of the movies, even if they couldn’t tell you about whether Greedo shot first.</p><p><em>Star Wars</em> nostalgia is a lucrative business. In the next six months, the franchise will likely surpass <em>Harry Potter</em> to become the highest-grossing movie series of all-time. (I don’t count the Marvel Universe, like <a href=\"https://en.wikipedia.org/wiki/List_of_highest-grossing_films#Highest-grossing_franchises_and_film_series\">Wikipedia</a>, because I’m not a masochist.) When Disney acquired the <em>Star Wars</em> properties back in 2012, and immediately announced plans for a new trilogy, they were making an immensely shrewd wager in an era where the box office is regularly dominated by corporately-owned intellectual properties. Studios spend millions on marketing just to re-familiarize audiences with rebooted concepts like the Lone Ranger and John Carter of Mars and Battleship, often to no avail. In <em>Star Wars</em>, Disney purchased the ur-text of geek culture, familiar to millions of now-grown dweebs looking for a simple, familiar escape at the movies.</p><p>Most importantly, <em>Star Wars</em> came back after online media had further pivoted toward predicative culture, where whole websites exist to endlessly speculate about what will happen next for some nerd franchise. Every photo posted to Instagram, every casting decision announced, every half-hidden remark uttered in an interview is fodder for a blog post to be eagerly consumed by readers sitting at their desks, looking for a way to pass the time. <em>Star Wars</em> is a self-sustaining content machine, with dozens of characters and plot lines to be discussed in the run-up to each new movie, all of it organic marketing for the studio. Disney can cut a cogent trailer, and sit back knowing that every website will <a href=\"https://www.google.com/search?q=everything+you+missed+from+last+jedi&amp;oq=everything+you+missed+from+last+jedi&amp;aqs=chrome..69i57j69i64.3651j0j7&amp;sourceid=chrome&amp;ie=UTF-8\">rush to interpret it</a>, disseminating the hype to thousands more fans.</p><p>This dynamic can be exhausting to anyone who logs on to read something original, and not just the same bit of information turned over by fifty websites with mildly varying tones. But worse: It actually diminishes your ability to enjoy the movie! There’s no doubt in my mind. When you’ve watched every trailer, when you’ve read every interview, when you’ve dissected every theory about character arcs and teaser photos, there’s little to be surprised by but for the actual sequencing of sounds and images you’ve already absorbed.</p><p>I enjoyed <em>The Force Awakens</em>, the first of the new <em>Star Wars</em> films, because I’m not ultra particular about well-crafted popcorn movies made for children. But I did remember sitting in the theater, mildly disappointed that I hadn’t done a better job insulating myself from all the pre-release speculation about Rey and Finn and Kylo Ren and whatever else. The point of going to movies like this is to hopefully be surprised into having a standalone good time, a rarity when so many franchise installments exist to set up the next franchise installment. Those moments of surprise become impossible when you’ve already consumed half the movie, in some way or another.</p><p>So ahead of <em>The Last Jedi</em>, the new <em>Star Wars</em> movie that will be released this weekend, I tried something I haven’t done with any modern nerd film: I stayed away. I didn’t read about any of the casting, even when I saw photos float around on Twitter. (Is Laura Dern in the movie?) I didn’t watch the trailer when it was released, or click on any articles breaking it down. I didn’t go out of my way to avoid any of this — when the trailer came on in a theater, I sat through it instead of running out. But it was alarmingly easy to avoid consuming all of this when I made the basic decision not to. The forces vying for our attentions can never be more successful than when we do the work for them — and by simply turning aside, we can actually increase the fun we have.</p><p>Would <em>all</em> culture be more enjoyable if we treated it like this? Well, yes. To me, <em>Star Wars</em> is unique because it so specifically triggers a lot of dormant, sentimental feelings related to my childhood, as I’m sure it does for many others. I once met a guy who tried to passionately argue that these feelings were just a Pavlovian reaction triggered by Disney’s soulless excavation of my nostalgia — to which I replied I didn’t particularly care. We all have these cultural madeleines, whose appeal is deeply embedded in our memory, and the sensation isn’t worth diluting through the consumption of so much anticipatory material.</p><p>A few years ago, I was out drinking the night before the release of <em>The Force Awakens</em>. I brought the movie up with a friend, who asked what I was talking about. It turned out that, somehow, he didn’t know the movie even existed — that Disney had bought these concepts, that they were planning new movies, that the first one was about to be released. I was mildly blown away that he, a self-described <em>Star Wars</em> fan, might have somehow missed the tonnage of marketing in the months before, designed to make young minds like his obsess over everything yet to come. But he said he was still going to see it, and I remember thinking he’d probably enjoy it more. (<strong>Update</strong>: The friend says he still hasn’t seen any of the new <em>Star Wars</em>, though he plans to “watch them in succession on Netflix soon.”) And if it's too late for you to check out <em>The Last Jedi</em> sight unseen, there's still one more movie left in the trilogy for you to cluelessly and joyfully experience.</p>\n",
       "    </div>\n",
       "  </div></body></html>"
      ],
      "text/plain": [
       "<IPython.core.display.HTML object>"
      ]
     },
     "metadata": {},
     "output_type": "display_data"
    }
   ],
   "source": [
    "display(HTML(article.summary()))"
   ]
  },
  {
   "cell_type": "code",
   "execution_count": null,
   "metadata": {},
   "outputs": [],
   "source": []
  }
 ],
 "metadata": {
  "kernelspec": {
   "display_name": "Python 3",
   "language": "python",
   "name": "python3"
  },
  "language_info": {
   "codemirror_mode": {
    "name": "ipython",
    "version": 3
   },
   "file_extension": ".py",
   "mimetype": "text/x-python",
   "name": "python",
   "nbconvert_exporter": "python",
   "pygments_lexer": "ipython3",
   "version": "3.6.3"
  }
 },
 "nbformat": 4,
 "nbformat_minor": 2
}
