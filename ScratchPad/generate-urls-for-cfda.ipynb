{
 "cells": [
  {
   "cell_type": "code",
   "execution_count": 1,
   "metadata": {},
   "outputs": [],
   "source": [
    "url_tpl = (\n",
    "    'https://www.cfda.gov/?s=program&mode=list&tab=list&tabmode=list'\n",
    "    '&_so_list_frome100216f29b145c9f146d2eb4762d682={count}'\n",
    "    '&_so_list_frome100216f29b145c9f146d2eb4762d682_page={page}'\n",
    ")"
   ]
  },
  {
   "cell_type": "code",
   "execution_count": 4,
   "metadata": {
    "scrolled": true
   },
   "outputs": [
    {
     "name": "stdout",
     "output_type": "stream",
     "text": [
      "https://www.cfda.gov/?s=program&mode=list&tab=list&tabmode=list&_so_list_frome100216f29b145c9f146d2eb4762d682=0&_so_list_frome100216f29b145c9f146d2eb4762d682_page=1\n",
      "https://www.cfda.gov/?s=program&mode=list&tab=list&tabmode=list&_so_list_frome100216f29b145c9f146d2eb4762d682=250&_so_list_frome100216f29b145c9f146d2eb4762d682_page=2\n",
      "https://www.cfda.gov/?s=program&mode=list&tab=list&tabmode=list&_so_list_frome100216f29b145c9f146d2eb4762d682=500&_so_list_frome100216f29b145c9f146d2eb4762d682_page=3\n",
      "https://www.cfda.gov/?s=program&mode=list&tab=list&tabmode=list&_so_list_frome100216f29b145c9f146d2eb4762d682=750&_so_list_frome100216f29b145c9f146d2eb4762d682_page=4\n",
      "https://www.cfda.gov/?s=program&mode=list&tab=list&tabmode=list&_so_list_frome100216f29b145c9f146d2eb4762d682=1000&_so_list_frome100216f29b145c9f146d2eb4762d682_page=5\n",
      "https://www.cfda.gov/?s=program&mode=list&tab=list&tabmode=list&_so_list_frome100216f29b145c9f146d2eb4762d682=1250&_so_list_frome100216f29b145c9f146d2eb4762d682_page=6\n",
      "https://www.cfda.gov/?s=program&mode=list&tab=list&tabmode=list&_so_list_frome100216f29b145c9f146d2eb4762d682=1500&_so_list_frome100216f29b145c9f146d2eb4762d682_page=7\n",
      "https://www.cfda.gov/?s=program&mode=list&tab=list&tabmode=list&_so_list_frome100216f29b145c9f146d2eb4762d682=1750&_so_list_frome100216f29b145c9f146d2eb4762d682_page=8\n",
      "https://www.cfda.gov/?s=program&mode=list&tab=list&tabmode=list&_so_list_frome100216f29b145c9f146d2eb4762d682=2000&_so_list_frome100216f29b145c9f146d2eb4762d682_page=9\n",
      "https://www.cfda.gov/?s=program&mode=list&tab=list&tabmode=list&_so_list_frome100216f29b145c9f146d2eb4762d682=2250&_so_list_frome100216f29b145c9f146d2eb4762d682_page=10\n"
     ]
    }
   ],
   "source": [
    "for page in range(1, 11):\n",
    "    if page == 1:\n",
    "        count = 0\n",
    "    else:\n",
    "        count = (page - 1) * 250\n",
    "    \n",
    "    print(url_tpl.format(page=page, count=count))"
   ]
  },
  {
   "cell_type": "code",
   "execution_count": null,
   "metadata": {},
   "outputs": [],
   "source": []
  }
 ],
 "metadata": {
  "kernelspec": {
   "display_name": "Python 3",
   "language": "python",
   "name": "python3"
  },
  "language_info": {
   "codemirror_mode": {
    "name": "ipython",
    "version": 3
   },
   "file_extension": ".py",
   "mimetype": "text/x-python",
   "name": "python",
   "nbconvert_exporter": "python",
   "pygments_lexer": "ipython3",
   "version": "3.6.4"
  }
 },
 "nbformat": 4,
 "nbformat_minor": 2
}
