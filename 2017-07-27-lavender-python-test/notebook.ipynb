{
 "cells": [
  {
   "cell_type": "code",
   "execution_count": 15,
   "metadata": {
    "collapsed": true
   },
   "outputs": [],
   "source": [
    "import difflib\n",
    "from lavenderPy import lavenderize\n",
    "from IPython.display import HTML"
   ]
  },
  {
   "cell_type": "code",
   "execution_count": 33,
   "metadata": {
    "collapsed": true
   },
   "outputs": [],
   "source": [
    "text = \"\"\"\n",
    "Alice was beginning to get very tired of sitting by her sister on the bank, and of having nothing to do: once or twice she had peeped into the book her sister was reading, but it had no pictures or conversations in it, ‘and what is the use of a book,’ thought Alice ‘without pictures or conversations?’\n",
    "\n",
    "So she was considering in her own mind (as well as she could, for the hot day made her feel very sleepy and stupid), whether the pleasure of making a daisy-chain would be worth the trouble of getting up and picking the daisies, when suddenly a White Rabbit with pink eyes ran close by her.\n",
    "\n",
    "There was nothing so VERY remarkable in that; nor did Alice think it so VERY much out of the way to hear the Rabbit say to itself, ‘Oh dear! Oh dear! I shall be late!’ (when she thought it over afterwards, it occurred to her that she ought to have wondered at this, but at the time it all seemed quite natural); but when the Rabbit actually TOOK A WATCH OUT OF ITS WAISTCOAT-POCKET, and looked at it, and then hurried on, Alice started to her feet, for it flashed across her mind that she had never before seen a rabbit with either a waistcoat-pocket, or a watch to take out of it, and burning with curiosity, she ran across the field after it, and fortunately was just in time to see it pop down a large rabbit-hole under the hedge.\n",
    "\n",
    "In another moment down went Alice after it, never once considering how in the world she was to get out again.\n",
    "\n",
    "The rabbit-hole went straight on like a tunnel for some way, and then dipped suddenly down, so suddenly that Alice had not a moment to think about stopping herself before she found herself falling down a very deep well.\n",
    "\"\"\"\n",
    "\n",
    "new_text = lavenderize(text)"
   ]
  },
  {
   "cell_type": "code",
   "execution_count": 38,
   "metadata": {},
   "outputs": [
    {
     "data": {
      "text/html": [
       "<style>.diff_chg { color: red }</style>\n",
       "    <table class=\"diff\" id=\"difflib_chg_to19__top\"\n",
       "           cellspacing=\"0\" cellpadding=\"0\" rules=\"groups\" >\n",
       "        <colgroup></colgroup> <colgroup></colgroup> <colgroup></colgroup>\n",
       "        <colgroup></colgroup> <colgroup></colgroup> <colgroup></colgroup>\n",
       "        <thead><tr><th class=\"diff_next\"><br /></th><th colspan=\"2\" class=\"diff_header\">New</th><th class=\"diff_next\"><br /></th><th colspan=\"2\" class=\"diff_header\">Old</th></tr></thead>\n",
       "        <tbody>\n",
       "            <tr><td class=\"diff_next\" id=\"difflib_chg_to19__0\"><a href=\"#difflib_chg_to19__top\">t</a></td><td class=\"diff_header\" id=\"from19_1\">1</td><td nowrap=\"nowrap\">\n",
       "Alice&nbsp;was&nbsp;beginning&nbsp;to&nbsp;get&nbsp;very&nbsp;tired&nbsp;of&nbsp;sitting&nbsp;by&nbsp;h<span class=\"diff_chg\">ir&nbsp;sis</span></td><td class=\"diff_next\"><a href=\"#difflib_chg_to19__top\">t</a></td><td class=\"diff_header\" id=\"to19_1\">1</td><td nowrap=\"nowrap\">\n",
       "Alice&nbsp;was&nbsp;beginning&nbsp;to&nbsp;get&nbsp;very&nbsp;tired&nbsp;of&nbsp;sitting&nbsp;by&nbsp;h<span class=\"diff_chg\">er&nbsp;sis</span></td></tr>\n",
       "            <tr><td class=\"diff_next\"></td><td class=\"diff_header\">></td><td nowrap=\"nowrap\"><span class=\"diff_chg\">ter&nbsp;on&nbsp;the</span>&nbsp;bank,&nbsp;and&nbsp;of&nbsp;having&nbsp;nothing&nbsp;to&nbsp;do:&nbsp;once&nbsp;or&nbsp;twice&nbsp;</td><td class=\"diff_next\"></td><td class=\"diff_header\">></td><td nowrap=\"nowrap\"><span class=\"diff_chg\">ter&nbsp;on&nbsp;the</span>&nbsp;bank,&nbsp;and&nbsp;of&nbsp;having&nbsp;nothing&nbsp;to&nbsp;do:&nbsp;once&nbsp;or&nbsp;twice&nbsp;</td></tr>\n",
       "            <tr><td class=\"diff_next\"></td><td class=\"diff_header\">></td><td nowrap=\"nowrap\"><span class=\"diff_chg\">ze&nbsp;had</span>&nbsp;peeped&nbsp;into&nbsp;the&nbsp;book&nbsp;h<span class=\"diff_chg\">ir&nbsp;sister&nbsp;was</span>&nbsp;reading,&nbsp;but&nbsp;it&nbsp;h</td><td class=\"diff_next\"></td><td class=\"diff_header\">></td><td nowrap=\"nowrap\"><span class=\"diff_chg\">she&nbsp;had</span>&nbsp;peeped&nbsp;into&nbsp;the&nbsp;book&nbsp;h<span class=\"diff_chg\">er&nbsp;sister&nbsp;was</span>&nbsp;reading,&nbsp;but&nbsp;it&nbsp;</td></tr>\n",
       "            <tr><td class=\"diff_next\"></td><td class=\"diff_header\">></td><td nowrap=\"nowrap\">ad&nbsp;no&nbsp;pictures&nbsp;or&nbsp;conversations&nbsp;in&nbsp;it,&nbsp;‘and&nbsp;what&nbsp;is&nbsp;the&nbsp;use&nbsp;</td><td class=\"diff_next\"></td><td class=\"diff_header\">></td><td nowrap=\"nowrap\">had&nbsp;no&nbsp;pictures&nbsp;or&nbsp;conversations&nbsp;in&nbsp;it,&nbsp;‘and&nbsp;what&nbsp;is&nbsp;the&nbsp;use</td></tr>\n",
       "            <tr><td class=\"diff_next\"></td><td class=\"diff_header\">></td><td nowrap=\"nowrap\">of&nbsp;a&nbsp;book,’&nbsp;thought&nbsp;Alice&nbsp;‘without&nbsp;pictures&nbsp;or&nbsp;conversations</td><td class=\"diff_next\"></td><td class=\"diff_header\">></td><td nowrap=\"nowrap\">&nbsp;of&nbsp;a&nbsp;book,’&nbsp;thought&nbsp;Alice&nbsp;‘without&nbsp;pictures&nbsp;or&nbsp;conversation</td></tr>\n",
       "            <tr><td class=\"diff_next\"></td><td class=\"diff_header\">></td><td nowrap=\"nowrap\">?’</td><td class=\"diff_next\"></td><td class=\"diff_header\">></td><td nowrap=\"nowrap\">s?’</td></tr>\n",
       "            <tr><td class=\"diff_next\"></td><td class=\"diff_header\" id=\"from19_2\">2</td><td nowrap=\"nowrap\">So&nbsp;<span class=\"diff_chg\">ze&nbsp;was&nbsp;considering&nbsp;in&nbsp;hir&nbsp;own</span>&nbsp;mind&nbsp;(as&nbsp;well&nbsp;as&nbsp;<span class=\"diff_chg\">ze</span>&nbsp;could,&nbsp;</td><td class=\"diff_next\"></td><td class=\"diff_header\" id=\"to19_2\">2</td><td nowrap=\"nowrap\">So&nbsp;<span class=\"diff_chg\">she&nbsp;was&nbsp;considering&nbsp;in&nbsp;her&nbsp;own</span>&nbsp;mind&nbsp;(as&nbsp;well&nbsp;as&nbsp;<span class=\"diff_chg\">she</span>&nbsp;could</td></tr>\n",
       "            <tr><td class=\"diff_next\"></td><td class=\"diff_header\">></td><td nowrap=\"nowrap\">for&nbsp;the&nbsp;hot&nbsp;day&nbsp;made&nbsp;h<span class=\"diff_chg\">ir&nbsp;feel</span>&nbsp;very&nbsp;sleepy&nbsp;and&nbsp;stupid),&nbsp;wheth</td><td class=\"diff_next\"></td><td class=\"diff_header\">></td><td nowrap=\"nowrap\">,&nbsp;for&nbsp;the&nbsp;hot&nbsp;day&nbsp;made&nbsp;h<span class=\"diff_chg\">er&nbsp;feel</span>&nbsp;very&nbsp;sleepy&nbsp;and&nbsp;stupid),&nbsp;whe</td></tr>\n",
       "            <tr><td class=\"diff_next\"></td><td class=\"diff_header\">></td><td nowrap=\"nowrap\">er&nbsp;the&nbsp;pleasure&nbsp;of&nbsp;making&nbsp;a&nbsp;daisy-chain&nbsp;would&nbsp;be&nbsp;worth&nbsp;the&nbsp;t</td><td class=\"diff_next\"></td><td class=\"diff_header\">></td><td nowrap=\"nowrap\">ther&nbsp;the&nbsp;pleasure&nbsp;of&nbsp;making&nbsp;a&nbsp;daisy-chain&nbsp;would&nbsp;be&nbsp;worth&nbsp;the</td></tr>\n",
       "            <tr><td class=\"diff_next\"></td><td class=\"diff_header\">></td><td nowrap=\"nowrap\">rouble&nbsp;of&nbsp;getting&nbsp;up&nbsp;and&nbsp;picking&nbsp;the&nbsp;daisies,&nbsp;when&nbsp;suddenly&nbsp;</td><td class=\"diff_next\"></td><td class=\"diff_header\">></td><td nowrap=\"nowrap\">&nbsp;trouble&nbsp;of&nbsp;getting&nbsp;up&nbsp;and&nbsp;picking&nbsp;the&nbsp;daisies,&nbsp;when&nbsp;suddenl</td></tr>\n",
       "            <tr><td class=\"diff_next\"></td><td class=\"diff_header\">></td><td nowrap=\"nowrap\">a&nbsp;White&nbsp;Rabbit&nbsp;with&nbsp;pink&nbsp;eyes&nbsp;ran&nbsp;close&nbsp;by&nbsp;h<span class=\"diff_chg\">i</span>r.</td><td class=\"diff_next\"></td><td class=\"diff_header\">></td><td nowrap=\"nowrap\">y&nbsp;a&nbsp;White&nbsp;Rabbit&nbsp;with&nbsp;pink&nbsp;eyes&nbsp;ran&nbsp;close&nbsp;by&nbsp;h<span class=\"diff_chg\">e</span>r.</td></tr>\n",
       "            <tr><td class=\"diff_next\"></td><td class=\"diff_header\" id=\"from19_3\">3</td><td nowrap=\"nowrap\">There&nbsp;was&nbsp;nothing&nbsp;so&nbsp;VERY&nbsp;remarkable&nbsp;in&nbsp;that;&nbsp;nor&nbsp;did&nbsp;Alice&nbsp;</td><td class=\"diff_next\"></td><td class=\"diff_header\" id=\"to19_3\">3</td><td nowrap=\"nowrap\">There&nbsp;was&nbsp;nothing&nbsp;so&nbsp;VERY&nbsp;remarkable&nbsp;in&nbsp;that;&nbsp;nor&nbsp;did&nbsp;Alice&nbsp;</td></tr>\n",
       "            <tr><td class=\"diff_next\"></td><td class=\"diff_header\">></td><td nowrap=\"nowrap\">think&nbsp;it&nbsp;so&nbsp;VERY&nbsp;much&nbsp;out&nbsp;of&nbsp;the&nbsp;way&nbsp;to&nbsp;hear&nbsp;the&nbsp;Rabbit&nbsp;say&nbsp;</td><td class=\"diff_next\"></td><td class=\"diff_header\">></td><td nowrap=\"nowrap\">think&nbsp;it&nbsp;so&nbsp;VERY&nbsp;much&nbsp;out&nbsp;of&nbsp;the&nbsp;way&nbsp;to&nbsp;hear&nbsp;the&nbsp;Rabbit&nbsp;say&nbsp;</td></tr>\n",
       "            <tr><td class=\"diff_next\"></td><td class=\"diff_header\">></td><td nowrap=\"nowrap\">to&nbsp;itself,&nbsp;‘Oh&nbsp;dear!&nbsp;Oh&nbsp;dear!&nbsp;I&nbsp;shall&nbsp;be&nbsp;late!’&nbsp;(when&nbsp;<span class=\"diff_chg\">ze</span>&nbsp;tho</td><td class=\"diff_next\"></td><td class=\"diff_header\">></td><td nowrap=\"nowrap\">to&nbsp;itself,&nbsp;‘Oh&nbsp;dear!&nbsp;Oh&nbsp;dear!&nbsp;I&nbsp;shall&nbsp;be&nbsp;late!’&nbsp;(when&nbsp;<span class=\"diff_chg\">she</span>&nbsp;th</td></tr>\n",
       "            <tr><td class=\"diff_next\"></td><td class=\"diff_header\">></td><td nowrap=\"nowrap\">ught&nbsp;it&nbsp;over&nbsp;afterwards,&nbsp;it&nbsp;occurred&nbsp;to&nbsp;h<span class=\"diff_chg\">ir&nbsp;that&nbsp;ze</span>&nbsp;ought&nbsp;to</td><td class=\"diff_next\"></td><td class=\"diff_header\">></td><td nowrap=\"nowrap\">ought&nbsp;it&nbsp;over&nbsp;afterwards,&nbsp;it&nbsp;occurred&nbsp;to&nbsp;h<span class=\"diff_chg\">er&nbsp;that&nbsp;she</span>&nbsp;ought&nbsp;</td></tr>\n",
       "            <tr><td class=\"diff_next\"></td><td class=\"diff_header\">></td><td nowrap=\"nowrap\">&nbsp;have&nbsp;wondered&nbsp;at&nbsp;this,&nbsp;but&nbsp;at&nbsp;the&nbsp;time&nbsp;it&nbsp;all&nbsp;seemed&nbsp;quite&nbsp;</td><td class=\"diff_next\"></td><td class=\"diff_header\">></td><td nowrap=\"nowrap\">to&nbsp;have&nbsp;wondered&nbsp;at&nbsp;this,&nbsp;but&nbsp;at&nbsp;the&nbsp;time&nbsp;it&nbsp;all&nbsp;seemed&nbsp;quit</td></tr>\n",
       "            <tr><td class=\"diff_next\"></td><td class=\"diff_header\">></td><td nowrap=\"nowrap\">natural);&nbsp;but&nbsp;when&nbsp;the&nbsp;Rabbit&nbsp;actually&nbsp;TOOK&nbsp;A&nbsp;WATCH&nbsp;OUT&nbsp;OF&nbsp;I</td><td class=\"diff_next\"></td><td class=\"diff_header\">></td><td nowrap=\"nowrap\">e&nbsp;natural);&nbsp;but&nbsp;when&nbsp;the&nbsp;Rabbit&nbsp;actually&nbsp;TOOK&nbsp;A&nbsp;WATCH&nbsp;OUT&nbsp;OF</td></tr>\n",
       "            <tr><td class=\"diff_next\"></td><td class=\"diff_header\">></td><td nowrap=\"nowrap\">TS&nbsp;WAISTCOAT-POCKET,&nbsp;and&nbsp;looked&nbsp;at&nbsp;it,&nbsp;and&nbsp;then&nbsp;hurried&nbsp;on,&nbsp;</td><td class=\"diff_next\"></td><td class=\"diff_header\">></td><td nowrap=\"nowrap\">&nbsp;ITS&nbsp;WAISTCOAT-POCKET,&nbsp;and&nbsp;looked&nbsp;at&nbsp;it,&nbsp;and&nbsp;then&nbsp;hurried&nbsp;on</td></tr>\n",
       "            <tr><td class=\"diff_next\"></td><td class=\"diff_header\">></td><td nowrap=\"nowrap\">Alice&nbsp;started&nbsp;to&nbsp;h<span class=\"diff_chg\">ir&nbsp;feet,&nbsp;for&nbsp;it&nbsp;flashed&nbsp;across&nbsp;hir</span>&nbsp;mind&nbsp;th</td><td class=\"diff_next\"></td><td class=\"diff_header\">></td><td nowrap=\"nowrap\">,&nbsp;Alice&nbsp;started&nbsp;to&nbsp;h<span class=\"diff_chg\">er&nbsp;feet,&nbsp;for&nbsp;it&nbsp;flashed&nbsp;across&nbsp;her</span>&nbsp;mind&nbsp;</td></tr>\n",
       "            <tr><td class=\"diff_next\"></td><td class=\"diff_header\">></td><td nowrap=\"nowrap\">at&nbsp;<span class=\"diff_chg\">ze&nbsp;had</span>&nbsp;never&nbsp;before&nbsp;seen&nbsp;a&nbsp;rabbit&nbsp;with&nbsp;either&nbsp;a&nbsp;waistcoat</td><td class=\"diff_next\"></td><td class=\"diff_header\">></td><td nowrap=\"nowrap\">that&nbsp;<span class=\"diff_chg\">she&nbsp;had</span>&nbsp;never&nbsp;before&nbsp;seen&nbsp;a&nbsp;rabbit&nbsp;with&nbsp;either&nbsp;a&nbsp;waistc</td></tr>\n",
       "            <tr><td class=\"diff_next\"></td><td class=\"diff_header\">></td><td nowrap=\"nowrap\">-pocket,&nbsp;or&nbsp;a&nbsp;watch&nbsp;to&nbsp;take&nbsp;out&nbsp;of&nbsp;it,&nbsp;and&nbsp;burning&nbsp;with&nbsp;curi</td><td class=\"diff_next\"></td><td class=\"diff_header\">></td><td nowrap=\"nowrap\">oat-pocket,&nbsp;or&nbsp;a&nbsp;watch&nbsp;to&nbsp;take&nbsp;out&nbsp;of&nbsp;it,&nbsp;and&nbsp;burning&nbsp;with&nbsp;c</td></tr>\n",
       "            <tr><td class=\"diff_next\"></td><td class=\"diff_header\">></td><td nowrap=\"nowrap\">osity,&nbsp;<span class=\"diff_chg\">ze&nbsp;ran&nbsp;across&nbsp;the&nbsp;field&nbsp;after&nbsp;it,&nbsp;and</span>&nbsp;fortunately&nbsp;was</td><td class=\"diff_next\"></td><td class=\"diff_header\">></td><td nowrap=\"nowrap\">uriosity,&nbsp;<span class=\"diff_chg\">she&nbsp;ran&nbsp;across&nbsp;the&nbsp;field&nbsp;after&nbsp;it,&nbsp;and</span>&nbsp;fortunately</td></tr>\n",
       "            <tr><td class=\"diff_next\"></td><td class=\"diff_header\">></td><td nowrap=\"nowrap\">&nbsp;just&nbsp;in&nbsp;time&nbsp;to&nbsp;see&nbsp;it&nbsp;pop&nbsp;down&nbsp;a&nbsp;large&nbsp;rabbit-hole&nbsp;under&nbsp;t</td><td class=\"diff_next\"></td><td class=\"diff_header\">></td><td nowrap=\"nowrap\">&nbsp;was&nbsp;just&nbsp;in&nbsp;time&nbsp;to&nbsp;see&nbsp;it&nbsp;pop&nbsp;down&nbsp;a&nbsp;large&nbsp;rabbit-hole&nbsp;und</td></tr>\n",
       "            <tr><td class=\"diff_next\"></td><td class=\"diff_header\">></td><td nowrap=\"nowrap\">he&nbsp;hedge.</td><td class=\"diff_next\"></td><td class=\"diff_header\">></td><td nowrap=\"nowrap\">er&nbsp;the&nbsp;hedge.</td></tr>\n",
       "            <tr><td class=\"diff_next\"></td><td class=\"diff_header\" id=\"from19_4\">4</td><td nowrap=\"nowrap\">In&nbsp;another&nbsp;moment&nbsp;down&nbsp;went&nbsp;Alice&nbsp;after&nbsp;it,&nbsp;never&nbsp;once&nbsp;consi</td><td class=\"diff_next\"></td><td class=\"diff_header\" id=\"to19_4\">4</td><td nowrap=\"nowrap\">In&nbsp;another&nbsp;moment&nbsp;down&nbsp;went&nbsp;Alice&nbsp;after&nbsp;it,&nbsp;never&nbsp;once&nbsp;consi</td></tr>\n",
       "            <tr><td class=\"diff_next\"></td><td class=\"diff_header\">></td><td nowrap=\"nowrap\">dering&nbsp;how&nbsp;in&nbsp;the&nbsp;world&nbsp;<span class=\"diff_chg\">z</span>e&nbsp;was&nbsp;to&nbsp;get&nbsp;out&nbsp;again.</td><td class=\"diff_next\"></td><td class=\"diff_header\">></td><td nowrap=\"nowrap\">dering&nbsp;how&nbsp;in&nbsp;the&nbsp;world&nbsp;<span class=\"diff_chg\">sh</span>e&nbsp;was&nbsp;to&nbsp;get&nbsp;out&nbsp;again.</td></tr>\n",
       "            <tr><td class=\"diff_next\"></td><td class=\"diff_header\" id=\"from19_5\">5</td><td nowrap=\"nowrap\">The&nbsp;rabbit-hole&nbsp;went&nbsp;straight&nbsp;on&nbsp;like&nbsp;a&nbsp;tunnel&nbsp;for&nbsp;some&nbsp;way,</td><td class=\"diff_next\"></td><td class=\"diff_header\" id=\"to19_5\">5</td><td nowrap=\"nowrap\">The&nbsp;rabbit-hole&nbsp;went&nbsp;straight&nbsp;on&nbsp;like&nbsp;a&nbsp;tunnel&nbsp;for&nbsp;some&nbsp;way,</td></tr>\n",
       "            <tr><td class=\"diff_next\"></td><td class=\"diff_header\">></td><td nowrap=\"nowrap\">&nbsp;and&nbsp;then&nbsp;dipped&nbsp;suddenly&nbsp;down,&nbsp;so&nbsp;suddenly&nbsp;that&nbsp;Alice&nbsp;had&nbsp;n</td><td class=\"diff_next\"></td><td class=\"diff_header\">></td><td nowrap=\"nowrap\">&nbsp;and&nbsp;then&nbsp;dipped&nbsp;suddenly&nbsp;down,&nbsp;so&nbsp;suddenly&nbsp;that&nbsp;Alice&nbsp;had&nbsp;n</td></tr>\n",
       "            <tr><td class=\"diff_next\"></td><td class=\"diff_header\">></td><td nowrap=\"nowrap\">ot&nbsp;a&nbsp;moment&nbsp;to&nbsp;think&nbsp;about&nbsp;stopping&nbsp;h<span class=\"diff_chg\">irself&nbsp;before&nbsp;ze&nbsp;found&nbsp;</span></td><td class=\"diff_next\"></td><td class=\"diff_header\">></td><td nowrap=\"nowrap\">ot&nbsp;a&nbsp;moment&nbsp;to&nbsp;think&nbsp;about&nbsp;stopping&nbsp;h<span class=\"diff_chg\">erself&nbsp;before&nbsp;she&nbsp;found</span></td></tr>\n",
       "            <tr><td class=\"diff_next\"></td><td class=\"diff_header\">></td><td nowrap=\"nowrap\"><span class=\"diff_chg\">hirself</span>&nbsp;falling&nbsp;down&nbsp;a&nbsp;very&nbsp;deep&nbsp;well.</td><td class=\"diff_next\"></td><td class=\"diff_header\">></td><td nowrap=\"nowrap\"><span class=\"diff_chg\">&nbsp;herself</span>&nbsp;falling&nbsp;down&nbsp;a&nbsp;very&nbsp;deep&nbsp;well.</td></tr>\n",
       "        </tbody>\n",
       "    </table>"
      ],
      "text/plain": [
       "<IPython.core.display.HTML object>"
      ]
     },
     "execution_count": 38,
     "metadata": {},
     "output_type": "execute_result"
    }
   ],
   "source": [
    "diff = difflib.HtmlDiff(wrapcolumn=60).make_table(new_text.split('\\n\\n'),\n",
    "                                     text.split('\\n\\n'),\n",
    "                                     'New', 'Old')\n",
    "\n",
    "style = \"<style>.diff_chg { color: red }</style>\"\n",
    "\n",
    "HTML(style + diff)"
   ]
  },
  {
   "cell_type": "code",
   "execution_count": null,
   "metadata": {
    "collapsed": true
   },
   "outputs": [],
   "source": []
  }
 ],
 "metadata": {
  "kernelspec": {
   "display_name": "Python 3",
   "language": "python",
   "name": "python3"
  },
  "language_info": {
   "codemirror_mode": {
    "name": "ipython",
    "version": 3
   },
   "file_extension": ".py",
   "mimetype": "text/x-python",
   "name": "python",
   "nbconvert_exporter": "python",
   "pygments_lexer": "ipython3",
   "version": "3.6.1"
  }
 },
 "nbformat": 4,
 "nbformat_minor": 2
}
