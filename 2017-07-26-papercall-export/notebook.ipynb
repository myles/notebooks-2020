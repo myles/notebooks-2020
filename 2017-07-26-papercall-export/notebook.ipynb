{
 "cells": [
  {
   "cell_type": "code",
   "execution_count": 14,
   "metadata": {},
   "outputs": [
    {
     "name": "stdout",
     "output_type": "stream",
     "text": [
      "{'abstract': 'Short and sweet',\n",
      " 'audience_level': 'Intermediate',\n",
      " 'avatar': 'https://secure.gravatar.com/avatar/f883be8a2084ce5474530455e8ed4d87?s=500',\n",
      " 'bio': \"I'm sold.\",\n",
      " 'confirmed': False,\n",
      " 'created_at': '2017-07-26T03:43:43.852Z',\n",
      " 'description': 'I will have more to say when I am presenting this talk.',\n",
      " 'email': 'p****@p**********.com',\n",
      " 'location': 'Unknown',\n",
      " 'name': 'Peter McCormick',\n",
      " 'notes': 'Hi everyone!',\n",
      " 'organization': 'PyNorth',\n",
      " 'rating': 0.0,\n",
      " 'shirt_size': \"Men's S\",\n",
      " 'state': 'submitted',\n",
      " 'tag_list': ['documentation', 'api', 'performance', 'visualization'],\n",
      " 'title': \"Peter's sample talk title\",\n",
      " 'twitter': '**********',\n",
      " 'url': 'https://pycon.ca/'}\n"
     ]
    }
   ],
   "source": [
    "import json\n",
    "import pprint\n",
    "\n",
    "import dateutil.parser\n",
    "\n",
    "with open('./data/submissions.json') as fobj:\n",
    "    submissions = json.loads(fobj.read())\n",
    "    submission = submissions[0]\n",
    "\n",
    "pprint.pprint(submission)"
   ]
  },
  {
   "cell_type": "code",
   "execution_count": 15,
   "metadata": {},
   "outputs": [],
   "source": [
    "submission['created_at'] = dateutil.parser.parse(submission['created_at'])\n",
    "submission['tag_list'] = ', '.join(submission['tag_list'])"
   ]
  },
  {
   "cell_type": "code",
   "execution_count": 16,
   "metadata": {},
   "outputs": [
    {
     "name": "stdout",
     "output_type": "stream",
     "text": [
      "{'abstract': 'Short and sweet',\n",
      " 'audience_level': 'Intermediate',\n",
      " 'avatar': 'https://secure.gravatar.com/avatar/f883be8a2084ce5474530455e8ed4d87?s=500',\n",
      " 'bio': \"I'm sold.\",\n",
      " 'confirmed': False,\n",
      " 'created_at': datetime.datetime(2017, 7, 26, 3, 43, 43, 852000, tzinfo=tzutc()),\n",
      " 'description': 'I will have more to say when I am presenting this talk.',\n",
      " 'email': 'p****@p**********.com',\n",
      " 'location': 'Unknown',\n",
      " 'name': 'Peter McCormick',\n",
      " 'notes': 'Hi everyone!',\n",
      " 'organization': 'PyNorth',\n",
      " 'rating': 0.0,\n",
      " 'shirt_size': \"Men's S\",\n",
      " 'state': 'submitted',\n",
      " 'tag_list': 'documentation, api, performance, visualization',\n",
      " 'title': \"Peter's sample talk title\",\n",
      " 'twitter': '**********',\n",
      " 'url': 'https://pycon.ca/'}\n"
     ]
    }
   ],
   "source": [
    "pprint.pprint(submission)"
   ]
  },
  {
   "cell_type": "code",
   "execution_count": null,
   "metadata": {
    "collapsed": true
   },
   "outputs": [],
   "source": []
  }
 ],
 "metadata": {
  "kernelspec": {
   "display_name": "Python 3",
   "language": "python",
   "name": "python3"
  },
  "language_info": {
   "codemirror_mode": {
    "name": "ipython",
    "version": 3
   },
   "file_extension": ".py",
   "mimetype": "text/x-python",
   "name": "python",
   "nbconvert_exporter": "python",
   "pygments_lexer": "ipython3",
   "version": "3.6.1"
  }
 },
 "nbformat": 4,
 "nbformat_minor": 2
}
