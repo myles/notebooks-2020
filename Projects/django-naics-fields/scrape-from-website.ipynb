{
 "cells": [
  {
   "cell_type": "code",
   "execution_count": 50,
   "metadata": {},
   "outputs": [],
   "source": [
    "import pandas as pd\n",
    "from requests_html import HTMLSession"
   ]
  },
  {
   "cell_type": "code",
   "execution_count": 51,
   "metadata": {},
   "outputs": [],
   "source": [
    "session = HTMLSession()"
   ]
  },
  {
   "cell_type": "code",
   "execution_count": 52,
   "metadata": {},
   "outputs": [
    {
     "data": {
      "text/plain": [
       "True"
      ]
     },
     "execution_count": 52,
     "metadata": {},
     "output_type": "execute_result"
    }
   ],
   "source": [
    "resp = session.get(\"https://www.naics.com/business-lists/counts-by-naics-code/\")\n",
    "\n",
    "resp.ok"
   ]
  },
  {
   "cell_type": "code",
   "execution_count": 59,
   "metadata": {},
   "outputs": [],
   "source": [
    "def get_codes(url):\n",
    "    resp = session.get(url)\n",
    "    \n",
    "    if not resp.ok:\n",
    "        raise Exception\n",
    "    \n",
    "    tr_el_list = resp.html.find(\"table tr\")\n",
    "    \n",
    "    page_data = []\n",
    "\n",
    "    for tr_el in tr_el_list:\n",
    "        td_el_list = tr_el.find(\"td\")\n",
    "\n",
    "        if not (td_el_list):\n",
    "            continue\n",
    "\n",
    "        if not td_el_list[0].find(\"a\"):\n",
    "            continue\n",
    "\n",
    "        data = [\n",
    "            list(td_el_list[0].find(\"a\", first=True).absolute_links)[0]\n",
    "        ]\n",
    "\n",
    "        for td_el in td_el_list:\n",
    "            data.append(td_el.text)\n",
    "        \n",
    "        page_data.append(data)\n",
    "\n",
    "    return page_data"
   ]
  },
  {
   "cell_type": "code",
   "execution_count": 61,
   "metadata": {},
   "outputs": [],
   "source": [
    "NAICS_DATA = get_codes(\"https://www.naics.com/business-lists/counts-by-naics-code/\")"
   ]
  },
  {
   "cell_type": "code",
   "execution_count": 64,
   "metadata": {},
   "outputs": [
    {
     "name": "stdout",
     "output_type": "stream",
     "text": [
      "[['https://www.naics.com/naics-code-description/?code=11', '11', 'Agriculture, Forestry, Fishing and Hunting', '344,810'], ['https://www.naics.com/naics-code-description/?code=1111', '1111', 'Oilseed and Grain Farming', '55,715'], ['https://www.naics.com/naics-code-description/?code=111110', '111110', 'Soybean Farming', '4,622'], ['https://www.naics.com/naics-code-description/?code=111120', '111120', 'Oilseed (except Soybean) Farming', '154'], ['https://www.naics.com/naics-code-description/?code=111130', '111130', 'Dry Pea and Bean Farming', '3,467'], ['https://www.naics.com/naics-code-description/?code=111140', '111140', 'Wheat Farming', '6,326'], ['https://www.naics.com/naics-code-description/?code=111150', '111150', 'Corn Farming', '25,383'], ['https://www.naics.com/naics-code-description/?code=111160', '111160', 'Rice Farming', '912'], ['https://www.naics.com/naics-code-description/?code=111191', '111191', 'Oilseed and Grain Combination Farming', '0'], ['https://www.naics.com/naics-code-description/?code=111199', '111199', 'All Other Grain Farming', '14,851'], ['https://www.naics.com/naics-code-description/?code=1112', '1112', 'Vegetable and Melon Farming', '4,542'], ['https://www.naics.com/naics-code-description/?code=111211', '111211', 'Potato Farming', '601'], ['https://www.naics.com/naics-code-description/?code=111219', '111219', 'Other Vegetable (except Potato) and Melon Farming', '3,941'], ['https://www.naics.com/naics-code-description/?code=1113', '1113', 'Fruit and Tree Nut Farming', '11,125'], ['https://www.naics.com/naics-code-description/?code=111310', '111310', 'Orange Groves', '216'], ['https://www.naics.com/naics-code-description/?code=111320', '111320', 'Citrus (except Orange) Groves', '653'], ['https://www.naics.com/naics-code-description/?code=111331', '111331', 'Apple Orchards', '1,569'], ['https://www.naics.com/naics-code-description/?code=111332', '111332', 'Grape Vineyards', '2,539'], ['https://www.naics.com/naics-code-description/?code=111333', '111333', 'Strawberry Farming', '292'], ['https://www.naics.com/naics-code-description/?code=111334', '111334', 'Berry (except Strawberry) Farming', '1,012'], ['https://www.naics.com/naics-code-description/?code=111335', '111335', 'Tree Nut Farming', '1,458'], ['https://www.naics.com/naics-code-description/?code=111336', '111336', 'Fruit and Tree Nut Combination Farming', '212'], ['https://www.naics.com/naics-code-description/?code=111339', '111339', 'Other Noncitrus Fruit Farming', '3,174'], ['https://www.naics.com/naics-code-description/?code=1114', '1114', 'Greenhouse, Nursery, and Floriculture Production', '11,676'], ['https://www.naics.com/naics-code-description/?code=111411', '111411', 'Mushroom Production', '266'], ['https://www.naics.com/naics-code-description/?code=111419', '111419', 'Other Food Crops Grown Under Cover', '624'], ['https://www.naics.com/naics-code-description/?code=111421', '111421', 'Nursery and Tree Production', '5,865'], ['https://www.naics.com/naics-code-description/?code=111422', '111422', 'Floriculture Production', '4,921'], ['https://www.naics.com/naics-code-description/?code=1119', '1119', 'Other Crop Farming', '123,616'], ['https://www.naics.com/naics-code-description/?code=111910', '111910', 'Tobacco Farming', '1,962'], ['https://www.naics.com/naics-code-description/?code=111920', '111920', 'Cotton Farming', '3,114'], ['https://www.naics.com/naics-code-description/?code=111930', '111930', 'Sugarcane Farming', '162'], ['https://www.naics.com/naics-code-description/?code=111940', '111940', 'Hay Farming', '2,597'], ['https://www.naics.com/naics-code-description/?code=111991', '111991', 'Sugar Beet Farming', '463'], ['https://www.naics.com/naics-code-description/?code=111992', '111992', 'Peanut Farming', '341'], ['https://www.naics.com/naics-code-description/?code=111998', '111998', 'All Other Miscellaneous Crop Farming', '114,977'], ['https://www.naics.com/naics-code-description/?code=1121', '1121', 'Cattle Ranching and Farming', '44,146'], ['https://www.naics.com/naics-code-description/?code=112111', '112111', 'Beef Cattle Ranching and Farming', '15,259'], ['https://www.naics.com/naics-code-description/?code=112112', '112112', 'Cattle Feedlots', '9,811'], ['https://www.naics.com/naics-code-description/?code=112120', '112120', 'Dairy Cattle and Milk Production', '19,076'], ['https://www.naics.com/naics-code-description/?code=112130', '112130', 'Dual-Purpose Cattle Ranching and Farming', '0'], ['https://www.naics.com/naics-code-description/?code=1122', '1122', 'Hog and Pig Farming', '3,800'], ['https://www.naics.com/naics-code-description/?code=112210', '112210', 'Hog and Pig Farming', '3,800'], ['https://www.naics.com/naics-code-description/?code=1123', '1123', 'Poultry and Egg Production', '3,452'], ['https://www.naics.com/naics-code-description/?code=112310', '112310', 'Chicken Egg Production', '519'], ['https://www.naics.com/naics-code-description/?code=112320', '112320', 'Broilers and Other Meat Type Chicken Production', '851'], ['https://www.naics.com/naics-code-description/?code=112330', '112330', 'Turkey Production', '562'], ['https://www.naics.com/naics-code-description/?code=112340', '112340', 'Poultry Hatcheries', '608'], ['https://www.naics.com/naics-code-description/?code=112390', '112390', 'Other Poultry Production', '912'], ['https://www.naics.com/naics-code-description/?code=1124', '1124', 'Sheep and Goat Farming', '1,253'], ['https://www.naics.com/naics-code-description/?code=112410', '112410', 'Sheep Farming', '789'], ['https://www.naics.com/naics-code-description/?code=112420', '112420', 'Goat Farming', '464'], ['https://www.naics.com/naics-code-description/?code=1125', '1125', 'Aquaculture', '1,589'], ['https://www.naics.com/naics-code-description/?code=112511', '112511', 'Finfish Farming and Fish Hatcheries', '1,226'], ['https://www.naics.com/naics-code-description/?code=112512', '112512', 'Shellfish Farming', '87'], ['https://www.naics.com/naics-code-description/?code=112519', '112519', 'Other Aquaculture', '276'], ['https://www.naics.com/naics-code-description/?code=1129', '1129', 'Other Animal Production', '33,367'], ['https://www.naics.com/naics-code-description/?code=112910', '112910', 'Apiculture', '1,286'], ['https://www.naics.com/naics-code-description/?code=112920', '112920', 'Horses and Other Equine Production', '3,706'], ['https://www.naics.com/naics-code-description/?code=112930', '112930', 'Fur-Bearing Animal and Rabbit Production', '360'], ['https://www.naics.com/naics-code-description/?code=112990', '112990', 'All Other Animal Production', '28,015'], ['https://www.naics.com/naics-code-description/?code=1131', '1131', 'Timber Tract Operations', '2,023'], ['https://www.naics.com/naics-code-description/?code=113110', '113110', 'Timber Tract Operations', '2,023'], ['https://www.naics.com/naics-code-description/?code=1132', '1132', 'Forest Nurseries and Gathering of Forest Products', '901'], ['https://www.naics.com/naics-code-description/?code=113210', '113210', 'Forest Nurseries and Gathering of Forest Products', '901'], ['https://www.naics.com/naics-code-description/?code=1133', '1133', 'Logging', '7,468'], ['https://www.naics.com/naics-code-description/?code=113310', '113310', 'Logging', '7,468'], ['https://www.naics.com/naics-code-description/?code=1141', '1141', 'Fishing', '1,055'], ['https://www.naics.com/naics-code-description/?code=114111', '114111', 'Finfish Fishing', '466'], ['https://www.naics.com/naics-code-description/?code=114112', '114112', 'Shellfish Fishing', '434'], ['https://www.naics.com/naics-code-description/?code=114119', '114119', 'Other Marine Fishing', '155'], ['https://www.naics.com/naics-code-description/?code=1142', '1142', 'Hunting and Trapping', '1,930'], ['https://www.naics.com/naics-code-description/?code=114210', '114210', 'Hunting and Trapping', '1,930'], ['https://www.naics.com/naics-code-description/?code=1151', '1151', 'Support Activities for Crop Production', '11,761'], ['https://www.naics.com/naics-code-description/?code=115111', '115111', 'Cotton Ginning', '553'], ['https://www.naics.com/naics-code-description/?code=115112', '115112', 'Soil Preparation, Planting, and Cultivating', '4,172'], ['https://www.naics.com/naics-code-description/?code=115113', '115113', 'Crop Harvesting, Primarily by Machine', '1,753'], ['https://www.naics.com/naics-code-description/?code=115114', '115114', 'Postharvest Crop Activities (except Cotton Ginning)', '1,935'], ['https://www.naics.com/naics-code-description/?code=115115', '115115', 'Farm Labor Contractors and Crew Leaders', '520'], ['https://www.naics.com/naics-code-description/?code=115116', '115116', 'Farm Management Services', '2,828'], ['https://www.naics.com/naics-code-description/?code=1152', '1152', 'Support Activities for Animal Production', '20,419'], ['https://www.naics.com/naics-code-description/?code=115210', '115210', 'Support Activities for Animal Production', '20,419'], ['https://www.naics.com/naics-code-description/?code=1153', '1153', 'Support Activities for Forestry', '4,972'], ['https://www.naics.com/naics-code-description/?code=115310', '115310', 'Support Activities for Forestry', '4,972']]\n"
     ]
    },
    {
     "name": "stdout",
     "output_type": "stream",
     "text": [
      "[['https://www.naics.com/naics-code-description/?code=21', '21', 'Mining, Quarrying, and Oil and Gas Extraction', '29,033'], ['https://www.naics.com/naics-code-description/?code=2111', '2111', 'Oil and Gas Extraction', '5,311'], ['https://www.naics.com/naics-code-description/?code=211120', '211120', 'Crude Petroleum Extraction', '4,912'], ['https://www.naics.com/naics-code-description/?code=211130', '211130', 'Natural Gas Extraction', '399'], ['https://www.naics.com/naics-code-description/?code=2121', '2121', 'Coal Mining', '567'], ['https://www.naics.com/naics-code-description/?code=212111', '212111', 'Bituminous Coal and Lignite Surface Mining', '417'], ['https://www.naics.com/naics-code-description/?code=212112', '212112', 'Bituminous Coal Underground Mining', '103'], ['https://www.naics.com/naics-code-description/?code=212113', '212113', 'Anthracite Mining', '47'], ['https://www.naics.com/naics-code-description/?code=2122', '2122', 'Metal Ore Mining', '648'], ['https://www.naics.com/naics-code-description/?code=212210', '212210', 'Iron Ore Mining', '81'], ['https://www.naics.com/naics-code-description/?code=212221', '212221', 'Gold Ore Mining', '307'], ['https://www.naics.com/naics-code-description/?code=212222', '212222', 'Silver Ore Mining', '40'], ['https://www.naics.com/naics-code-description/?code=212230', '212230', 'Copper, Nickel, Lead, and Zinc Mining', '118'], ['https://www.naics.com/naics-code-description/?code=212291', '212291', 'Uranium-Radium-Vanadium Ore Mining', '49'], ['https://www.naics.com/naics-code-description/?code=212299', '212299', 'All Other Metal Ore Mining', '53'], ['https://www.naics.com/naics-code-description/?code=2123', '2123', 'Nonmetallic Mineral Mining and Quarrying', '4,928'], ['https://www.naics.com/naics-code-description/?code=212311', '212311', 'Dimension Stone Mining and Quarrying', '434'], ['https://www.naics.com/naics-code-description/?code=212312', '212312', 'Crushed and Broken Limestone Mining and Quarrying', '864'], ['https://www.naics.com/naics-code-description/?code=212313', '212313', 'Crushed and Broken Granite Mining and Quarrying', '165'], ['https://www.naics.com/naics-code-description/?code=212319', '212319', 'Other Crushed and Broken Stone Mining and Quarrying', '364'], ['https://www.naics.com/naics-code-description/?code=212321', '212321', 'Construction Sand and Gravel Mining', '2,308'], ['https://www.naics.com/naics-code-description/?code=212322', '212322', 'Industrial Sand Mining', '199'], ['https://www.naics.com/naics-code-description/?code=212324', '212324', 'Kaolin and Ball Clay Mining', '51'], ['https://www.naics.com/naics-code-description/?code=212325', '212325', 'Clay and Ceramic and Refractory Minerals Mining', '104'], ['https://www.naics.com/naics-code-description/?code=212391', '212391', 'Potash, Soda, and Borate Mineral Mining', '37'], ['https://www.naics.com/naics-code-description/?code=212392', '212392', 'Phosphate Rock Mining', '17'], ['https://www.naics.com/naics-code-description/?code=212393', '212393', 'Other Chemical and Fertilizer Mineral Mining', '108'], ['https://www.naics.com/naics-code-description/?code=212399', '212399', 'All Other Nonmetallic Mineral Mining', '277'], ['https://www.naics.com/naics-code-description/?code=2131', '2131', 'Support Activities for Mining', '17,579'], ['https://www.naics.com/naics-code-description/?code=213111', '213111', 'Drilling Oil and Gas Wells', '2,182'], ['https://www.naics.com/naics-code-description/?code=213112', '213112', 'Support Activities for Oil and Gas Operations', '14,404'], ['https://www.naics.com/naics-code-description/?code=213113', '213113', 'Support Activities for Coal Mining', '462'], ['https://www.naics.com/naics-code-description/?code=213114', '213114', 'Support Activities for Metal Mining', '352'], ['https://www.naics.com/naics-code-description/?code=213115', '213115', 'Support Activities for Nonmetallic Minerals (except Fuels) Mining', '179']]\n"
     ]
    }
   ],
   "source": [
    "for naics in NAICS_DATA[:2]:\n",
    "    url = naics[0]\n",
    "\n",
    "    print(get_codes(url))"
   ]
  },
  {
   "cell_type": "code",
   "execution_count": null,
   "metadata": {},
   "outputs": [],
   "source": []
  }
 ],
 "metadata": {
  "kernelspec": {
   "display_name": "Python 3",
   "language": "python",
   "name": "python3"
  },
  "language_info": {
   "codemirror_mode": {
    "name": "ipython",
    "version": 3
   },
   "file_extension": ".py",
   "mimetype": "text/x-python",
   "name": "python",
   "nbconvert_exporter": "python",
   "pygments_lexer": "ipython3",
   "version": "3.7.3"
  }
 },
 "nbformat": 4,
 "nbformat_minor": 2
}
