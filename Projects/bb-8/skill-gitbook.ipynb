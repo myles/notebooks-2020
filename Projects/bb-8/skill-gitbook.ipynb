{
 "cells": [
  {
   "cell_type": "code",
   "execution_count": 11,
   "metadata": {},
   "outputs": [],
   "source": [
    "import requests\n",
    "from pyquery import PyQuery as pq"
   ]
  },
  {
   "cell_type": "code",
   "execution_count": 2,
   "metadata": {},
   "outputs": [],
   "source": [
    "resp = requests.get('https://wiki.mylesb.ca/book.json')\n",
    "data = resp.json()"
   ]
  },
  {
   "cell_type": "code",
   "execution_count": 3,
   "metadata": {},
   "outputs": [
    {
     "data": {
      "text/plain": [
       "list"
      ]
     },
     "execution_count": 3,
     "metadata": {},
     "output_type": "execute_result"
    }
   ],
   "source": [
    "type(data)"
   ]
  },
  {
   "cell_type": "code",
   "execution_count": 5,
   "metadata": {},
   "outputs": [
    {
     "data": {
      "text/plain": [
       "{'title': 'Glossary',\n",
       " 'heading': 'h1',\n",
       " 'content': '\\n',\n",
       " 'children': [{'title': 'Postgres',\n",
       "   'heading': 'h2',\n",
       "   'content': '\\n<p>Also know as PostgreSQL and pgsql.</p>\\n'}],\n",
       " 'path': 'GLOSSARY.md'}"
      ]
     },
     "execution_count": 5,
     "metadata": {},
     "output_type": "execute_result"
    }
   ],
   "source": [
    "data[0]"
   ]
  },
  {
   "cell_type": "code",
   "execution_count": 9,
   "metadata": {},
   "outputs": [
    {
     "data": {
      "text/plain": [
       "{'title': 'Python',\n",
       " 'heading': 'h1',\n",
       " 'content': '\\n<p><dfn>Python</dfn> is a programming language.</p>\\n',\n",
       " 'children': [{'title': 'Libraries',\n",
       "   'heading': 'h2',\n",
       "   'content': '\\n<ul>\\n<li><a href=\"https://camelot-py.readthedocs.io/en/master/\">Camelot</a> - PDF Table Extraction for Humans - <a href=\"https://blog.socialcops.com/technology/engineering/camelot-python-library-pdf-data/\" title=\"Announcing Camelot, a Python Library to Extract Tabular Data from PDFs\">📣</a> <a href=\"https://github.com/socialcopsdev/camelot/\" title=\"Camelot on GitHub\">🐙</a> <a href=\"https://pypi.org/project/camelot-py/\" title=\"Camelot on PyPi\">🐍</a></li>\\n<li><a href=\"https://github.com/psolin/cleanco\">cleanco</a> - Cleans companies names by stripping away terms indicating organization type - <a href=\"https://pypi.org/project/cleanco/\" title=\"cleanco on PyPi\">🐍</a></li>\\n</ul>\\n'},\n",
       "  {'title': 'Links',\n",
       "   'heading': 'h2',\n",
       "   'content': '\\n<ul>\\n<li><a href=\"https://akashgupta299.gitbooks.io/dive-into-ml/content/\">Dive into Machine Learning</a></li>\\n</ul>\\n'}],\n",
       " 'path': 'programming/python/README.md'}"
      ]
     },
     "execution_count": 9,
     "metadata": {},
     "output_type": "execute_result"
    }
   ],
   "source": [
    "result = next(item for item in data if item['title'].lower() == 'python')\n",
    "\n",
    "result"
   ]
  },
  {
   "cell_type": "code",
   "execution_count": 16,
   "metadata": {},
   "outputs": [
    {
     "data": {
      "text/plain": [
       "'Python is a programming language.'"
      ]
     },
     "execution_count": 16,
     "metadata": {},
     "output_type": "execute_result"
    }
   ],
   "source": [
    "pq(result['content']).text()"
   ]
  },
  {
   "cell_type": "code",
   "execution_count": 14,
   "metadata": {},
   "outputs": [
    {
     "ename": "StopIteration",
     "evalue": "",
     "output_type": "error",
     "traceback": [
      "\u001b[0;31m---------------------------------------------------------------------------\u001b[0m",
      "\u001b[0;31mStopIteration\u001b[0m                             Traceback (most recent call last)",
      "\u001b[0;32m<ipython-input-14-8a830ea4e57a>\u001b[0m in \u001b[0;36m<module>\u001b[0;34m()\u001b[0m\n\u001b[0;32m----> 1\u001b[0;31m \u001b[0mresult\u001b[0m \u001b[0;34m=\u001b[0m \u001b[0mnext\u001b[0m\u001b[0;34m(\u001b[0m\u001b[0mitem\u001b[0m \u001b[0;32mfor\u001b[0m \u001b[0mitem\u001b[0m \u001b[0;32min\u001b[0m \u001b[0mdata\u001b[0m \u001b[0;32mif\u001b[0m \u001b[0mitem\u001b[0m\u001b[0;34m[\u001b[0m\u001b[0;34m'title'\u001b[0m\u001b[0;34m]\u001b[0m\u001b[0;34m.\u001b[0m\u001b[0mlower\u001b[0m\u001b[0;34m(\u001b[0m\u001b[0;34m)\u001b[0m \u001b[0;34m==\u001b[0m \u001b[0;34m'fdasjfldasjlkfkadsj'\u001b[0m\u001b[0;34m)\u001b[0m\u001b[0;34m\u001b[0m\u001b[0m\n\u001b[0m",
      "\u001b[0;31mStopIteration\u001b[0m: "
     ]
    }
   ],
   "source": [
    "result = next(item for item in data if item['title'].lower() == 'fdasjfldasjlkfkadsj')"
   ]
  },
  {
   "cell_type": "code",
   "execution_count": 49,
   "metadata": {},
   "outputs": [
    {
     "name": "stdout",
     "output_type": "stream",
     "text": [
      "Python is a programming language.\n"
     ]
    }
   ],
   "source": [
    "content = pq(result['content'])\n",
    "\n",
    "print(content('p:has(dfn)').text())"
   ]
  },
  {
   "cell_type": "code",
   "execution_count": 21,
   "metadata": {},
   "outputs": [
    {
     "data": {
      "text/plain": [
       "'\\n<p><dfn>Python</dfn> is a programming language.</p>\\n'"
      ]
     },
     "execution_count": 21,
     "metadata": {},
     "output_type": "execute_result"
    }
   ],
   "source": [
    "result['content']"
   ]
  },
  {
   "cell_type": "code",
   "execution_count": null,
   "metadata": {},
   "outputs": [],
   "source": []
  }
 ],
 "metadata": {
  "kernelspec": {
   "display_name": "Python 3",
   "language": "python",
   "name": "python3"
  },
  "language_info": {
   "codemirror_mode": {
    "name": "ipython",
    "version": 3
   },
   "file_extension": ".py",
   "mimetype": "text/x-python",
   "name": "python",
   "nbconvert_exporter": "python",
   "pygments_lexer": "ipython3",
   "version": "3.7.0"
  }
 },
 "nbformat": 4,
 "nbformat_minor": 2
}
