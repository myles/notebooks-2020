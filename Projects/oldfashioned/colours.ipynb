{
 "cells": [
  {
   "cell_type": "code",
   "execution_count": 58,
   "metadata": {
    "collapsed": true
   },
   "outputs": [],
   "source": [
    "import math\n",
    "from IPython.core.display import display, HTML"
   ]
  },
  {
   "cell_type": "code",
   "execution_count": 55,
   "metadata": {
    "collapsed": true
   },
   "outputs": [],
   "source": [
    "palette = {\n",
    "    # Primary\n",
    "    'big-stone': (20, 43, 68),\n",
    "    'chambray': (29, 80, 141),\n",
    "    'lochmara': (40, 138, 214),\n",
    "    'caribbean-green': (22, 201, 141),\n",
    "    'paris-daisy': (254, 239, 109),\n",
    "    'saffron': (255, 200, 63),\n",
    "    'carnation': (250, 94, 91),\n",
    "    'mulberry': (191, 83, 141),\n",
    "    \n",
    "    # Secondary\n",
    "    'trendy-pink': (104, 78, 121),\n",
    "    'brink-pink': (255, 112, 142),\n",
    "    'keppel': (71, 168, 153),\n",
    "    'malibu': (138, 190, 229),\n",
    "    'caper': (199, 230, 170),\n",
    "    'chino': (207, 203, 175),\n",
    "    'buccaneer': (88, 44, 43),\n",
    "    'falu-red': (132, 30, 27),\n",
    "}\n",
    "\n",
    "primary_colour = palette.get('lochmara')"
   ]
  },
  {
   "cell_type": "code",
   "execution_count": 104,
   "metadata": {},
   "outputs": [
    {
     "data": {
      "text/html": [
       "<div style=\"display:inline-block;width:25%;height:150px;padding:1rem .5rem\">\n",
       "    <div style=\"background-color:rgb(20, 43, 68);height:100px;width:100%\"></div>\n",
       "    <p style=\"height:50px;width:100%;text-align:center;overflow:hidden\"><strong>Big Stone</strong><br/><code>rgb(20, 43, 68)</code></p>\n",
       "</div><div style=\"display:inline-block;width:25%;height:150px;padding:1rem .5rem\">\n",
       "    <div style=\"background-color:rgb(29, 80, 141);height:100px;width:100%\"></div>\n",
       "    <p style=\"height:50px;width:100%;text-align:center;overflow:hidden\"><strong>Chambray</strong><br/><code>rgb(29, 80, 141)</code></p>\n",
       "</div><div style=\"display:inline-block;width:25%;height:150px;padding:1rem .5rem\">\n",
       "    <div style=\"background-color:rgb(40, 138, 214);height:100px;width:100%\"></div>\n",
       "    <p style=\"height:50px;width:100%;text-align:center;overflow:hidden\"><strong>Lochmara</strong><br/><code>rgb(40, 138, 214)</code></p>\n",
       "</div><div style=\"display:inline-block;width:25%;height:150px;padding:1rem .5rem\">\n",
       "    <div style=\"background-color:rgb(22, 201, 141);height:100px;width:100%\"></div>\n",
       "    <p style=\"height:50px;width:100%;text-align:center;overflow:hidden\"><strong>Caribbean Green</strong><br/><code>rgb(22, 201, 141)</code></p>\n",
       "</div><div style=\"display:inline-block;width:25%;height:150px;padding:1rem .5rem\">\n",
       "    <div style=\"background-color:rgb(254, 239, 109);height:100px;width:100%\"></div>\n",
       "    <p style=\"height:50px;width:100%;text-align:center;overflow:hidden\"><strong>Paris Daisy</strong><br/><code>rgb(254, 239, 109)</code></p>\n",
       "</div><div style=\"display:inline-block;width:25%;height:150px;padding:1rem .5rem\">\n",
       "    <div style=\"background-color:rgb(255, 200, 63);height:100px;width:100%\"></div>\n",
       "    <p style=\"height:50px;width:100%;text-align:center;overflow:hidden\"><strong>Saffron</strong><br/><code>rgb(255, 200, 63)</code></p>\n",
       "</div><div style=\"display:inline-block;width:25%;height:150px;padding:1rem .5rem\">\n",
       "    <div style=\"background-color:rgb(250, 94, 91);height:100px;width:100%\"></div>\n",
       "    <p style=\"height:50px;width:100%;text-align:center;overflow:hidden\"><strong>Carnation</strong><br/><code>rgb(250, 94, 91)</code></p>\n",
       "</div><div style=\"display:inline-block;width:25%;height:150px;padding:1rem .5rem\">\n",
       "    <div style=\"background-color:rgb(191, 83, 141);height:100px;width:100%\"></div>\n",
       "    <p style=\"height:50px;width:100%;text-align:center;overflow:hidden\"><strong>Mulberry</strong><br/><code>rgb(191, 83, 141)</code></p>\n",
       "</div><div style=\"display:inline-block;width:25%;height:150px;padding:1rem .5rem\">\n",
       "    <div style=\"background-color:rgb(104, 78, 121);height:100px;width:100%\"></div>\n",
       "    <p style=\"height:50px;width:100%;text-align:center;overflow:hidden\"><strong>Trendy Pink</strong><br/><code>rgb(104, 78, 121)</code></p>\n",
       "</div><div style=\"display:inline-block;width:25%;height:150px;padding:1rem .5rem\">\n",
       "    <div style=\"background-color:rgb(255, 112, 142);height:100px;width:100%\"></div>\n",
       "    <p style=\"height:50px;width:100%;text-align:center;overflow:hidden\"><strong>Brink Pink</strong><br/><code>rgb(255, 112, 142)</code></p>\n",
       "</div><div style=\"display:inline-block;width:25%;height:150px;padding:1rem .5rem\">\n",
       "    <div style=\"background-color:rgb(71, 168, 153);height:100px;width:100%\"></div>\n",
       "    <p style=\"height:50px;width:100%;text-align:center;overflow:hidden\"><strong>Keppel</strong><br/><code>rgb(71, 168, 153)</code></p>\n",
       "</div><div style=\"display:inline-block;width:25%;height:150px;padding:1rem .5rem\">\n",
       "    <div style=\"background-color:rgb(138, 190, 229);height:100px;width:100%\"></div>\n",
       "    <p style=\"height:50px;width:100%;text-align:center;overflow:hidden\"><strong>Malibu</strong><br/><code>rgb(138, 190, 229)</code></p>\n",
       "</div><div style=\"display:inline-block;width:25%;height:150px;padding:1rem .5rem\">\n",
       "    <div style=\"background-color:rgb(199, 230, 170);height:100px;width:100%\"></div>\n",
       "    <p style=\"height:50px;width:100%;text-align:center;overflow:hidden\"><strong>Caper</strong><br/><code>rgb(199, 230, 170)</code></p>\n",
       "</div><div style=\"display:inline-block;width:25%;height:150px;padding:1rem .5rem\">\n",
       "    <div style=\"background-color:rgb(207, 203, 175);height:100px;width:100%\"></div>\n",
       "    <p style=\"height:50px;width:100%;text-align:center;overflow:hidden\"><strong>Chino</strong><br/><code>rgb(207, 203, 175)</code></p>\n",
       "</div><div style=\"display:inline-block;width:25%;height:150px;padding:1rem .5rem\">\n",
       "    <div style=\"background-color:rgb(88, 44, 43);height:100px;width:100%\"></div>\n",
       "    <p style=\"height:50px;width:100%;text-align:center;overflow:hidden\"><strong>Buccaneer</strong><br/><code>rgb(88, 44, 43)</code></p>\n",
       "</div><div style=\"display:inline-block;width:25%;height:150px;padding:1rem .5rem\">\n",
       "    <div style=\"background-color:rgb(132, 30, 27);height:100px;width:100%\"></div>\n",
       "    <p style=\"height:50px;width:100%;text-align:center;overflow:hidden\"><strong>Falu Red</strong><br/><code>rgb(132, 30, 27)</code></p>\n",
       "</div>"
      ],
      "text/plain": [
       "<IPython.core.display.HTML object>"
      ]
     },
     "metadata": {},
     "output_type": "display_data"
    }
   ],
   "source": [
    "output = []\n",
    "\n",
    "for key, value in palette.items():\n",
    "    output.append(\"\"\"<div style=\"display:inline-block;width:25%;height:150px;padding:1rem .5rem\">\n",
    "    <div style=\"background-color:rgb{1};height:100px;width:100%\"></div>\n",
    "    <p style=\"height:50px;width:100%;text-align:center;overflow:hidden\"><strong>{0}</strong><br/><code>rgb{1}</code></p>\n",
    "</div>\"\"\".format(key.replace('-', ' ').title(), value))\n",
    "\n",
    "display(HTML(''.join(output)))"
   ]
  },
  {
   "cell_type": "code",
   "execution_count": 56,
   "metadata": {},
   "outputs": [
    {
     "name": "stdout",
     "output_type": "stream",
     "text": [
      "#288ad6\n"
     ]
    }
   ],
   "source": [
    "def colour_hex(rbg):\n",
    "    return '#{:02x}{:02x}{:02x}'.format(*rbg)\n",
    "\n",
    "print(colour_hex(primary_colour))"
   ]
  },
  {
   "cell_type": "code",
   "execution_count": 87,
   "metadata": {},
   "outputs": [
    {
     "name": "stdout",
     "output_type": "stream",
     "text": [
      "0.3211927369645976\n"
     ]
    }
   ],
   "source": [
    "# <https://www.w3.org/TR/2008/REC-WCAG20-20081211/#relativeluminancedef>\n",
    "\n",
    "def normalize(colour):\n",
    "    colour = colour / 255\n",
    "\n",
    "    if colour <= 0.03928:\n",
    "        return colour / 12.92\n",
    "    else:\n",
    "        return math.pow(((colour + 0.055) / 1.055), 2.4)\n",
    "\n",
    "def luminance(rgb):\n",
    "    red, green, blue = rgb\n",
    "    \n",
    "    return math.sqrt(0.299 * math.pow(normalize(red), 2)+\n",
    "                     0.587 * math.pow(normalize(green), 2) +\n",
    "                     0.144 * math.pow(normalize(blue), 2))\n",
    "\n",
    "print(luminance(primary_colour))"
   ]
  },
  {
   "cell_type": "code",
   "execution_count": 124,
   "metadata": {},
   "outputs": [
    {
     "name": "stdout",
     "output_type": "stream",
     "text": [
      "21.29778313018444\n",
      "1.0061609248862333\n"
     ]
    }
   ],
   "source": [
    "def contrast(a, b):\n",
    "    a = luminance(a)\n",
    "    b = luminance(b)\n",
    "    \n",
    "    min_lum = min(a, b)\n",
    "    max_lum = max(a, b)\n",
    "    \n",
    "    return (max_lum + 0.05) / (min_lum + 0.05)\n",
    "\n",
    "white = (255, 255, 255)\n",
    "black = (0, 0, 0)\n",
    "\n",
    "print(contrast(white, black))\n",
    "print(contrast(black, (1, 1, 1)))"
   ]
  },
  {
   "cell_type": "markdown",
   "metadata": {},
   "source": [
    "## Contrast Scoring\n",
    "\n",
    "* **Fail** - Your text doesn't have enough contrast with the background. You probably want to make it darker. This is a score of less than `3.0`.\n",
    "* **AA Large** - The smallest acceptable amount of contrast for type sizes of `18px` and larger. This is a score of at least `3.0`.\n",
    "* **AA** - This is the sweet spot for text sizes below ~`18px`. This is a score of at least `4.5`.\n",
    "* **AAA** - This is enhanced contrast with a score of at least `7.0`. Think longer form articles that will be read for a significant period of time."
   ]
  },
  {
   "cell_type": "code",
   "execution_count": 144,
   "metadata": {},
   "outputs": [
    {
     "name": "stdout",
     "output_type": "stream",
     "text": [
      "AAA\n",
      "Fail\n"
     ]
    }
   ],
   "source": [
    "def contrast_score(ratio):\n",
    "    if ratio >= 7.0:\n",
    "        return 'AAA'\n",
    "    elif ratio >= 4.5:\n",
    "        return 'AA'\n",
    "    elif ratio >= 3.0:\n",
    "        return 'AA Large'\n",
    "    else:\n",
    "        return 'Fail'\n",
    "\n",
    "print(contrast_score(contrast(white, black)))\n",
    "print(contrast_score(contrast(black, (1, 1, 1))))"
   ]
  },
  {
   "cell_type": "code",
   "execution_count": 145,
   "metadata": {},
   "outputs": [
    {
     "data": {
      "text/html": [
       "<div style=\"height:150px;width:25%;display:inline-block;margin:.5rem 1rem\">\n",
       "    <div style=\"background-color:rgb(40, 138, 214);color:rgb(255, 255, 255);height:100px;width:100%;overflow:hidden;text-align:center;padding:1rem\">\n",
       "        Lorem ipsum dolor sit amet, consectetur adipiscing elit. In blandit ligula eros, sit amet ornare metus mattis sed. Morbi congue.\n",
       "    </div>\n",
       "    <p style=\"height:50px;width:100%;overflow:hidden;text-align:center\">Fail</p>\n",
       "</div><div style=\"height:150px;width:25%;display:inline-block;margin:.5rem 1rem\">\n",
       "    <div style=\"background-color:rgb(40, 138, 214);color:rgb(0, 0, 0);height:100px;width:100%;overflow:hidden;text-align:center;padding:1rem\">\n",
       "        Lorem ipsum dolor sit amet, consectetur adipiscing elit. In blandit ligula eros, sit amet ornare metus mattis sed. Morbi congue.\n",
       "    </div>\n",
       "    <p style=\"height:50px;width:100%;overflow:hidden;text-align:center\">AAA</p>\n",
       "</div>"
      ],
      "text/plain": [
       "<IPython.core.display.HTML object>"
      ]
     },
     "metadata": {},
     "output_type": "display_data"
    }
   ],
   "source": [
    "template = \"\"\"<div style=\"height:150px;width:25%;display:inline-block;margin:.5rem 1rem\">\n",
    "    <div style=\"background-color:rgb{0};color:rgb{1};height:100px;width:100%;overflow:hidden;text-align:center;padding:1rem\">\n",
    "        Lorem ipsum dolor sit amet, consectetur adipiscing elit. In blandit ligula eros, sit amet ornare metus mattis sed. Morbi congue.\n",
    "    </div>\n",
    "    <p style=\"height:50px;width:100%;overflow:hidden;text-align:center\">{2}</p>\n",
    "</div>\"\"\"\n",
    "\n",
    "display(HTML(''.join([\n",
    "    template.format(primary_colour, white, contrast_score(contrast(primary_colour, white))),\n",
    "    template.format(primary_colour, black, contrast_score(contrast(primary_colour, black)))])))"
   ]
  },
  {
   "cell_type": "code",
   "execution_count": null,
   "metadata": {
    "collapsed": true
   },
   "outputs": [],
   "source": []
  }
 ],
 "metadata": {
  "kernelspec": {
   "display_name": "Python 3",
   "language": "python",
   "name": "python3"
  },
  "language_info": {
   "codemirror_mode": {
    "name": "ipython",
    "version": 3
   },
   "file_extension": ".py",
   "mimetype": "text/x-python",
   "name": "python",
   "nbconvert_exporter": "python",
   "pygments_lexer": "ipython3",
   "version": "3.6.1"
  }
 },
 "nbformat": 4,
 "nbformat_minor": 2
}
