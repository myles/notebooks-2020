{
 "cells": [
  {
   "cell_type": "code",
   "execution_count": 9,
   "metadata": {
    "collapsed": true
   },
   "outputs": [],
   "source": [
    "from pygments.formatters import HtmlFormatter\n",
    "from pygments.style import Style\n",
    "from pygments.token import Keyword, Name, Comment, String, Error, \\\n",
    "     Number, Operator, Generic, Whitespace, Punctuation, Other, Literal"
   ]
  },
  {
   "cell_type": "code",
   "execution_count": 19,
   "metadata": {
    "collapsed": true
   },
   "outputs": [],
   "source": [
    "class OldFashionedStyle(Style):\n",
    "    background_color = '#fff'\n",
    "    default_style = ''\n",
    "    \n",
    "    styles= {\n",
    "        Whitespace: 'underline #f8f8f8'\n",
    "    }"
   ]
  },
  {
   "cell_type": "code",
   "execution_count": 20,
   "metadata": {},
   "outputs": [
    {
     "name": "stdout",
     "output_type": "stream",
     "text": [
      ".hll { background-color: #ffffcc }\n",
      ".w { color: #f8f8f8; text-decoration: underline } /* Text.Whitespace */\n"
     ]
    }
   ],
   "source": [
    "print(HtmlFormatter(style=OldFashionedStyle).get_style_defs())"
   ]
  },
  {
   "cell_type": "code",
   "execution_count": null,
   "metadata": {
    "collapsed": true
   },
   "outputs": [],
   "source": []
  }
 ],
 "metadata": {
  "kernelspec": {
   "display_name": "Python 3",
   "language": "python",
   "name": "python3"
  },
  "language_info": {
   "codemirror_mode": {
    "name": "ipython",
    "version": 3
   },
   "file_extension": ".py",
   "mimetype": "text/x-python",
   "name": "python",
   "nbconvert_exporter": "python",
   "pygments_lexer": "ipython3",
   "version": "3.6.1"
  }
 },
 "nbformat": 4,
 "nbformat_minor": 2
}
