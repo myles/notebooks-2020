{
 "cells": [
  {
   "cell_type": "code",
   "execution_count": 131,
   "metadata": {},
   "outputs": [],
   "source": [
    "from urllib.parse import urlparse\n",
    "\n",
    "import requests\n",
    "\n",
    "\n",
    "class EmptyFileException(Exception):\n",
    "    pass\n",
    "\n",
    "\n",
    "class DoesNotContainContactException(Exception):\n",
    "    pass\n",
    "\n",
    "\n",
    "class SecurityTxt:\n",
    "    FIELD_CONTACT = 'contact'\n",
    "    FIELD_ENCRYPTION = 'encryption'\n",
    "    FIELD_ACKNOWLEDGEMENTS = 'acknowledgements'\n",
    "\n",
    "    FIELD_CHOICES = [\n",
    "        FIELD_CONTACT,\n",
    "        FIELD_ENCRYPTION,\n",
    "        FIELD_ACKNOWLEDGEMENTS\n",
    "    ]\n",
    "\n",
    "    def __init__(self, raw):\n",
    "        self.raw = raw\n",
    "    \n",
    "        self.fields = {\n",
    "            self.FIELD_CONTACT: [],\n",
    "            self.FIELD_ENCRYPTION: [],\n",
    "            self.FIELD_ACKNOWLEDGEMENTS: []\n",
    "        }\n",
    "    \n",
    "        self.comments = []\n",
    "\n",
    "    @property\n",
    "    def contact(self):\n",
    "        return self.fields[self.FIELD_CONTACT]\n",
    "    \n",
    "    @property\n",
    "    def encryption(self):\n",
    "        return self.fields[self.FIELD_ENCRYPTION]\n",
    "    \n",
    "    @property\n",
    "    def acknowledgements(self):\n",
    "        return self.fields[self.FIELD_ACKNOWLEDGEMENTS]\n",
    "\n",
    "    def parse(self):\n",
    "        if isinstance(self.raw, bytes):\n",
    "            self.raw = self.raw.decode('utf-8')\n",
    "\n",
    "        lines = self.raw.split('\\n')\n",
    "        \n",
    "        if len(lines) < 1:\n",
    "            raise EmptyFileException\n",
    "        \n",
    "        for line in lines:\n",
    "            line = line.strip()\n",
    "            \n",
    "            # Ignore empty lines\n",
    "            if not line:\n",
    "                continue\n",
    "            \n",
    "            # Comment\n",
    "            if line.startswith('#'):\n",
    "                self.comments.append(line.replace('#', '').strip())\n",
    "                continue\n",
    "            \n",
    "            if not ':' in line:\n",
    "                continue\n",
    "            \n",
    "            field, value = line.split(':', 1)\n",
    "            value = value.strip()\n",
    "            \n",
    "            if field.lower() in self.FIELD_CHOICES:\n",
    "                self.fields[field.lower()].append(value)\n",
    "        \n",
    "        if len(self.fields['contact']) < 1:\n",
    "            raise DoesNotContainContactException\n",
    "    \n",
    "    @classmethod\n",
    "    def parse_file(cls, file_path):\n",
    "        with open(file_path) as fobj:\n",
    "            content = fobj.read()\n",
    "\n",
    "        s_txt = cls(content)\n",
    "        s_txt.parse()\n",
    "\n",
    "        return s_txt\n",
    "    \n",
    "    @classmethod\n",
    "    def parse_url(cls, url):\n",
    "        if not url.endswith('/.well-known/security.txt'):\n",
    "            url_parsed = urlparse(url)\n",
    "            url = '{}://{}/.well-known/security.txt'.format(\n",
    "                url_parsed.scheme,\n",
    "                url_parsed.netloc\n",
    "            )\n",
    "        \n",
    "        resp = requests.get(url)\n",
    "\n",
    "        if not resp.ok:\n",
    "            raise resp.excpetion\n",
    "\n",
    "        s_txt = cls(resp.content)\n",
    "        s_txt.parse()\n",
    "\n",
    "        return s_txt"
   ]
  },
  {
   "cell_type": "code",
   "execution_count": 132,
   "metadata": {},
   "outputs": [
    {
     "name": "stdout",
     "output_type": "stream",
     "text": [
      "['https://hackerone.com/ed'] ['https://keybase.pub/edoverflow/pgp_key.asc'] ['https://hackerone.com/ed/thanks']\n"
     ]
    }
   ],
   "source": [
    "s_txt = SecurityTxt(\"\"\"# If you would like to report a security issue\n",
    "# you may report it to us on HackerOne.\n",
    "Contact: https://hackerone.com/ed\n",
    "Encryption: https://keybase.pub/edoverflow/pgp_key.asc\n",
    "Acknowledgements: https://hackerone.com/ed/thanks\"\"\")\n",
    "s_txt.parse()\n",
    "\n",
    "print(s_txt.contact, s_txt.encryption, s_txt.acknowledgements)"
   ]
  },
  {
   "cell_type": "code",
   "execution_count": 133,
   "metadata": {},
   "outputs": [
    {
     "name": "stdout",
     "output_type": "stream",
     "text": [
      "['https://hackerone.com/ed'] ['https://keybase.pub/edoverflow/pgp_key.asc'] ['https://hackerone.com/ed/thanks']\n"
     ]
    }
   ],
   "source": [
    "s_txt = SecurityTxt.parse_url('https://securitytxt.org')\n",
    "\n",
    "print(s_txt.contact, s_txt.encryption, s_txt.acknowledgements)"
   ]
  },
  {
   "cell_type": "code",
   "execution_count": 134,
   "metadata": {},
   "outputs": [
    {
     "name": "stdout",
     "output_type": "stream",
     "text": [
      "['https://hackerone.com/ed'] ['https://keybase.pub/edoverflow/pgp_key.asc'] ['https://hackerone.com/ed/thanks']\n"
     ]
    }
   ],
   "source": [
    "s_txt = SecurityTxt.parse_file('security.txt')\n",
    "\n",
    "print(s_txt.contact, s_txt.encryption, s_txt.acknowledgements)"
   ]
  },
  {
   "cell_type": "code",
   "execution_count": 135,
   "metadata": {},
   "outputs": [
    {
     "data": {
      "text/plain": [
       "<__main__.SecurityTxt at 0x11011ce48>"
      ]
     },
     "execution_count": 135,
     "metadata": {},
     "output_type": "execute_result"
    }
   ],
   "source": [
    "s_txt = SecurityTxt.parse_url('https://securitytxt.org/fdjasldfjklasd')"
   ]
  },
  {
   "cell_type": "code",
   "execution_count": null,
   "metadata": {},
   "outputs": [],
   "source": []
  }
 ],
 "metadata": {
  "kernelspec": {
   "display_name": "Python 3",
   "language": "python",
   "name": "python3"
  },
  "language_info": {
   "codemirror_mode": {
    "name": "ipython",
    "version": 3
   },
   "file_extension": ".py",
   "mimetype": "text/x-python",
   "name": "python",
   "nbconvert_exporter": "python",
   "pygments_lexer": "ipython3",
   "version": "3.7.0"
  }
 },
 "nbformat": 4,
 "nbformat_minor": 2
}
