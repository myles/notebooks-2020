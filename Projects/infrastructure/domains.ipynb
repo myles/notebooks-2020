{
 "cells": [
  {
   "cell_type": "markdown",
   "metadata": {},
   "source": [
    "# Domains"
   ]
  },
  {
   "cell_type": "code",
   "execution_count": 1,
   "metadata": {},
   "outputs": [],
   "source": [
    "import re\n",
    "import pandas as pd"
   ]
  },
  {
   "cell_type": "code",
   "execution_count": 2,
   "metadata": {},
   "outputs": [],
   "source": [
    "from dns.resolver import Resolver, NoAnswer\n",
    "\n",
    "resolver = Resolver()\n",
    "resolver.nameservers = ['8.8.8.8', '8.8.4.4']"
   ]
  },
  {
   "cell_type": "code",
   "execution_count": 3,
   "metadata": {},
   "outputs": [],
   "source": [
    "import whois"
   ]
  },
  {
   "cell_type": "code",
   "execution_count": 4,
   "metadata": {},
   "outputs": [
    {
     "data": {
      "text/html": [
       "<div>\n",
       "<style scoped>\n",
       "    .dataframe tbody tr th:only-of-type {\n",
       "        vertical-align: middle;\n",
       "    }\n",
       "\n",
       "    .dataframe tbody tr th {\n",
       "        vertical-align: top;\n",
       "    }\n",
       "\n",
       "    .dataframe thead th {\n",
       "        text-align: right;\n",
       "    }\n",
       "</style>\n",
       "<table border=\"1\" class=\"dataframe\">\n",
       "  <thead>\n",
       "    <tr style=\"text-align: right;\">\n",
       "      <th></th>\n",
       "      <th>domain</th>\n",
       "    </tr>\n",
       "  </thead>\n",
       "  <tbody>\n",
       "    <tr>\n",
       "      <th>0</th>\n",
       "      <td>6953727248492483.com</td>\n",
       "    </tr>\n",
       "    <tr>\n",
       "      <th>1</th>\n",
       "      <td>mylesb.ca</td>\n",
       "    </tr>\n",
       "    <tr>\n",
       "      <th>2</th>\n",
       "      <td>braithwaitecorp.com</td>\n",
       "    </tr>\n",
       "    <tr>\n",
       "      <th>3</th>\n",
       "      <td>mbraithwaite.com</td>\n",
       "    </tr>\n",
       "    <tr>\n",
       "      <th>4</th>\n",
       "      <td>mylesbraithwaite.ca</td>\n",
       "    </tr>\n",
       "  </tbody>\n",
       "</table>\n",
       "</div>"
      ],
      "text/plain": [
       "                 domain\n",
       "0  6953727248492483.com\n",
       "1             mylesb.ca\n",
       "2   braithwaitecorp.com\n",
       "3      mbraithwaite.com\n",
       "4   mylesbraithwaite.ca"
      ]
     },
     "execution_count": 4,
     "metadata": {},
     "output_type": "execute_result"
    }
   ],
   "source": [
    "df = pd.read_csv('data/domains.csv')\n",
    "\n",
    "df.head()"
   ]
  },
  {
   "cell_type": "code",
   "execution_count": 5,
   "metadata": {},
   "outputs": [
    {
     "data": {
      "text/plain": [
       "domain    6953727248492483.com\n",
       "Name: 0, dtype: object"
      ]
     },
     "execution_count": 5,
     "metadata": {},
     "output_type": "execute_result"
    }
   ],
   "source": [
    "row = next(df.iterrows())[1]\n",
    "\n",
    "row"
   ]
  },
  {
   "cell_type": "code",
   "execution_count": 6,
   "metadata": {},
   "outputs": [],
   "source": [
    "def registrar(row):\n",
    "    w = whois.whois(row.domain)\n",
    "    \n",
    "    try:\n",
    "        return w['registrar']\n",
    "    except:\n",
    "        None\n",
    "\n",
    "# registrar(row)"
   ]
  },
  {
   "cell_type": "code",
   "execution_count": 7,
   "metadata": {},
   "outputs": [],
   "source": [
    "#df['registrar'] = df.apply(lambda row: registrar(row), axis=1)\n",
    "\n",
    "#df.tail()"
   ]
  },
  {
   "cell_type": "code",
   "execution_count": 8,
   "metadata": {},
   "outputs": [
    {
     "ename": "AttributeError",
     "evalue": "'int' object has no attribute 'is_absolute'",
     "output_type": "error",
     "traceback": [
      "\u001b[0;31m---------------------------------------------------------------------------\u001b[0m",
      "\u001b[0;31mAttributeError\u001b[0m                            Traceback (most recent call last)",
      "\u001b[0;32m<ipython-input-8-a6381b6d48ed>\u001b[0m in \u001b[0;36m<module>\u001b[0;34m()\u001b[0m\n\u001b[1;32m      8\u001b[0m     \u001b[0;32mreturn\u001b[0m \u001b[0mns_value\u001b[0m\u001b[0;34m\u001b[0m\u001b[0m\n\u001b[1;32m      9\u001b[0m \u001b[0;34m\u001b[0m\u001b[0m\n\u001b[0;32m---> 10\u001b[0;31m \u001b[0mnameserver\u001b[0m\u001b[0;34m(\u001b[0m\u001b[0mrow\u001b[0m\u001b[0;34m)\u001b[0m\u001b[0;34m\u001b[0m\u001b[0m\n\u001b[0m",
      "\u001b[0;32m<ipython-input-8-a6381b6d48ed>\u001b[0m in \u001b[0;36mnameserver\u001b[0;34m(row)\u001b[0m\n\u001b[1;32m      1\u001b[0m \u001b[0;32mdef\u001b[0m \u001b[0mnameserver\u001b[0m\u001b[0;34m(\u001b[0m\u001b[0mrow\u001b[0m\u001b[0;34m)\u001b[0m\u001b[0;34m:\u001b[0m\u001b[0;34m\u001b[0m\u001b[0m\n\u001b[1;32m      2\u001b[0m     \u001b[0;32mtry\u001b[0m\u001b[0;34m:\u001b[0m\u001b[0;34m\u001b[0m\u001b[0m\n\u001b[0;32m----> 3\u001b[0;31m         \u001b[0manswer\u001b[0m \u001b[0;34m=\u001b[0m \u001b[0mresolver\u001b[0m\u001b[0;34m.\u001b[0m\u001b[0mquery\u001b[0m\u001b[0;34m(\u001b[0m\u001b[0mrow\u001b[0m\u001b[0;34m.\u001b[0m\u001b[0mname\u001b[0m\u001b[0;34m,\u001b[0m \u001b[0;34m'ns'\u001b[0m\u001b[0;34m)\u001b[0m\u001b[0;34m\u001b[0m\u001b[0m\n\u001b[0m\u001b[1;32m      4\u001b[0m     \u001b[0;32mexcept\u001b[0m \u001b[0mNoAnswer\u001b[0m\u001b[0;34m:\u001b[0m\u001b[0;34m\u001b[0m\u001b[0m\n\u001b[1;32m      5\u001b[0m         \u001b[0;32mreturn\u001b[0m \u001b[0;32mNone\u001b[0m\u001b[0;34m\u001b[0m\u001b[0m\n",
      "\u001b[0;32m/usr/local/lib/python3.6/site-packages/dns/resolver.py\u001b[0m in \u001b[0;36mquery\u001b[0;34m(self, qname, rdtype, rdclass, tcp, source, raise_on_no_answer, source_port)\u001b[0m\n\u001b[1;32m    905\u001b[0m             \u001b[0;32mraise\u001b[0m \u001b[0mNoMetaqueries\u001b[0m\u001b[0;34m\u001b[0m\u001b[0m\n\u001b[1;32m    906\u001b[0m         \u001b[0mqnames_to_try\u001b[0m \u001b[0;34m=\u001b[0m \u001b[0;34m[\u001b[0m\u001b[0;34m]\u001b[0m\u001b[0;34m\u001b[0m\u001b[0m\n\u001b[0;32m--> 907\u001b[0;31m         \u001b[0;32mif\u001b[0m \u001b[0mqname\u001b[0m\u001b[0;34m.\u001b[0m\u001b[0mis_absolute\u001b[0m\u001b[0;34m(\u001b[0m\u001b[0;34m)\u001b[0m\u001b[0;34m:\u001b[0m\u001b[0;34m\u001b[0m\u001b[0m\n\u001b[0m\u001b[1;32m    908\u001b[0m             \u001b[0mqnames_to_try\u001b[0m\u001b[0;34m.\u001b[0m\u001b[0mappend\u001b[0m\u001b[0;34m(\u001b[0m\u001b[0mqname\u001b[0m\u001b[0;34m)\u001b[0m\u001b[0;34m\u001b[0m\u001b[0m\n\u001b[1;32m    909\u001b[0m         \u001b[0;32melse\u001b[0m\u001b[0;34m:\u001b[0m\u001b[0;34m\u001b[0m\u001b[0m\n",
      "\u001b[0;31mAttributeError\u001b[0m: 'int' object has no attribute 'is_absolute'"
     ]
    }
   ],
   "source": [
    "def nameserver(row):\n",
    "    try:\n",
    "        answer = resolver.query(row.name, 'ns')\n",
    "    except NoAnswer:\n",
    "        return None\n",
    "        \n",
    "    ns_value = ' | '.join(ns.to_text() for ns in answer.rrset.items)\n",
    "    return ns_value\n",
    "\n",
    "nameserver(row)"
   ]
  },
  {
   "cell_type": "code",
   "execution_count": null,
   "metadata": {},
   "outputs": [],
   "source": [
    "df['dns'] = df.apply(lambda row: nameserver(row), axis=1)\n",
    "\n",
    "df.tail()"
   ]
  },
  {
   "cell_type": "code",
   "execution_count": null,
   "metadata": {},
   "outputs": [],
   "source": [
    "def mx_record(row):\n",
    "    try:\n",
    "        answer = resolver.query(row.domain, 'mx')\n",
    "    except NoAnswer:\n",
    "        return None\n",
    "    \n",
    "    mx_value = ' | '.join(ns.to_text() for ns in answer.rrset.items)\n",
    "    return mx_value\n",
    "\n",
    "mx_record(row)"
   ]
  },
  {
   "cell_type": "code",
   "execution_count": null,
   "metadata": {},
   "outputs": [],
   "source": [
    "df['mx'] = df.apply(lambda row: mx_record(row), axis=1)\n",
    "\n",
    "df.tail()"
   ]
  },
  {
   "cell_type": "code",
   "execution_count": null,
   "metadata": {},
   "outputs": [],
   "source": [
    "def xmpp_records(row):\n",
    "    try:\n",
    "        xmpp_client_domain = '_xmpp-client._tcp.{}'.format(row.domain)\n",
    "        xmpp_client_answer = resolver.query(xmpp_client_domain, 'srv')\n",
    "        \n",
    "        xmpp_server_domain = '_xmpp-server._tcp.{}'.format(row.domain)\n",
    "        xmpp_server_answer = resolver.query(xmpp_server_domain, 'srv')\n",
    "    except NoAnswer:\n",
    "        return None\n",
    "    \n",
    "    xmpp_client_value = ' | '.join(record.to_text() for record in xmpp_client_answer.rrset.items)\n",
    "    xmpp_server_value = ' | '.join(record.to_text() for record in xmpp_server_answer.rrset.items)\n",
    "    return ' | '.join([xmpp_client_value, xmpp_server_value])\n",
    "\n",
    "xmpp_records(row)"
   ]
  },
  {
   "cell_type": "code",
   "execution_count": null,
   "metadata": {},
   "outputs": [],
   "source": [
    "df['xmpp'] = df.apply(lambda row: xmpp_records(row), axis=1)\n",
    "\n",
    "df.tail()"
   ]
  },
  {
   "cell_type": "code",
   "execution_count": null,
   "metadata": {},
   "outputs": [],
   "source": [
    "def dkim_record(row):\n",
    "    try:\n",
    "        answer = resolver.query('default._domainkey.{}'.format(row.domain), 'txt')\n",
    "    except NoAnswer:\n",
    "        return None\n",
    "    \n",
    "    value = answer.rrset.items[0].to_text()\n",
    "    return value\n",
    "\n",
    "dkim_record(row)"
   ]
  },
  {
   "cell_type": "code",
   "execution_count": null,
   "metadata": {},
   "outputs": [],
   "source": [
    "df['dkim'] = df.apply(lambda row: dkim_record(row), axis=1)\n",
    "\n",
    "df.tail()"
   ]
  },
  {
   "cell_type": "code",
   "execution_count": null,
   "metadata": {},
   "outputs": [],
   "source": [
    "def dmarc_record(row):\n",
    "    try:\n",
    "        answer = resolver.query('_dmarc.{}'.format(row.domain), 'txt')\n",
    "    except NoAnswer:\n",
    "        return None\n",
    "    \n",
    "    value = answer.rrset.items[0].to_text()\n",
    "    return value\n",
    "\n",
    "dmarc_record(row)"
   ]
  },
  {
   "cell_type": "code",
   "execution_count": null,
   "metadata": {},
   "outputs": [],
   "source": [
    "df['dmarc'] = df.apply(lambda row: dmarc_record(row), axis=1)\n",
    "\n",
    "df.tail()"
   ]
  },
  {
   "cell_type": "code",
   "execution_count": null,
   "metadata": {},
   "outputs": [],
   "source": [
    "def spf_record(row):\n",
    "    try:\n",
    "        answer = resolver.query(row.domain, 'txt')\n",
    "    except NoAnswer:\n",
    "        return None\n",
    "    \n",
    "    for record in answer.rrset.items:\n",
    "        if 'spf' in record.to_text():\n",
    "            return record.to_text()\n",
    "    \n",
    "    return None\n",
    "\n",
    "spf_record(row)"
   ]
  },
  {
   "cell_type": "code",
   "execution_count": null,
   "metadata": {},
   "outputs": [],
   "source": [
    "df['spf'] = df.apply(lambda row: spf_record(row), axis=1)\n",
    "\n",
    "df.tail()"
   ]
  },
  {
   "cell_type": "code",
   "execution_count": null,
   "metadata": {},
   "outputs": [],
   "source": [
    "def autoconfig_record(row):\n",
    "    try:\n",
    "        answer = resolver.query('autoconfig.{}'.format(row.domain), 'cname')\n",
    "    except NoAnswer:\n",
    "        return None\n",
    "    \n",
    "    value = answer.rrset.items[0].to_text()\n",
    "    return value\n",
    "\n",
    "autoconfig_record(row)"
   ]
  },
  {
   "cell_type": "code",
   "execution_count": null,
   "metadata": {},
   "outputs": [],
   "source": [
    "df['autoconfig'] = df.apply(lambda row: autoconfig_record(row), axis=1)\n",
    "\n",
    "df.tail()"
   ]
  },
  {
   "cell_type": "code",
   "execution_count": null,
   "metadata": {},
   "outputs": [],
   "source": [
    "def autodiscover_record(row):\n",
    "    try:\n",
    "        answer = resolver.query('autodiscover.{}'.format(row.domain), 'cname')\n",
    "    except NoAnswer:\n",
    "        return None\n",
    "    \n",
    "    value = answer.rrset.items[0].to_text()\n",
    "    return value\n",
    "\n",
    "autodiscover_record(row)"
   ]
  },
  {
   "cell_type": "code",
   "execution_count": null,
   "metadata": {},
   "outputs": [],
   "source": [
    "df['autodiscover'] = df.apply(lambda row: autodiscover_record(row), axis=1)\n",
    "\n",
    "df.tail()"
   ]
  },
  {
   "cell_type": "code",
   "execution_count": null,
   "metadata": {},
   "outputs": [],
   "source": [
    "df.to_csv('domains.csv')"
   ]
  },
  {
   "cell_type": "code",
   "execution_count": null,
   "metadata": {},
   "outputs": [],
   "source": []
  }
 ],
 "metadata": {
  "kernelspec": {
   "display_name": "Python 3",
   "language": "python",
   "name": "python3"
  },
  "language_info": {
   "codemirror_mode": {
    "name": "ipython",
    "version": 3
   },
   "file_extension": ".py",
   "mimetype": "text/x-python",
   "name": "python",
   "nbconvert_exporter": "python",
   "pygments_lexer": "ipython3",
   "version": "3.6.3"
  }
 },
 "nbformat": 4,
 "nbformat_minor": 2
}
