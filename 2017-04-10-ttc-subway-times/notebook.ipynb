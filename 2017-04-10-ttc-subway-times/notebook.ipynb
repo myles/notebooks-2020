{
 "cells": [
  {
   "cell_type": "code",
   "execution_count": 12,
   "metadata": {
    "collapsed": true
   },
   "outputs": [],
   "source": [
    "from sqlalchemy import create_engine\n",
    "\n",
    "ttc_subway_times = create_engine('postgresql://localhost/ttc_subway_times')"
   ]
  },
  {
   "cell_type": "code",
   "execution_count": 13,
   "metadata": {
    "collapsed": true
   },
   "outputs": [],
   "source": [
    "import pandas as pd\n",
    "import numpy as np"
   ]
  },
  {
   "cell_type": "code",
   "execution_count": 15,
   "metadata": {},
   "outputs": [],
   "source": [
    "df = pd.read_sql_query(\"SELECT * FROM ntas_data\", con=ttc_subway_times)"
   ]
  },
  {
   "cell_type": "code",
   "execution_count": 16,
   "metadata": {},
   "outputs": [
    {
     "data": {
      "text/html": [
       "<div>\n",
       "<table border=\"1\" class=\"dataframe\">\n",
       "  <thead>\n",
       "    <tr style=\"text-align: right;\">\n",
       "      <th></th>\n",
       "      <th>requestid</th>\n",
       "      <th>id</th>\n",
       "      <th>station_char</th>\n",
       "      <th>subwayline</th>\n",
       "      <th>system_message_type</th>\n",
       "      <th>timint</th>\n",
       "      <th>traindirection</th>\n",
       "      <th>trainid</th>\n",
       "      <th>train_message</th>\n",
       "    </tr>\n",
       "  </thead>\n",
       "  <tbody>\n",
       "    <tr>\n",
       "      <th>5741032</th>\n",
       "      <td>996</td>\n",
       "      <td>13084509600</td>\n",
       "      <td>OSS1</td>\n",
       "      <td>BD</td>\n",
       "      <td>Normal</td>\n",
       "      <td>6.696066</td>\n",
       "      <td>East</td>\n",
       "      <td>207</td>\n",
       "      <td>Arriving</td>\n",
       "    </tr>\n",
       "    <tr>\n",
       "      <th>5741033</th>\n",
       "      <td>996</td>\n",
       "      <td>13084509529</td>\n",
       "      <td>OSS2</td>\n",
       "      <td>BD</td>\n",
       "      <td>Normal</td>\n",
       "      <td>3.491176</td>\n",
       "      <td>West</td>\n",
       "      <td>223</td>\n",
       "      <td>Arriving</td>\n",
       "    </tr>\n",
       "    <tr>\n",
       "      <th>5741034</th>\n",
       "      <td>996</td>\n",
       "      <td>13084509530</td>\n",
       "      <td>OSS2</td>\n",
       "      <td>BD</td>\n",
       "      <td>Normal</td>\n",
       "      <td>7.282740</td>\n",
       "      <td>West</td>\n",
       "      <td>229</td>\n",
       "      <td>Arriving</td>\n",
       "    </tr>\n",
       "    <tr>\n",
       "      <th>5741035</th>\n",
       "      <td>996</td>\n",
       "      <td>13084509531</td>\n",
       "      <td>OSS2</td>\n",
       "      <td>BD</td>\n",
       "      <td>Normal</td>\n",
       "      <td>11.704460</td>\n",
       "      <td>West</td>\n",
       "      <td>227</td>\n",
       "      <td>Arriving</td>\n",
       "    </tr>\n",
       "    <tr>\n",
       "      <th>5741036</th>\n",
       "      <td>997</td>\n",
       "      <td>13084509601</td>\n",
       "      <td>CHR1</td>\n",
       "      <td>BD</td>\n",
       "      <td>Normal</td>\n",
       "      <td>1.230456</td>\n",
       "      <td>East</td>\n",
       "      <td>205</td>\n",
       "      <td>Arriving</td>\n",
       "    </tr>\n",
       "  </tbody>\n",
       "</table>\n",
       "</div>"
      ],
      "text/plain": [
       "         requestid           id station_char subwayline system_message_type  \\\n",
       "5741032        996  13084509600         OSS1         BD              Normal   \n",
       "5741033        996  13084509529         OSS2         BD              Normal   \n",
       "5741034        996  13084509530         OSS2         BD              Normal   \n",
       "5741035        996  13084509531         OSS2         BD              Normal   \n",
       "5741036        997  13084509601         CHR1         BD              Normal   \n",
       "\n",
       "            timint traindirection  trainid train_message  \n",
       "5741032   6.696066           East      207      Arriving  \n",
       "5741033   3.491176           West      223      Arriving  \n",
       "5741034   7.282740           West      229      Arriving  \n",
       "5741035  11.704460           West      227      Arriving  \n",
       "5741036   1.230456           East      205      Arriving  "
      ]
     },
     "execution_count": 16,
     "metadata": {},
     "output_type": "execute_result"
    }
   ],
   "source": [
    "df.tail()"
   ]
  },
  {
   "cell_type": "code",
   "execution_count": null,
   "metadata": {
    "collapsed": true
   },
   "outputs": [],
   "source": []
  }
 ],
 "metadata": {
  "kernelspec": {
   "display_name": "Python 3",
   "language": "python",
   "name": "python3"
  },
  "language_info": {
   "codemirror_mode": {
    "name": "ipython",
    "version": 3
   },
   "file_extension": ".py",
   "mimetype": "text/x-python",
   "name": "python",
   "nbconvert_exporter": "python",
   "pygments_lexer": "ipython3",
   "version": "3.6.0"
  }
 },
 "nbformat": 4,
 "nbformat_minor": 2
}
