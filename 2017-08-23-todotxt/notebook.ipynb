{
 "cells": [
  {
   "cell_type": "code",
   "execution_count": 199,
   "metadata": {},
   "outputs": [],
   "source": [
    "import re\n",
    "import pprint\n",
    "\n",
    "pp = pprint.PrettyPrinter()"
   ]
  },
  {
   "cell_type": "code",
   "execution_count": 289,
   "metadata": {},
   "outputs": [],
   "source": [
    "pattern_todotxt = r'''^\n",
    "(?P<completion>x?)(\\s?)\n",
    "(\\(?)(?P<priority>\\w?)(\\)?)(\\s?)\n",
    "(?P<completion_date>(\\d{4}-\\d{2}-\\d{2})?)(\\s?)\n",
    "(?P<creation_date>(\\d{4}-\\d{2}-\\d{2})?)(\\s?)\n",
    "(?P<description>.*)\n",
    "$'''\n",
    "\n",
    "regex_todotxt = re.compile(pattern_todotxt, re.X|re.I)\n",
    "\n",
    "pattern_project_tag = r'(?P<context>@\\w+)(?P<project>\\+\\w+)'\n",
    "\n",
    "regex_project_tag = re.compile(pattern_project_tag, re.X|re.I)"
   ]
  },
  {
   "cell_type": "code",
   "execution_count": 290,
   "metadata": {},
   "outputs": [
    {
     "name": "stdout",
     "output_type": "stream",
     "text": [
      "{'completion': 'x',\n",
      " 'completion_date': '2017-08-23',\n",
      " 'creation_date': '2017-08-22',\n",
      " 'description': 'measure space for +shapelShelving @chapel due:2017-08-22',\n",
      " 'priority': 'A'}\n"
     ]
    }
   ],
   "source": [
    "match = regex_todotxt.search('x (A) 2017-08-23 2017-08-22 measure space for +shapelShelving @chapel due:2017-08-22')\n",
    "pp.pprint(match.groupdict())"
   ]
  },
  {
   "cell_type": "code",
   "execution_count": 291,
   "metadata": {},
   "outputs": [
    {
     "ename": "AttributeError",
     "evalue": "'NoneType' object has no attribute 'groupdict'",
     "output_type": "error",
     "traceback": [
      "\u001b[0;31m---------------------------------------------------------------------------\u001b[0m",
      "\u001b[0;31mAttributeError\u001b[0m                            Traceback (most recent call last)",
      "\u001b[0;32m<ipython-input-291-ed6c0c0ee8b4>\u001b[0m in \u001b[0;36m<module>\u001b[0;34m()\u001b[0m\n\u001b[1;32m      1\u001b[0m \u001b[0mmatch\u001b[0m \u001b[0;34m=\u001b[0m \u001b[0mregex_project_tag\u001b[0m\u001b[0;34m.\u001b[0m\u001b[0msearch\u001b[0m\u001b[0;34m(\u001b[0m\u001b[0;34m'measure space for +shapelShelving @chapel due:2017-08-22'\u001b[0m\u001b[0;34m)\u001b[0m\u001b[0;34m\u001b[0m\u001b[0m\n\u001b[0;32m----> 2\u001b[0;31m \u001b[0mpp\u001b[0m\u001b[0;34m.\u001b[0m\u001b[0mpprint\u001b[0m\u001b[0;34m(\u001b[0m\u001b[0mmatch\u001b[0m\u001b[0;34m.\u001b[0m\u001b[0mgroupdict\u001b[0m\u001b[0;34m(\u001b[0m\u001b[0;34m)\u001b[0m\u001b[0;34m)\u001b[0m\u001b[0;34m\u001b[0m\u001b[0m\n\u001b[0m",
      "\u001b[0;31mAttributeError\u001b[0m: 'NoneType' object has no attribute 'groupdict'"
     ]
    }
   ],
   "source": [
    "match = regex_project_tag.search('measure space for +shapelShelving @chapel due:2017-08-22')\n",
    "pp.pprint(match.groupdict())"
   ]
  },
  {
   "cell_type": "code",
   "execution_count": null,
   "metadata": {
    "collapsed": true
   },
   "outputs": [],
   "source": []
  }
 ],
 "metadata": {
  "kernelspec": {
   "display_name": "Python 3",
   "language": "python",
   "name": "python3"
  },
  "language_info": {
   "codemirror_mode": {
    "name": "ipython",
    "version": 3
   },
   "file_extension": ".py",
   "mimetype": "text/x-python",
   "name": "python",
   "nbconvert_exporter": "python",
   "pygments_lexer": "ipython3",
   "version": "3.6.2"
  }
 },
 "nbformat": 4,
 "nbformat_minor": 2
}
