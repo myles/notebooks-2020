{
 "cells": [
  {
   "cell_type": "markdown",
   "metadata": {},
   "source": [
    "# How to Use the `multiprocessing` Library in Python\n",
    "\n",
    "`multiprocessing` is a standard Python library for spawning processes using a simplar API to the `threading` module."
   ]
  },
  {
   "cell_type": "code",
   "execution_count": 138,
   "metadata": {},
   "outputs": [
    {
     "name": "stdout",
     "output_type": "stream",
     "text": [
      "(3, True)\n",
      "(4, False)\n"
     ]
    }
   ],
   "source": [
    "import math\n",
    "\n",
    "def is_prime(number):\n",
    "    \"\"\"\n",
    "    Is a number a prime number.\n",
    "    \"\"\"\n",
    "    if number % 2 == 0 and number > 2:\n",
    "        return (number, False)\n",
    "    else:\n",
    "        return (number, True)\n",
    "    \n",
    "# Let's do a quick test.\n",
    "print(is_prime(3))\n",
    "print(is_prime(4))"
   ]
  },
  {
   "cell_type": "code",
   "execution_count": 139,
   "metadata": {},
   "outputs": [],
   "source": [
    "from multiprocessing import Pool\n",
    "\n",
    "with Pool() as pool:\n",
    "    results = pool.map(is_prime, range(80, 90))"
   ]
  },
  {
   "cell_type": "code",
   "execution_count": 140,
   "metadata": {},
   "outputs": [
    {
     "name": "stdout",
     "output_type": "stream",
     "text": [
      "81 is a prime number.\n",
      "83 is a prime number.\n",
      "85 is a prime number.\n",
      "87 is a prime number.\n",
      "89 is a prime number.\n"
     ]
    }
   ],
   "source": [
    "for number, is_prime in results:\n",
    "    if is_prime:\n",
    "        print('{} is a prime number.'.format(number))"
   ]
  },
  {
   "cell_type": "code",
   "execution_count": 146,
   "metadata": {},
   "outputs": [],
   "source": [
    "import csv\n",
    "\n",
    "with open('./data/dataOct-5-2017.csv') as fobj:\n",
    "    reader = csv.DictReader(fobj)\n",
    "    data = list(reader)"
   ]
  },
  {
   "cell_type": "code",
   "execution_count": 147,
   "metadata": {},
   "outputs": [],
   "source": [
    "COMPANIES = [\n",
    "    {'id': 893, 'name': 'Duls Volutpat Nunc'},\n",
    "    {'id': 132, 'name': 'Elnm Assoc'},\n",
    "    {'id': 524, 'name': 'Amet Lorem'}\n",
    "]"
   ]
  },
  {
   "cell_type": "code",
   "execution_count": 148,
   "metadata": {},
   "outputs": [
    {
     "data": {
      "text/plain": [
       "({'company': 'Erat Inc.'}, {132: 'Elnm Assoc'}, 27)"
      ]
     },
     "execution_count": 148,
     "metadata": {},
     "output_type": "execute_result"
    }
   ],
   "source": [
    "from fuzzywuzzy import fuzz, process\n",
    "\n",
    "def company_exists(person):\n",
    "    choices = [{c['id']: c['name']} for c in COMPANIES]\n",
    "    \n",
    "    match, score = process.extractOne(person['company'],\n",
    "                                      choices=choices,\n",
    "                                      scorer=fuzz.token_sort_ratio)\n",
    "    \n",
    "    return (person, match, score)\n",
    "\n",
    "company_exists({'company': 'Erat Inc.'})"
   ]
  },
  {
   "cell_type": "code",
   "execution_count": 149,
   "metadata": {},
   "outputs": [],
   "source": [
    "from multiprocessing import Pool\n",
    "\n",
    "with Pool() as pool:\n",
    "    results = pool.map(company_exists, data)"
   ]
  },
  {
   "cell_type": "code",
   "execution_count": 150,
   "metadata": {},
   "outputs": [
    {
     "name": "stdout",
     "output_type": "stream",
     "text": [
      "OrderedDict([('name', 'Chandler Miranda'), ('company', 'Duis Volutpat Nunc Ltd'), ('salary', '$45,845')])\n",
      "OrderedDict([('name', 'Renee J. Jordan'), ('company', 'Amet Lorem Ltd'), ('salary', '$31,809')])\n"
     ]
    }
   ],
   "source": [
    "for person, match, score in results:\n",
    "    if score > 70:\n",
    "        print(person)"
   ]
  },
  {
   "cell_type": "code",
   "execution_count": null,
   "metadata": {},
   "outputs": [],
   "source": []
  }
 ],
 "metadata": {
  "kernelspec": {
   "display_name": "Python 3",
   "language": "python",
   "name": "python3"
  },
  "language_info": {
   "codemirror_mode": {
    "name": "ipython",
    "version": 3
   },
   "file_extension": ".py",
   "mimetype": "text/x-python",
   "name": "python",
   "nbconvert_exporter": "python",
   "pygments_lexer": "ipython3",
   "version": "3.6.2"
  }
 },
 "nbformat": 4,
 "nbformat_minor": 2
}
